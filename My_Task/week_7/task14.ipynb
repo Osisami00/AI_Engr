{
 "cells": [
  {
   "cell_type": "markdown",
   "id": "914c0555",
   "metadata": {},
   "source": [
    "\n",
    "\n",
    "## Matrix Class Task"
   ]
  },
  {
   "cell_type": "markdown",
   "id": "e1edb55c",
   "metadata": {
    "vscode": {
     "languageId": "plaintext"
    }
   },
   "source": [
    "#  Question 1:Identify the number of rows and columns in each matrix\n",
    "\n",
    "# A = [[2, -1, 3], [0, 4, 1]]   # A is 2x3 matrix\n",
    "# B = [[1, 2], [-2, 0], [5, -3]]  #B is 3x2 matrix "
   ]
  },
  {
   "cell_type": "code",
   "execution_count": 1,
   "id": "9f051a58",
   "metadata": {},
   "outputs": [],
   "source": [
    "# Question 2: Deatermine whether the matrices can be multiplied. \n",
    "# If so, specify whether its (AB), (BA) or both\n",
    "\n",
    "# Answer: Only matrices (AB) can be multiplied because the number of row matrix A is the same with number of column B. \n",
    "# matrices (BA) cannot be multiplied because the row number of matrix A (which is three) is more than matric B (which is two). \n",
    "# It is only possible one of the matrices is transposed to either 2x3 or 3x2 matrix \n",
    "\n",
    "# A = [[2, -1, 3], [0, 4, 1]]\n",
    "# B = [[1, 2], [-2, 0], [5, -3]]\n",
    "\n",
    "# AB= [[2.1 + -1(-2) + 3.5 |  2.2 + -1(0) + 3(-3)],  [0.1 + 4(-2) + 1.5 |   0.2  + 4.0  +  1(-3)]]\n",
    "# AB = [[2 + 2 + 15 | 4 + 0 + (-9)], [0 + (-8) + 5 | 0 + 0 + (-3)]]\n",
    "# AB = [[19 -5] [-3 -3]]"
   ]
  },
  {
   "cell_type": "code",
   "execution_count": 3,
   "id": "49647068",
   "metadata": {},
   "outputs": [
    {
     "data": {
      "text/plain": [
       "array([[19, -5],\n",
       "       [-3, -3]])"
      ]
     },
     "execution_count": 3,
     "metadata": {},
     "output_type": "execute_result"
    }
   ],
   "source": [
    "# Question 3:  If the multiplication is defined, compute the resulting matrix.\n",
    "import numpy as np\n",
    "\n",
    "A = np.array([[2, -1, 3], \n",
    "              [0, 4, 1]])\n",
    "B = np.array([[1, 2], \n",
    "              [-2, 0], \n",
    "              [5, -3]])\n",
    "\n",
    "\n",
    "\n",
    "AB = np.dot(A,B)\n",
    "AB"
   ]
  },
  {
   "cell_type": "code",
   "execution_count": null,
   "id": "180d7012",
   "metadata": {},
   "outputs": [],
   "source": []
  }
 ],
 "metadata": {
  "kernelspec": {
   "display_name": "Osisami",
   "language": "python",
   "name": "python3"
  },
  "language_info": {
   "codemirror_mode": {
    "name": "ipython",
    "version": 3
   },
   "file_extension": ".py",
   "mimetype": "text/x-python",
   "name": "python",
   "nbconvert_exporter": "python",
   "pygments_lexer": "ipython3",
   "version": "3.13.6"
  }
 },
 "nbformat": 4,
 "nbformat_minor": 5
}
