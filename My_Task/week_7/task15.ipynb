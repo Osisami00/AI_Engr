{
 "cells": [
  {
   "cell_type": "markdown",
   "id": "2eb08e46",
   "metadata": {},
   "source": [
    "Class Task 3"
   ]
  },
  {
   "cell_type": "markdown",
   "id": "ac53027f",
   "metadata": {},
   "source": [
    "A = np.array([[2, -1] [0, 3]])\n",
    "B = np.array([[1, 4] [-2, 5]])\n",
    "\n",
    "c = 2\n",
    "d = 3\n",
    "\n"
   ]
  },
  {
   "cell_type": "markdown",
   "id": "12d2639f",
   "metadata": {},
   "source": [
    "Compute the following: (cA), (dB), and (c+d)A\n",
    "\n",
    "cA where:\n",
    "\n",
    "A = np.array([[2, -1] [0, 3]])\n",
    "c = 2\n",
    "\n",
    "[[2.2 2.(-1)], [2.0  2.3]]\n",
    "[[4 -2][0 6]]\n",
    "\n",
    "\n",
    "cA = np.array([[4 -2][0 6]])"
   ]
  },
  {
   "cell_type": "markdown",
   "id": "d1ef4220",
   "metadata": {},
   "source": [
    "dB where \n",
    "\n",
    "B = np.array([[1, 4] [-2, 5]])\n",
    "d = 3\n",
    "\n",
    "[[3.1 3.4], [3.(-2)  3.5]]\n",
    "[[3 12][-6 15]]\n",
    "\n",
    "dB = np.array([[3 12][-6 15]])"
   ]
  },
  {
   "cell_type": "markdown",
   "id": "030ab4ce",
   "metadata": {},
   "source": [
    "(c+d)A where:\n",
    "\n",
    "c = 2\n",
    "d = 3\n",
    "A = np.array([[2, -1] [0, 3]])\n",
    "\n",
    "step 1:\n",
    "c + d = 2 + 3 =5\n",
    "\n",
    "step 2: multiply array A by c+d (5)\n",
    "[[5.2 5.(-1)], [5.0  5.3]]\n",
    "[[10 -5][0 15]]\n",
    "\n",
    "c + d(A) = np.array([[10 -5][0 15]])\n",
    "\n"
   ]
  },
  {
   "cell_type": "markdown",
   "id": "b1da9327",
   "metadata": {},
   "source": [
    "## Question B"
   ]
  },
  {
   "cell_type": "markdown",
   "id": "76817c91",
   "metadata": {},
   "source": [
    "Using the resullt goten, verify the scaler multiplication properties"
   ]
  }
 ],
 "metadata": {
  "language_info": {
   "name": "python"
  }
 },
 "nbformat": 4,
 "nbformat_minor": 5
}
