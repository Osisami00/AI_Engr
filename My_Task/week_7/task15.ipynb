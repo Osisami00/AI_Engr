{
 "cells": [
  {
   "cell_type": "markdown",
   "id": "2eb08e46",
   "metadata": {},
   "source": [
    "Class Task 3"
   ]
  },
  {
   "cell_type": "markdown",
   "id": "ac53027f",
   "metadata": {},
   "source": [
    "A = np.array([[2, -1] [0, 3]])\n",
    "B = np.array([[1, 4] [-2, 5]])\n",
    "\n",
    "c = 2\n",
    "d = 3"
   ]
  },
  {
   "cell_type": "code",
   "execution_count": null,
   "id": "12d2639f",
   "metadata": {},
   "outputs": [],
   "source": []
  }
 ],
 "metadata": {
  "language_info": {
   "name": "python"
  }
 },
 "nbformat": 4,
 "nbformat_minor": 5
}
