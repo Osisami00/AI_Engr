{
 "cells": [
  {
   "cell_type": "markdown",
   "id": "3956ef59",
   "metadata": {},
   "source": [
    "Question 1"
   ]
  },
  {
   "cell_type": "code",
   "execution_count": 2,
   "id": "007b165c",
   "metadata": {},
   "outputs": [],
   "source": [
    "import numpy as np"
   ]
  },
  {
   "cell_type": "code",
   "execution_count": 6,
   "id": "7e81a773",
   "metadata": {},
   "outputs": [],
   "source": [
    "A = np.array([[2, -1], \n",
    "            [0, 3]])\n",
    "B = np.array([[1, 4], \n",
    "            [-2, 5]])\n",
    "\n",
    "c = 2\n",
    "d = 3\n"
   ]
  },
  {
   "cell_type": "code",
   "execution_count": 9,
   "id": "72913f84",
   "metadata": {},
   "outputs": [
    {
     "name": "stdout",
     "output_type": "stream",
     "text": [
      "cA equals:\n",
      " [[ 4 -2]\n",
      " [ 0  6]]\n"
     ]
    }
   ],
   "source": [
    "# Compute the following: (cA), (dB), and (c+d)A\n",
    "\n",
    "# cA where:\n",
    "c = 2\n",
    "A = np.array([[2, -1], [0, 3]])\n",
    "\n",
    "cA = np.dot(c, A)\n",
    "print(\"cA equals:\\n\", cA)"
   ]
  },
  {
   "cell_type": "code",
   "execution_count": null,
   "id": "b3b1d322",
   "metadata": {},
   "outputs": [
    {
     "name": "stdout",
     "output_type": "stream",
     "text": [
      "dB equals:\n",
      " [[ 3 12]\n",
      " [-6 15]]\n"
     ]
    }
   ],
   "source": [
    "# dB where \n",
    "d = 3\n",
    "B = np.array([[1, 4], [-2, 5]])\n",
    "\n",
    "\n",
    "dB = np.dot(d, B)\n",
    "print(\"dB equals:\\n\", dB)\n",
    "\n"
   ]
  },
  {
   "cell_type": "code",
   "execution_count": null,
   "id": "fcbda834",
   "metadata": {},
   "outputs": [
    {
     "name": "stdout",
     "output_type": "stream",
     "text": [
      "c + d: 5\n",
      "c + d(A):\n",
      " [[10 -5]\n",
      " [ 0 15]]\n"
     ]
    }
   ],
   "source": [
    "# (c+d)A where:\n",
    "\n",
    "c = 2\n",
    "d = 3\n",
    "A = np.array([[2, -1], [0, 3]])\n",
    "\n",
    "# step 1:\n",
    "c_plus_d = c + d\n",
    "print(\"c + d:\", c_plus_d)\n",
    "\n",
    "# step 2: multiply array A by c+d (5)\n",
    "c_plus_d = c + d\n",
    "A = np.array([[2, -1], [0, 3]])\n",
    "c_plus_d_times_A = np.dot(c_plus_d, A)\n",
    "print(\"c + d(A):\\n\", c_plus_d_times_A)\n"
   ]
  },
  {
   "cell_type": "markdown",
   "id": "db4a53c2",
   "metadata": {},
   "source": [
    "Question B\n",
    "\n",
    "Using the resullt gotten, verify the scaler multiplication properties"
   ]
  },
  {
   "cell_type": "markdown",
   "id": "815df0d4",
   "metadata": {},
   "source": [
    "1. Associativity of scaler multiplication"
   ]
  },
  {
   "cell_type": "code",
   "execution_count": 23,
   "id": "f82b7b5b",
   "metadata": {},
   "outputs": [
    {
     "name": "stdout",
     "output_type": "stream",
     "text": [
      "c: 2\n",
      "A:\n",
      " [[ 2 -1]\n",
      " [ 0  3]]\n",
      "c multiply A:\n",
      " [[ 4 -2]\n",
      " [ 0  6]]\n",
      "c multiply A:\n",
      " [[ 4 -2]\n",
      " [ 0  6]]\n",
      "Associative: True\n"
     ]
    }
   ],
   "source": [
    "# cA where:\n",
    "c = 2\n",
    "A = np.array([[2, -1], [0, 3]])\n",
    "\n",
    "print(\"c:\", c)\n",
    "print(\"A:\\n\", A)\n",
    "\n",
    "# prove that cA = Ac\n",
    "\n",
    "cA =np.dot(c, A)\n",
    "print(\"c multiply A:\\n\", cA)\n",
    "\n",
    "Ac = np.dot(A, c)\n",
    "print(\"c multiply A:\\n\", cA)\n",
    "\n",
    "left = c * A\n",
    "right = A * c\n",
    "\n",
    "print(f\"Associative: {np.array_equal(left, right)}\")\n",
    "\n",
    "# cA == Ac  proving the associativity property of scaler multiplication"
   ]
  },
  {
   "cell_type": "code",
   "execution_count": 24,
   "id": "e47ce36a",
   "metadata": {},
   "outputs": [
    {
     "name": "stdout",
     "output_type": "stream",
     "text": [
      "d: 3\n",
      "B:\n",
      " [[ 1  4]\n",
      " [-2  5]]\n",
      "d multiply B:\n",
      " [[ 3 12]\n",
      " [-6 15]]\n",
      "d multiply B:\n",
      " [[ 3 12]\n",
      " [-6 15]]\n",
      "Associative: True\n"
     ]
    }
   ],
   "source": [
    "# Associativity\n",
    "# dB where \n",
    "d = 3\n",
    "B = np.array([[1, 4], [-2, 5]])\n",
    "\n",
    "\n",
    "print(\"d:\", d)\n",
    "print(\"B:\\n\", B)\n",
    "\n",
    "dB = np.dot(d, B)\n",
    "\n",
    "\n",
    "# prove that dB = Bd\n",
    "\n",
    "cA =np.dot(d, B)\n",
    "print(\"d multiply B:\\n\", dB)\n",
    "\n",
    "Ac = np.dot(d, B)\n",
    "print(\"d multiply B:\\n\", dB)\n",
    "\n",
    "left = d * B\n",
    "right = B * d\n",
    "\n",
    "print(f\"Associative: {np.array_equal(left, right)}\")\n",
    "\n",
    "\n",
    "# dB == Bd thereby proving the associativity property of scaler multiplication"
   ]
  },
  {
   "cell_type": "code",
   "execution_count": 26,
   "id": "30aae7e1",
   "metadata": {},
   "outputs": [
    {
     "name": "stdout",
     "output_type": "stream",
     "text": [
      "c: 2\n",
      "d: 3\n",
      "A:\n",
      " [[ 2 -1]\n",
      " [ 0  3]]\n",
      "c multiplies by A: \n",
      " [[ 4 -2]\n",
      " [ 0  6]]\n",
      "d multiplies by A: \n",
      " [[ 6 -3]\n",
      " [ 0  9]]\n",
      "cA plus dA:\n",
      " [[10 -5]\n",
      " [ 0 15]]\n",
      "c + d(A):\n",
      " [[10 -5]\n",
      " [ 0 15]]\n",
      "Distributive: False\n"
     ]
    }
   ],
   "source": [
    "# Distributivity over scaler Addition\n",
    "\n",
    "# (c+d)A == cA + dAwhere:\n",
    "\n",
    "c = 2\n",
    "d = 3\n",
    "A = np.array([[2, -1], [0, 3]])\n",
    "print(\"c:\", c)\n",
    "print(\"d:\", d)\n",
    "print(\"A:\\n\", A)\n",
    "\n",
    "# step 1:  find cA \n",
    "\n",
    "c_times_A = np.dot(c, A)\n",
    "print(\"c multiplies by A: \\n\", c_times_A)\n",
    " \n",
    "# step 2: find  dA\n",
    "\n",
    "d_times_A = np.dot(d, A)\n",
    "print(\"d multiplies by A: \\n\", d_times_A)\n",
    "\n",
    "# step 3: cA + dA\n",
    "\n",
    "cA_plus_dA = c_times_A + d_times_A\n",
    "print(\"cA plus dA:\\n\", cA_plus_dA)\n",
    "\n",
    "\n",
    "# step 4: prove that  c + d(A) == cA(dA)\n",
    "\n",
    "\n",
    "c_plus_d_times_A = np.dot(c_plus_d, A)\n",
    "print(\"c + d(A):\\n\", c_plus_d_times_A)\n",
    "\n",
    "\n",
    "left = c + d * A\n",
    "right = c * A + d * A\n",
    "\n",
    "print(f\"Distributive: {np.array_equal(left, right)}\")\n",
    "\n",
    "# from the foregoing (c+d)A == cA + dA  thereby proving the distributivity over scaler addition "
   ]
  }
 ],
 "metadata": {
  "kernelspec": {
   "display_name": "Osisami",
   "language": "python",
   "name": "python3"
  },
  "language_info": {
   "codemirror_mode": {
    "name": "ipython",
    "version": 3
   },
   "file_extension": ".py",
   "mimetype": "text/x-python",
   "name": "python",
   "nbconvert_exporter": "python",
   "pygments_lexer": "ipython3",
   "version": "3.13.6"
  }
 },
 "nbformat": 4,
 "nbformat_minor": 5
}
