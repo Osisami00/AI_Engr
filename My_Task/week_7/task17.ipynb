{
 "cells": [
  {
   "cell_type": "markdown",
   "id": "c02f2f9b",
   "metadata": {},
   "source": [
    "## Student Performance Analysis with Linear Algebra"
   ]
  },
  {
   "cell_type": "code",
   "execution_count": 6,
   "id": "56d4522e",
   "metadata": {},
   "outputs": [],
   "source": [
    "import numpy as np"
   ]
  },
  {
   "cell_type": "markdown",
   "id": "4ecc1cdb",
   "metadata": {},
   "source": [
    "1. Create a new 5×4 matrix of scores (5 students, 4 subjects). Compute each student’s total\n",
    "score and the average per subject.\n"
   ]
  },
  {
   "cell_type": "code",
   "execution_count": 7,
   "id": "9af6cac2",
   "metadata": {},
   "outputs": [
    {
     "name": "stdout",
     "output_type": "stream",
     "text": [
      "Student1 Total Score: 270\n",
      "Student2 Total Score: 232\n",
      "Student3 Total Score: 350\n",
      "Student4 Total Score: 297\n",
      "Student5 Total Score: 170\n"
     ]
    }
   ],
   "source": [
    "# Creating sudent data\n",
    "\"\"\"\n",
    "students            Maths               English             Science             Literature\n",
    "Student1             90                    70                  50                   60\n",
    "Student2             70                    25                  65                   72\n",
    "Student3             85                    88                  90                   87\n",
    "Student4             75                    80                  65                   77\n",
    "Student5             40                    31                  55                   44\n",
    "\n",
    "\"\"\"\n",
    "\n",
    "\n",
    "\n",
    "student1 = np.array([90, 70, 50, 60])\n",
    "student2 = np.array([70, 25, 65, 72])\n",
    "student3 = np.array([85, 88, 90, 87])\n",
    "student4 = np.array([75, 80, 65, 77])\n",
    "student5 = np.array([40, 31, 55, 44])\n",
    "\n",
    "\n",
    "\n",
    "students_data = np.array([[90, 70, 50, 60],  \n",
    "                          [70, 25, 65, 72],\n",
    "                          [85, 88, 90, 87],\n",
    "                          [75, 80, 65, 77],\n",
    "                          [40, 31, 55, 44]])\n",
    "\n",
    "# calculate student1 total score\n",
    "student1_total_score = np.sum(students_data[0, :])\n",
    "print(\"Student1 Total Score:\", student1_total_score)\n",
    "\n",
    "# calculate student2 total score\n",
    "student2_total_score = np.sum(students_data[1, :])\n",
    "print(\"Student2 Total Score:\", student2_total_score)\n",
    "\n",
    "# calculate student3 total score\n",
    "student3_total_score = np.sum(students_data[2, :])\n",
    "print(\"Student3 Total Score:\", student3_total_score)\n",
    "\n",
    "# calculate student4 total score\n",
    "student4_total_score = np.sum(students_data[3, :])\n",
    "print(\"Student4 Total Score:\", student4_total_score)\n",
    "\n",
    "\n",
    "# calculate student5 total score\n",
    "student5_total_score = np.sum(students_data[4, :])\n",
    "print(\"Student5 Total Score:\", student5_total_score)"
   ]
  },
  {
   "cell_type": "code",
   "execution_count": 8,
   "id": "f388f4f0",
   "metadata": {},
   "outputs": [
    {
     "data": {
      "text/plain": [
       "array([[90, 70, 50, 60],\n",
       "       [70, 25, 65, 72],\n",
       "       [85, 88, 90, 87],\n",
       "       [75, 80, 65, 77],\n",
       "       [40, 31, 55, 44]])"
      ]
     },
     "execution_count": 8,
     "metadata": {},
     "output_type": "execute_result"
    }
   ],
   "source": [
    "students_data"
   ]
  },
  {
   "cell_type": "code",
   "execution_count": 9,
   "id": "df9ddc86",
   "metadata": {},
   "outputs": [
    {
     "name": "stdout",
     "output_type": "stream",
     "text": [
      "Maths Total score: 360\n",
      "English Total score: 294\n",
      "Science Total score: 325\n",
      "Literature Total score: 325\n"
     ]
    }
   ],
   "source": [
    "# Students Average per Subject\n",
    "\n",
    "maths = np.sum(students_data[:, 0])\n",
    "print(\"Maths Total score:\", maths)\n",
    "\n",
    "english = np.sum(students_data[:, 1])\n",
    "print(\"English Total score:\", english)\n",
    "\n",
    "science = np.sum(students_data[:, 2])\n",
    "print(\"Science Total score:\", science)\n",
    "\n",
    "literature = np.sum(students_data[:, 2])\n",
    "print(\"Literature Total score:\", literature)\n",
    "\n"
   ]
  },
  {
   "cell_type": "code",
   "execution_count": 11,
   "id": "3109e3b7",
   "metadata": {},
   "outputs": [
    {
     "data": {
      "text/plain": [
       "array([[90, 70, 50, 60],\n",
       "       [70, 25, 65, 72],\n",
       "       [85, 88, 90, 87],\n",
       "       [75, 80, 65, 77],\n",
       "       [40, 31, 55, 44]])"
      ]
     },
     "execution_count": 11,
     "metadata": {},
     "output_type": "execute_result"
    }
   ],
   "source": [
    "students_data"
   ]
  },
  {
   "cell_type": "code",
   "execution_count": 12,
   "id": "38063067",
   "metadata": {},
   "outputs": [
    {
     "data": {
      "text/plain": [
       "'\\nstudents            Maths               English             Science             Literature\\nStudent1             90                    70                  50                   60\\nStudent2             70                    25                  65                   72\\nStudent3             85                    88                  90                   87\\nStudent4             75                    80                  65                   77\\nStudent5             40                    31                  55                   44\\n\\n'"
      ]
     },
     "execution_count": 12,
     "metadata": {},
     "output_type": "execute_result"
    }
   ],
   "source": [
    "\"\"\"\n",
    "students            Maths               English             Science             Literature\n",
    "Student1             90                    70                  50                   60\n",
    "Student2             70                    25                  65                   72\n",
    "Student3             85                    88                  90                   87\n",
    "Student4             75                    80                  65                   77\n",
    "Student5             40                    31                  55                   44\n",
    "\n",
    "\"\"\""
   ]
  },
  {
   "cell_type": "code",
   "execution_count": 13,
   "id": "9e86935f",
   "metadata": {},
   "outputs": [
    {
     "name": "stdout",
     "output_type": "stream",
     "text": [
      "Maths average score is: 72.0\n",
      "English average score is: 58.8\n",
      "Science average score is: 65.0\n",
      "Literature average score is: 65.0\n"
     ]
    }
   ],
   "source": [
    "# Average Score for all subject\n",
    "\n",
    "# 1. Average score for Mathematics\n",
    "maths_average_score = np.sum(students_data[:, 0]) / len(students_data[:, 0])\n",
    "print(\"Maths average score is:\", maths_average_score)\n",
    "\n",
    "# 2. Average score for English\n",
    "eng_average_score = np.sum(students_data[:, 1]) / len(students_data[:, 1])\n",
    "print(\"English average score is:\", eng_average_score)\n",
    "\n",
    "# 3. Average score for Science\n",
    "science_average_score = np.sum(students_data[:, 2]) / len(students_data[:, 2])\n",
    "print(\"Science average score is:\", science_average_score)\n",
    "\n",
    "# 4. Average score for literature\n",
    "lit_average_score = np.sum(students_data[:, 3]) / len(students_data[:, 3])\n",
    "print(\"Literature average score is:\", science_average_score)"
   ]
  },
  {
   "cell_type": "code",
   "execution_count": 14,
   "id": "1fe61713",
   "metadata": {},
   "outputs": [
    {
     "name": "stdout",
     "output_type": "stream",
     "text": [
      "The scalar weight is: [6 2 2 2]\n",
      "Student score multiplied by scalar weight is:  [[540 140 100 120]\n",
      " [420  50 130 144]\n",
      " [510 176 180 174]\n",
      " [450 160 130 154]\n",
      " [240  62 110  88]]\n"
     ]
    }
   ],
   "source": [
    "# Applying Scaler Weight to score\n",
    "# if other subjects score is 2, Science is thrice of them which is 6\n",
    "\n",
    "# computing scaler scores\n",
    "scalar_weight = np.array([6, 2, 2, 2 ])\n",
    "print(\"The scalar weight is:\", scalar_weight)\n",
    "\n",
    "# adding scalar weight to student data matrix\n",
    "students_data_with_scalar = students_data * scalar_weight\n",
    "print(\"Student score multiplied by scalar weight is: \", students_data_with_scalar)"
   ]
  },
  {
   "cell_type": "code",
   "execution_count": null,
   "id": "1c210346",
   "metadata": {},
   "outputs": [],
   "source": []
  }
 ],
 "metadata": {
  "kernelspec": {
   "display_name": "Osisami",
   "language": "python",
   "name": "python3"
  },
  "language_info": {
   "codemirror_mode": {
    "name": "ipython",
    "version": 3
   },
   "file_extension": ".py",
   "mimetype": "text/x-python",
   "name": "python",
   "nbconvert_exporter": "python",
   "pygments_lexer": "ipython3",
   "version": "3.13.6"
  }
 },
 "nbformat": 4,
 "nbformat_minor": 5
}
