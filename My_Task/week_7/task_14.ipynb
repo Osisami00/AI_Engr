{
 "cells": [
  {
   "cell_type": "code",
   "execution_count": null,
   "id": "8ac20b76",
   "metadata": {},
   "outputs": [],
   "source": [
    "## Matrix Class Task"
   ]
  },
  {
   "cell_type": "code",
   "execution_count": null,
   "id": "df6573d5",
   "metadata": {},
   "outputs": [],
   "source": [
    "#  Question 1:Identify the number of rows and columns in each matrix\n",
    "\n",
    "# A = [[2, -1, 3], [0, 4, 1]]   # A is 2x3 matrix\n",
    "# B = [[1, 2], [-2, 0], [5, -3]]  #B is 3x2 matrix "
   ]
  },
  {
   "cell_type": "code",
   "execution_count": null,
   "id": "57d2c2c3",
   "metadata": {},
   "outputs": [],
   "source": [
    "\n",
    "# Question 2: Deatermine whether the matrices can be multiplied. \n",
    "# If so, specify whether its (AB), (BA) or both\n",
    "\n",
    "# Answer: Only matrices (AB) can be multiplied because the number of row matrix A is the same with number of column B. \n",
    "# matrices (BA) cannot be multiplied because the row number of matrix A (which is three) is more than matric B (which is two). \n",
    "# It is only possible one of the matrices is transposed to either 2x3 or 3x2 matrix \n",
    "\n",
    "# A = [[2, -1, 3], [0, 4, 1]]\n",
    "# B = [[1, 2], [-2, 0], [5, -3]]\n",
    "\n",
    "# AB= [[2.1 + -1(-2) + 3.5 |  2.2 + -1(0) + 3(-3)],  [0.1 + 4(-2) + 1.5 |   0.2  + 4.0  +  1(-3)]]\n",
    "# AB = [[2 + 2 + 15 | 4 + 0 + (-9)], [0 + (-8) + 5 | 0 + 0 + (-3)]]\n",
    "# AB = [[19 -5] [-3 -3]]"
   ]
  },
  {
   "cell_type": "code",
   "execution_count": null,
   "id": "f20ae1ba",
   "metadata": {},
   "outputs": [],
   "source": [
    "# Question 3:  If the multiplication is defined, compute the resulting matrix.\n",
    "import numpy as np\n",
    "\n",
    "A = np.array([[2, -1, 3], \n",
    "              [0, 4, 1]])\n",
    "B = np.array([[1, 2], \n",
    "              [-2, 0], \n",
    "              [5, -3]])\n",
    "\n",
    "\n",
    "\n",
    "AB = np.dot(A,B)\n",
    "# AB"
   ]
  },
  {
   "cell_type": "code",
   "execution_count": null,
   "id": "b6da915b",
   "metadata": {},
   "outputs": [],
   "source": []
  }
 ],
 "metadata": {
  "kernelspec": {
   "display_name": "Osisami",
   "language": "python",
   "name": "python3"
  },
  "language_info": {
   "codemirror_mode": {
    "name": "ipython",
    "version": 3
   },
   "file_extension": ".py",
   "mimetype": "text/x-python",
   "name": "python",
   "nbconvert_exporter": "python",
   "pygments_lexer": "ipython3",
   "version": "3.13.6"
  }
 },
 "nbformat": 4,
 "nbformat_minor": 5
}
