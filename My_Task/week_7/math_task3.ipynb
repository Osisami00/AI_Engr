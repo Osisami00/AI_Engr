{
 "cells": [
  {
   "cell_type": "markdown",
   "id": "2eb08e46",
   "metadata": {},
   "source": [
    "Class Task 3"
   ]
  },
  {
   "cell_type": "markdown",
   "id": "ac53027f",
   "metadata": {},
   "source": [
    "A = np.array([[2, -1], [0, 3]])\n",
    "B = np.array([[1, 4], [-2, 5]])\n",
    "\n",
    "c = 2\n",
    "d = 3\n",
    "\n"
   ]
  },
  {
   "cell_type": "markdown",
   "id": "12d2639f",
   "metadata": {},
   "source": [
    "Compute the following: (cA), (dB), and (c+d)A\n",
    "\n",
    "cA where:\n",
    "\n",
    "A = np.array([[2, -1] [0, 3]])\n",
    "c = 2\n",
    "\n",
    "[[2.2 2.(-1)], [2.0  2.3]]\n",
    "[[4 -2][0 6]]\n",
    "\n",
    "\n",
    "cA = np.array([[4 -2],\n",
    "                [0 6]])"
   ]
  },
  {
   "cell_type": "markdown",
   "id": "d1ef4220",
   "metadata": {},
   "source": [
    "dB where \n",
    "\n",
    "B = np.array([[1, 4] [-2, 5]])\n",
    "d = 3\n",
    "\n",
    "[[3.1 3.4], [3.(-2)  3.5]]\n",
    "[[3 12][-6 15]]\n",
    "\n",
    "dB = np.array([[3 12]\n",
    "                [-6 15]])"
   ]
  },
  {
   "cell_type": "markdown",
   "id": "030ab4ce",
   "metadata": {},
   "source": [
    "(c+d)A where:\n",
    "\n",
    "c = 2\n",
    "d = 3\n",
    "A = np.array([[2, -1] [0, 3]])\n",
    "\n",
    "step 1:\n",
    "c + d = 2 + 3 =5\n",
    "\n",
    "step 2: multiply array A by c+d (5)\n",
    "[[5.2 5.(-1)], [5.0  5.3]]\n",
    "[[10 -5],[0 15]]\n",
    "\n",
    "c + d(A) = np.array([[10 -5],\n",
    "                    [0 15]])\n",
    "\n"
   ]
  },
  {
   "cell_type": "markdown",
   "id": "b1da9327",
   "metadata": {},
   "source": [
    "## Question B"
   ]
  },
  {
   "cell_type": "markdown",
   "id": "76817c91",
   "metadata": {},
   "source": [
    "Using the resullt gotten, verify the scaler multiplication properties"
   ]
  },
  {
   "cell_type": "markdown",
   "id": "cf396f2a",
   "metadata": {
    "vscode": {
     "languageId": "plaintext"
    }
   },
   "source": [
    "1. Associativity"
   ]
  },
  {
   "cell_type": "markdown",
   "id": "7a1cd026",
   "metadata": {
    "vscode": {
     "languageId": "plaintext"
    }
   },
   "source": [
    "cA where:\n",
    "A = np.array([[2, -1] [0, 3]])\n",
    "c = 2\n",
    "\n",
    "prove that cA = Ac\n",
    "\n",
    "cA = [[2.2 2.(-1)], \n",
    "      [2.0  2.3]]\n",
    "[[4 -2],[0 6]]\n",
    "\n",
    "\n",
    "cA = np.array([[4 -2],\n",
    "                [0 6]])\n",
    "\n",
    "Ac = [[2, -1] [0, 3]] x 2\n",
    "[[2.2, -1(2)] [0.2, 3.2]]\n",
    "\n",
    "Ac = np.array([[4 -2],\n",
    "                [0 6]])\n",
    "\n",
    "cA == Ac  proving the associativity property of scaler multiplication"
   ]
  },
  {
   "cell_type": "markdown",
   "id": "cfb5eaa1",
   "metadata": {},
   "source": [
    "Associativity\n",
    "dB where \n",
    "\n",
    "B = np.array([[1, 4] [-2, 5]])\n",
    "d = 3\n",
    "\n",
    "[[3.1 3.4], [3.(-2)  3.5]]\n",
    "[[3 12][-6 15]]\n",
    "\n",
    "dB = np.array([[3 12]\n",
    "                [-6 15]])\n",
    "\n",
    "\n",
    "dB = [[1, 4] [-2, 5]] x 3\n",
    "[[1.3 4.3] [-2.3 5.3]]\n",
    "\n",
    "Bd = np.array([[3 12], \n",
    "                [-6 15]])\n",
    "\n",
    "dB == Bd thereby proving the associativity property of scaler multiplication"
   ]
  },
  {
   "cell_type": "markdown",
   "id": "fd8d6828",
   "metadata": {
    "vscode": {
     "languageId": "plaintext"
    }
   },
   "source": [
    "Distributivity over scaler Addition\n",
    "\n",
    "(c+d)A == cA + dA where:\n",
    "\n",
    "c = 2\n",
    "d = 3\n",
    "A = np.array([[2, -1] [0, 3]])\n",
    "\n",
    "step 1:\n",
    "c + d = 2 + 3 =5\n",
    "\n",
    "step 2: multiply array A by c+d (5)\n",
    "[[5.2 5.(-1)], [5.0  5.3]]\n",
    "[[10 -5],[0 15]]\n",
    "\n",
    "c + d(A) = np.array([[10 -5],\n",
    "                    [0 15]])\n",
    "\n",
    "where cA:\n",
    "c = 2\n",
    "A = np.array([[2, -1] [0, 3]])\n",
    "\n",
    "[[2.2, 2(-1)] [2.0 2.3]]\n",
    "cA = np.array([[4 -2],\n",
    "                [0 6]])\n",
    "\n",
    "\n",
    "where dA:\n",
    "d = 3\n",
    "A = np.array([[2, -1] [0, 3]])\n",
    "\n",
    "[[2, -1] [0, 3]] x 3\n",
    "\n",
    "[[3.2 3(-1)] [3.0 3.3]]\n",
    "dA =np.array([[6, -3], \n",
    "               [0, 9]])\n",
    "\n",
    "cA + dA where:\n",
    "\n",
    "cA = np.array([[4 -2],\n",
    "                [0 6]])\n",
    "\n",
    "dA =np.array([[6, -3], \n",
    "               [0, 9]])\n",
    "\n",
    "cA + dA = np.array([[10, -5], \n",
    "                    [0 15]])\n",
    "\n",
    "from the foregoing (c+d)A == cA + dA  thereby proving the distributivity over scaler addition \n",
    "\n",
    "\n"
   ]
  },
  {
   "cell_type": "markdown",
   "id": "5e55aabd",
   "metadata": {
    "vscode": {
     "languageId": "plaintext"
    }
   },
   "source": [
    "Question 3"
   ]
  },
  {
   "cell_type": "code",
   "execution_count": null,
   "id": "547d5754",
   "metadata": {
    "vscode": {
     "languageId": "plaintext"
    }
   },
   "outputs": [],
   "source": [
    "find the transpose of the below transpose\n",
    "\n",
    "A = np.array([[2, -1] [0, 3]])\n",
    "B = np.array([[1, 4] [-2, 5]])\n",
    "\n",
    "where:\n",
    "A = np.array([[2, -1] \n",
    "                [0, 3]])\n",
    "AT = np.array([[2 0], \n",
    "                [-1 3]])\n",
    "\n",
    "where:\n",
    "B = np.array([[1, 4], \n",
    "            [-2, 5]])\n",
    "\n",
    "BT = np.array([[1 -2], \n",
    "                [4 5]])\n",
    "\n"
   ]
  }
 ],
 "metadata": {
  "language_info": {
   "name": "python"
  }
 },
 "nbformat": 4,
 "nbformat_minor": 5
}
