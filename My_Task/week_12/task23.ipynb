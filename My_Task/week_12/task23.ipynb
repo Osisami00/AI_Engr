{
 "cells": [
  {
   "cell_type": "markdown",
   "id": "91fbcb74",
   "metadata": {},
   "source": [
    "## Twitter Validation Assignment\n"
   ]
  },
  {
   "cell_type": "code",
   "execution_count": null,
   "id": "6306eb9e",
   "metadata": {},
   "outputs": [],
   "source": [
    "# %%capture\n",
    "# %pip install pydantic\n",
    "# %pip install email-validator"
   ]
  },
  {
   "cell_type": "code",
   "execution_count": 23,
   "id": "da8e8edb",
   "metadata": {},
   "outputs": [],
   "source": [
    "# from pydantic import BaseModel, Field, field_validator, ValidationError, EmailStr\n",
    "\n",
    "from pydantic import BaseModel, Field, ValidationError, EmailStr"
   ]
  },
  {
   "cell_type": "code",
   "execution_count": null,
   "id": "565389c5",
   "metadata": {},
   "outputs": [],
   "source": [
    "class TwitterValidation(BaseModel):\n",
    "    username: str = Field(..., min_length=5, max_length=15, pattern=r'^[A-Za-z0-9_]+$')\n",
    "    email: EmailStr = Field(...,)\n",
    "    postlength: str = Field(...,min_length=2, max_length=300)"
   ]
  },
  {
   "cell_type": "code",
   "execution_count": null,
   "id": "bc152ba4",
   "metadata": {},
   "outputs": [],
   "source": [
    "# def demo_twitter_username():\n",
    "#     print('Twitter Username Validation')\n",
    "#     try:\n",
    "#         user = TwitterValidation(username=\"user34\", email=\"user01@gmail.com\", postlength= \"240\")\n",
    "#         print(\"Validation successful:\", user)\n",
    "#     except ValidationError as e:\n",
    "#         print(\"Validation failed:\", e)"
   ]
  },
  {
   "cell_type": "code",
   "execution_count": null,
   "id": "05f3f1d1",
   "metadata": {},
   "outputs": [],
   "source": [
    "def demo_twitter_username():\n",
    "    print('Twitter Username Validation')\n",
    "    try:\n",
    "        user = TwitterValidation(\n",
    "            username= input(\"Enter username: \"),\n",
    "            email= input(\"Enter email: \"), \n",
    "            postlength= \"200\")\n",
    "        print(\"Validation successful:\", user)\n",
    "    except ValidationError as e:\n",
    "        print(\"Validation failed:\", e)"
   ]
  },
  {
   "cell_type": "code",
   "execution_count": 33,
   "id": "357f761d",
   "metadata": {},
   "outputs": [
    {
     "name": "stdout",
     "output_type": "stream",
     "text": [
      "Twitter Username Validation\n",
      "Validation successful: username='Osisami' email='user@gmail.com' postlength='I am a boy'\n"
     ]
    }
   ],
   "source": [
    "demo_twitter_username()"
   ]
  },
  {
   "cell_type": "code",
   "execution_count": null,
   "id": "aeb0b619",
   "metadata": {},
   "outputs": [],
   "source": []
  }
 ],
 "metadata": {
  "kernelspec": {
   "display_name": "Osisami",
   "language": "python",
   "name": "python3"
  },
  "language_info": {
   "codemirror_mode": {
    "name": "ipython",
    "version": 3
   },
   "file_extension": ".py",
   "mimetype": "text/x-python",
   "name": "python",
   "nbconvert_exporter": "python",
   "pygments_lexer": "ipython3",
   "version": "3.13.6"
  }
 },
 "nbformat": 4,
 "nbformat_minor": 5
}
