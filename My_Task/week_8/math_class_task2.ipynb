{
 "cells": [
  {
   "cell_type": "markdown",
   "id": "7fb248c0",
   "metadata": {},
   "source": [
    "TASK 1: MEAN, MEDIAN AND MODE"
   ]
  },
  {
   "cell_type": "markdown",
   "id": "37561b88",
   "metadata": {},
   "source": [
    "1: Class Test Scores\n",
    "The following are the Mathematics test scores (out of 20) for a class of 15 students:\n",
    " 5, 8, 10, 12, 12, 12, 13, 14, 14, 15, 16, 18, 18, 20, 20\n",
    "Find the mean, median, and mode of the scores.\n",
    "\n",
    "\n",
    "If the lowest score (5) was wrongly recorded and should have been 10, how would the mean change? Would the median or mode change? Explain.\n"
   ]
  },
  {
   "cell_type": "markdown",
   "id": "661c3cd2",
   "metadata": {},
   "source": [
    "Task1 Answer\n",
    "Question1:1\n",
    "MEAN\n",
    "student score = 5+ 8+ 10+ 12+ 12+ 12+ 13+ 14+ 14+ 15+ 16+ 18+ 18+ 20 + 20 = 207/15\n",
    "mean of student score = 13.8\n",
    "\n",
    "\n",
    "MEDIAN\n",
    "STUDENT SCORE = 5, 8, 10, 12, 12, 12, 13, 14, 14, 15, 16, 18, 18, 20, 20 \n",
    "median of student student score = 14\n",
    "\n",
    "MODE\n",
    "STUDENT SCORE = 5, 8, 10, 12, 12, 12, 13, 14, 14, 15, 16, 18, 18, 20, 20 \n",
    "mode of student student score = 12\n",
    "\n",
    "\n",
    "Quest1:2\n",
    "If the lowest score (5) was wrongly recorded and should have been 10, how would the mean change? Would the median or mode change? Explain.\n",
    "\n",
    "student score = 8+ 10+ 10 + 12+ 12+ 12+ 13+ 14+ 14+ 15+ 16+ 18+ 18+ 20 + 20  = 212/15 \n",
    "mean of student score = 14.13\n"
   ]
  },
  {
   "cell_type": "markdown",
   "id": "33b3f036",
   "metadata": {},
   "source": []
  }
 ],
 "metadata": {
  "language_info": {
   "name": "python"
  }
 },
 "nbformat": 4,
 "nbformat_minor": 5
}
