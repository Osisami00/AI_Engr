{
 "cells": [
  {
   "cell_type": "markdown",
   "id": "7fb248c0",
   "metadata": {},
   "source": [
    "TASK 1: MEAN, MEDIAN AND MODE"
   ]
  },
  {
   "cell_type": "markdown",
   "id": "37561b88",
   "metadata": {},
   "source": [
    "1: Class Test Scores\n",
    "The following are the Mathematics test scores (out of 20) for a class of 15 students:\n",
    " 5, 8, 10, 12, 12, 12, 13, 14, 14, 15, 16, 18, 18, 20, 20\n",
    "Find the mean, median, and mode of the scores.\n",
    "\n",
    "\n",
    "If the lowest score (5) was wrongly recorded and should have been 10, how would the mean change? Would the median or mode change? Explain.\n"
   ]
  },
  {
   "cell_type": "markdown",
   "id": "661c3cd2",
   "metadata": {},
   "source": [
    "Task1 Answer\n",
    "Question1:1\n",
    "MEAN\n",
    "student score = 5+ 8+ 10+ 12+ 12+ 12+ 13+ 14+ 14+ 15+ 16+ 18+ 18+ 20 + 20 = 207/15\n",
    "mean of student score = 13.8\n",
    "\n",
    "\n",
    "MEDIAN\n",
    "STUDENT SCORE = 5, 8, 10, 12, 12, 12, 13, 14, 14, 15, 16, 18, 18, 20, 20 \n",
    "median of student student score = 14\n",
    "\n",
    "MODE\n",
    "STUDENT SCORE = 5, 8, 10, 12, 12, 12, 13, 14, 14, 15, 16, 18, 18, 20, 20 \n",
    "mode of student student score = 12\n",
    "\n",
    "\n",
    "Quest1:2\n",
    "If the lowest score (5) was wrongly recorded and should have been 10, how would the mean change? Would the median or mode change? Explain.\n",
    "\n",
    "student score = 8+ 10+ 10 + 12+ 12+ 12+ 13+ 14+ 14+ 15+ 16+ 18+ 18+ 20 + 20  = 212/15 \n",
    "mean of student score = 14.13\n",
    "\n",
    "The median and mode will not change because it is the number that was increase not the length of number\n"
   ]
  },
  {
   "cell_type": "markdown",
   "id": "33b3f036",
   "metadata": {},
   "source": [
    "2: Daily Commute Times\n",
    "A group of 9 students reported the time (in minutes) it takes them to get to school each day:\n",
    " 15, 20, 20, 25, 25, 30, 60, 65, 120\n",
    "Find the mean, median, and mode of the data.\n",
    "\n",
    "\n",
    "Which measure (mean, median, or mode) do you think best represents the “typical” time it takes students to get to school? Why?\n",
    " (Hint: Think about the effect of the student who takes 120 minutes.)\n"
   ]
  },
  {
   "cell_type": "markdown",
   "id": "2cbe2225",
   "metadata": {},
   "source": [
    "Solution\n",
    "\n",
    "MEAN\n",
    "number of minutes = 15 + 20 + 20 + 25 + 25 + 30 + 60 + 65 + 120 = 380/9\n",
    "mean number of minutes = 42.2\n",
    "\n",
    "MEDIAN\n",
    "number of minutes = 15, 20, 20, 25, 25, 30, 60, 65, 120\n",
    "median number of minutes = 25\n",
    "\n",
    "MODE\n",
    "number of minutes = 15, 20, 20, 25, 25, 30, 60, 65, 120 ==\n",
    "median = 20 and 25\n",
    "\n",
    "Question2:2\n",
    "\n",
    "mode measures it more because  of the outliers"
   ]
  },
  {
   "cell_type": "markdown",
   "id": "91f395c6",
   "metadata": {},
   "source": [
    "3: Shoe Sizes\n",
    "The shoe sizes of students in a class are:\n",
    " 38, 39, 38, 40, 41, 42, 39, 39, 40, 38, 37, 39, 40, 41, 42\n",
    "Find the mode of the data.\n",
    "\n",
    "\n",
    "If a shoe company wants to donate free shoes, which size should they produce most of? Why?\n",
    "\n",
    "\n",
    "What if they only want to produce one size that would fit the \"average\" student? Should they use mean, median, or mode? Defend your answer.\n"
   ]
  },
  {
   "cell_type": "markdown",
   "id": "0a120b12",
   "metadata": {},
   "source": [
    "Solution 3\n",
    "1. Mode\n",
    "\n",
    "shoe sizes =  38, 39, 38, 40, 41, 42, 39, 39, 40, 38, 37, 39, 40, 41, 42\n",
    "\n",
    "  38,38,38, 39,39, 39, 40, 40, 40, 41,41, 42, 42\n",
    "   38, 39, 38, 40, 41, 42, 39, 39, 40, 38, 37, 39, 40, 41, 42\n",
    "\n",
    "mode = 38, 39 and 40\n",
    "\n",
    "2.  which size should they produce most of? Why?\n",
    " shoe sizes =  38+38+38+39+39+39+ 40+ 40+ 40+ 41+41+ 42+ 42  == 517/"
   ]
  }
 ],
 "metadata": {
  "language_info": {
   "name": "python"
  }
 },
 "nbformat": 4,
 "nbformat_minor": 5
}
