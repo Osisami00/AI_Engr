{
 "cells": [
  {
   "cell_type": "markdown",
   "id": "6f785da8",
   "metadata": {},
   "source": [
    "Class TAsk on Variance"
   ]
  },
  {
   "cell_type": "markdown",
   "id": "96097bd3",
   "metadata": {},
   "source": [
    "find the variance of the following dataset\n",
    "\n",
    "dataset = [4, 8, 6, 5, 3]\n",
    "mean of dataset = 4 + 8 + 6 + 5 + 3/5 \n",
    "mean = 5.2\n",
    "\n",
    "\n",
    "x-x_bar =  (4-5.2) + (8-5.2) + (6-5.2) + (5-5.2) + (3-5.2)\n",
    "\n",
    "var = ((-1.2)**2 + (2.8)**2 + (0.8)**2 + (-0.2)**2 + (-2.2)**2 ) / 5\n",
    "\n",
    "var_dataset = 1.44 + 7.84 + 0.64 + 0.04 + 4.84 = 14.8\n",
    "var_dataset = 14.8/ 5\n",
    "var_dataset = 2.96\n",
    "\n",
    "variance of dataset\n",
    "\n",
    "01 =2.96"
   ]
  },
  {
   "cell_type": "markdown",
   "id": "1956db70",
   "metadata": {},
   "source": []
  }
 ],
 "metadata": {
  "language_info": {
   "name": "python"
  }
 },
 "nbformat": 4,
 "nbformat_minor": 5
}
