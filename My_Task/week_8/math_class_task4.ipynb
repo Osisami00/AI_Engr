{
 "cells": [
  {
   "cell_type": "markdown",
   "id": "a4910f2c",
   "metadata": {},
   "source": [
    "## TYPES OF HYPOTHESIS TESTING"
   ]
  },
  {
   "cell_type": "markdown",
   "id": "282596c2",
   "metadata": {},
   "source": [
    "Explain the following:\n",
    "\n",
    "1- Chi-square test (for categorical data)\n",
    "\n",
    "2- ANOVA (for comparing more than two means)\n",
    "\n",
    "3- Two-tailed Tests\n",
    "\n",
    "4- Proportion Tests"
   ]
  },
  {
   "cell_type": "markdown",
   "id": "9fc7fae5",
   "metadata": {},
   "source": [
    "1- Chi-square test (for categorical data)\n",
    "\n",
    "Chi-Square test helps us determine if there is a significant relationship between two categorical variables and the target variable. It is a non-parametric statistical test meaning it doesn’t follow normal distribution.\n",
    "The Chi-square test compares the observed frequencies (actual data) to the expected frequencies (what we would expect if there was no relationship). This helps identify which features are important for predicting the target variable in machine learning models.\n",
    "\n",
    "for example: It helps to compare between male and female gender and the highest level of education\n",
    "\n",
    "Types of Chi-Square test\n",
    "1. Chi-Square Test for Independence: This test is used whether there is a significant relationship between two categorical variables.\n",
    "2. Chi-Square Goodness-of-Fit Test: The Chi-Square Goodness-of-Fit test is used to check if a variable follows a specific expected pattern or distribution."
   ]
  },
  {
   "cell_type": "markdown",
   "id": "0c0123a7",
   "metadata": {},
   "source": [
    "2- ANOVA (for comparing more than two means)\n",
    "ANOVA Test is used to analyze the differences among the means of various groups using certain estimation procedures. ANOVA means analysis of variance. ANOVA test is a statistical significance test that is used to check whether the null hypothesis can be rejected or not during hypothesis testing.\n",
    "An ANOVA test can be either one-way or two-way depending upon the number of independent variables.\n",
    "\n",
    " - One Way ANOVA\n",
    "One way ANOVA test is used to determine whether there is any difference between the means of three or more groups. A one way ANOVA will have only one independent variable. \n",
    "\n",
    " - Two Way ANOVA\n",
    "The two way ANOVA has two independent variables. Thus, it can be thought of as an extension of a one way ANOVA where only one variable affects the dependent variable. A two way ANOVA test is used to check the main effect of each independent variable and to see if there is an interaction effect between them. \n"
   ]
  },
  {
   "cell_type": "markdown",
   "id": "86664b63",
   "metadata": {},
   "source": [
    "3- Two-tailed Tests\n",
    "\n",
    " two-tailed tests let us check for differences in both directions. That means we can see if our sample mean is significantly higher or lower than what we'd expect under the null hypothesis. This is in contrast to one-tailed tests, which only look for a difference in one specified direction.\n",
    " Two-tailed tests are super handy when you're not sure which way an effect might go. For example, a change to your product could either boost or reduce user engagement. In cases like this, a two-tailed test makes sure you catch any significant differences, positive or negative."
   ]
  },
  {
   "cell_type": "markdown",
   "id": "93d6441d",
   "metadata": {},
   "source": [
    "4- Proportion Tests\n",
    "\n",
    "A proportion test is a statistical test used to determine whether the proportion of successes in a sample differs significantly from a known value or whether two or more groups have different proportions. When sample sizes are large, normal approximation methods like the one-sample or two-sample proportion z-tests are typically used. When sample sizes are small or the success/failure counts are very low, exact methods like the binomial exact test (for one proportion) or Fisher’s exact test (for two proportions) are preferred because they do not rely on normality assumptions. For comparisons involving more than two groups, a chi-square test for independence is commonly used to assess whether proportions differ across categories."
   ]
  },
  {
   "cell_type": "markdown",
   "id": "6823cb4f",
   "metadata": {},
   "source": []
  }
 ],
 "metadata": {
  "language_info": {
   "name": "python"
  }
 },
 "nbformat": 4,
 "nbformat_minor": 5
}
