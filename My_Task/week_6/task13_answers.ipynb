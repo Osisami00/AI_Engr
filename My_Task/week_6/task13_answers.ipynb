{
 "cells": [
  {
   "cell_type": "code",
   "execution_count": 7,
   "id": "c10cabe7",
   "metadata": {},
   "outputs": [],
   "source": [
    "import numpy as np\n"
   ]
  },
  {
   "cell_type": "code",
   "execution_count": null,
   "id": "dc034454",
   "metadata": {},
   "outputs": [
    {
     "data": {
      "text/plain": [
       "array([[48,  9,  8, 14, 47, 32],\n",
       "       [47, 32, 14, 13,  3, 25],\n",
       "       [25, 11, 40, 48, 20,  6],\n",
       "       [13, 13,  7, 33,  9, 42],\n",
       "       [43,  3, 19, 45, 42, 17],\n",
       "       [43, 16, 26, 24, 49, 14]], dtype=int32)"
      ]
     },
     "execution_count": 22,
     "metadata": {},
     "output_type": "execute_result"
    }
   ],
   "source": [
    "# Question 1\n",
    "\n",
    "\n",
    "arr = np.random.randint(1,51, size=(6,6))\n",
    "# arr_reshape = arr.shape(6,6)\n",
    "arr"
   ]
  },
  {
   "cell_type": "code",
   "execution_count": 43,
   "id": "9902d5d1",
   "metadata": {},
   "outputs": [
    {
     "data": {
      "text/plain": [
       "array([[48,  9,  8, 14, 47, 32],\n",
       "       [47, 32, 14, 13,  3, 25]], dtype=int32)"
      ]
     },
     "execution_count": 43,
     "metadata": {},
     "output_type": "execute_result"
    }
   ],
   "source": [
    "# Question 2\n",
    "\n",
    "# first two rows\n",
    "arr[:2, :6]"
   ]
  },
  {
   "cell_type": "code",
   "execution_count": 45,
   "id": "a46a6458",
   "metadata": {},
   "outputs": [
    {
     "data": {
      "text/plain": [
       "array([[14, 47, 32],\n",
       "       [13,  3, 25],\n",
       "       [48, 20,  6],\n",
       "       [33,  9, 42],\n",
       "       [45, 42, 17],\n",
       "       [24, 49, 14]], dtype=int32)"
      ]
     },
     "execution_count": 45,
     "metadata": {},
     "output_type": "execute_result"
    }
   ],
   "source": [
    "# last three cols\n",
    "\n",
    "arr[:6, 3:]"
   ]
  },
  {
   "cell_type": "code",
   "execution_count": 46,
   "id": "1a030195",
   "metadata": {},
   "outputs": [
    {
     "data": {
      "text/plain": [
       "array([48,  8, 14, 32, 32, 14, 40, 48, 20,  6, 42, 42, 16, 26, 24, 14],\n",
       "      dtype=int32)"
      ]
     },
     "execution_count": 46,
     "metadata": {},
     "output_type": "execute_result"
    }
   ],
   "source": [
    "# all even numbers\n",
    "divided_by_two = arr[arr%2==0]\n",
    "divided_by_two"
   ]
  },
  {
   "cell_type": "code",
   "execution_count": 47,
   "id": "21eaa480",
   "metadata": {},
   "outputs": [
    {
     "data": {
      "text/plain": [
       "array([[[48,  9,  8, 14, 47, 32],\n",
       "        [47, 32, 14, 13,  3, 25]],\n",
       "\n",
       "       [[25, 11, 40, 48, 20,  6],\n",
       "        [13, 13,  7, 33,  9, 42]],\n",
       "\n",
       "       [[43,  3, 19, 45, 42, 17],\n",
       "        [43, 16, 26, 24, 49, 14]]], dtype=int32)"
      ]
     },
     "execution_count": 47,
     "metadata": {},
     "output_type": "execute_result"
    }
   ],
   "source": [
    "# Question 3\n",
    "arr_reshaped = arr.reshape(3, 2, 6)\n",
    "arr_reshaped"
   ]
  },
  {
   "cell_type": "code",
   "execution_count": 59,
   "id": "f6d19168",
   "metadata": {},
   "outputs": [
    {
     "data": {
      "text/plain": [
       "array([48,  9,  8, 14, 47, 32, 47, 32, 14, 13,  3, 25, 25, 11, 40, 48, 20,\n",
       "        6, 13, 13,  7, 33,  9, 42, 43,  3, 19, 45, 42, 17, 43, 16, 26, 24,\n",
       "       49, 14], dtype=int32)"
      ]
     },
     "execution_count": 59,
     "metadata": {},
     "output_type": "execute_result"
    }
   ],
   "source": [
    "arr_flatten = arr_reshaped.flatten()\n",
    "arr_flatten"
   ]
  },
  {
   "cell_type": "code",
   "execution_count": 84,
   "id": "27e188cf",
   "metadata": {},
   "outputs": [
    {
     "data": {
      "text/plain": [
       "array([[10.,  0.,  0.,  0.],\n",
       "       [ 0., 20.,  0.,  0.],\n",
       "       [ 0.,  0., 30.,  0.],\n",
       "       [ 0.,  0.,  0., 40.]])"
      ]
     },
     "execution_count": 84,
     "metadata": {},
     "output_type": "execute_result"
    }
   ],
   "source": [
    "# Question 4\n",
    "\n",
    "iden_arr = np.eye(4,4)\n",
    "np.fill_diagonal(iden_arr, np.arange(10,50,10))\n",
    "iden_arr"
   ]
  },
  {
   "cell_type": "code",
   "execution_count": 64,
   "id": "9a769aa4",
   "metadata": {},
   "outputs": [
    {
     "data": {
      "text/plain": [
       "array([[110, 150,  86],\n",
       "       [ 58, 110,  53],\n",
       "       [ 51,  46,  45]], dtype=int32)"
      ]
     },
     "execution_count": 64,
     "metadata": {},
     "output_type": "execute_result"
    }
   ],
   "source": [
    "# Question 5\n",
    "\n",
    "matrix_one = np.random.randint(1,11, size=(3,4))\n",
    "matrix_two = np.random.randint(1,11, size=(4,3))\n",
    "one_times_two = np.dot(matrix_one, matrix_two)\n",
    "one_times_two"
   ]
  },
  {
   "cell_type": "code",
   "execution_count": 65,
   "id": "bba3e03c",
   "metadata": {},
   "outputs": [],
   "source": [
    "# Question 6\n",
    "def two_d_collector(arr):\n",
    "    result = np.where(arr % 2 ==0, arr**2, -1)\n",
    "    print(result)"
   ]
  },
  {
   "cell_type": "code",
   "execution_count": 87,
   "id": "0fdcd4ac",
   "metadata": {},
   "outputs": [
    {
     "name": "stdout",
     "output_type": "stream",
     "text": [
      "[[2304   -1   64  196   -1 1024]\n",
      " [  -1 1024  196   -1   -1   -1]\n",
      " [  -1   -1 1600 2304  400   36]\n",
      " [  -1   -1   -1   -1   -1 1764]\n",
      " [  -1   -1   -1   -1 1764   -1]\n",
      " [  -1  256  676  576   -1  196]]\n"
     ]
    }
   ],
   "source": [
    "# arr\n",
    "two_d_collector(arr)"
   ]
  },
  {
   "cell_type": "code",
   "execution_count": 73,
   "id": "de84db72",
   "metadata": {},
   "outputs": [
    {
     "name": "stdout",
     "output_type": "stream",
     "text": [
      "[[ -1 676  -1  -1  64  -1]\n",
      " [144   4  -1 576 576  -1]\n",
      " [ -1  -1  -1  -1  -1 256]\n",
      " [ -1 484 900 400  -1  -1]\n",
      " [256 576  -1 324  -1  -1]]\n"
     ]
    }
   ],
   "source": [
    "arr2 = np.random.randint(1,31, size=(5,6))\n",
    "arr2\n",
    "two_d_collector(arr2)"
   ]
  },
  {
   "cell_type": "code",
   "execution_count": null,
   "id": "bc7790ef",
   "metadata": {},
   "outputs": [],
   "source": []
  }
 ],
 "metadata": {
  "kernelspec": {
   "display_name": "Osisami",
   "language": "python",
   "name": "python3"
  },
  "language_info": {
   "codemirror_mode": {
    "name": "ipython",
    "version": 3
   },
   "file_extension": ".py",
   "mimetype": "text/x-python",
   "name": "python",
   "nbconvert_exporter": "python",
   "pygments_lexer": "ipython3",
   "version": "3.13.7"
  }
 },
 "nbformat": 4,
 "nbformat_minor": 5
}
