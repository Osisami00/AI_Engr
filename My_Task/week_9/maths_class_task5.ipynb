{
 "cells": [
  {
   "cell_type": "markdown",
   "id": "8237a4d0",
   "metadata": {},
   "source": [
    "## COEFICIENT OF VARIATION"
   ]
  },
  {
   "cell_type": "markdown",
   "id": "cb698830",
   "metadata": {},
   "source": [
    "\n",
    "CV is also known as relative standard deviation (RSD), is a standardized measure of the dispersion of a probability distribution or frequency distribution. In other words, it is a way to quantify scatter or a dispersion of data points. It is defined as the standard deviation of a group of values divided by their mean. Often that ratio is multiplied by 100 to express the coefficient of variation as a percent (CV).When the value of the coefficient of variation is lower, it means the data has less variability and high stability.\n",
    "\n",
    "It only makes sense to compute a CV for ratio variables. This means the variable must have  a true zero. So it is ok to compute a CV for variables such as weight, time, distance, enzyme activity... But it is not ok to compute the CV for variab3es such as temperature (in C or F) or pH. For these variables, the zero point is arbitrary. A temperature of 0 in C or F does not mean 'no temperature'. A pH of 0.0 does not mean 'no pH'.  WIth these variables, you could sensibly choose to define zero differently. If you did, you'd get a different CV, which makes the CV no longer a sensible way to quantify variation."
   ]
  }
 ],
 "metadata": {
  "language_info": {
   "name": "python"
  }
 },
 "nbformat": 4,
 "nbformat_minor": 5
}
