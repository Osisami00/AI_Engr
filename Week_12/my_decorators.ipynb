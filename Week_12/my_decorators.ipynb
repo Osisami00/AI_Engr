{
 "cells": [
  {
   "cell_type": "code",
   "execution_count": 1,
   "id": "1d1300b8",
   "metadata": {},
   "outputs": [
    {
     "name": "stdout",
     "output_type": "stream",
     "text": [
      "Welcome to our shop\n",
      "Shopkeeper says: Welcome to our shop\n"
     ]
    }
   ],
   "source": [
    "def greet_customer():\n",
    "    return \"Welcome to our shop\"\n",
    "# You can assign functions to variable\n",
    "my_greeting = greet_customer\n",
    "print(my_greeting())\n",
    "\n",
    "# You can pass functions as arg\n",
    "def use_greeting(greeting_func):\n",
    "    return f\"Shopkeeper says: {greeting_func()}\"\n",
    "\n",
    "print(use_greeting(greet_customer))"
   ]
  },
  {
   "cell_type": "code",
   "execution_count": 2,
   "id": "37f1bb24",
   "metadata": {},
   "outputs": [],
   "source": [
    "# Let create our first decorator\n",
    "\n",
    "def add_nigerian_politeness(original_func):\n",
    "    \"\"\"This decorator adds Nigerian politeness to any greeting\"\"\"\n",
    "    def wrapper():\n",
    "        result = original_func()\n",
    "        return f\"Good morning oooo! {result} How is family?\"\n",
    "    return wrapper\n",
    "\n",
    "\n",
    "# original simple greeting\n",
    "def basic_greeting():\n",
    "    return \"Hello\""
   ]
  },
  {
   "cell_type": "code",
   "execution_count": 3,
   "id": "709fafcc",
   "metadata": {},
   "outputs": [
    {
     "name": "stdout",
     "output_type": "stream",
     "text": [
      "Good morning oooo! Hello How is family?\n"
     ]
    }
   ],
   "source": [
    "# Apply Decorator Manually\n",
    "polite_greeting = add_nigerian_politeness(basic_greeting)\n",
    "print(polite_greeting())"
   ]
  },
  {
   "cell_type": "code",
   "execution_count": 4,
   "id": "56976e52",
   "metadata": {},
   "outputs": [
    {
     "name": "stdout",
     "output_type": "stream",
     "text": [
      "Good morning oooo! Welcome to my provision store How is family?\n"
     ]
    }
   ],
   "source": [
    "# Using  the @symbol (syntactic sugar)\n",
    "\n",
    "@add_nigerian_politeness\n",
    "def shop_greeting():\n",
    "    return \"Welcome to my provision store\"\n",
    "\n",
    "print(shop_greeting())"
   ]
  },
  {
   "cell_type": "code",
   "execution_count": 9,
   "id": "b45f796d",
   "metadata": {},
   "outputs": [],
   "source": [
    "# Adding Nigerian time greeting\n",
    "\n",
    "def add_nigerian_time_greeting(time_of_day):\n",
    "    \"\"\"Decorator that adds appropriate Nigerian greeting based on time\"\"\"\n",
    "    def decorator(original_function):\n",
    "        def wrapper():\n",
    "            if time_of_day == \"morning\":\n",
    "                greeting = \"Good morning ooo!\"\n",
    "            elif time_of_day == \"afternoon\":\n",
    "                greeting = \"Good afternoon!\"\n",
    "            elif time_of_day == \"evening\":\n",
    "                greeting = \"Good evening oooo!\"\n",
    "            else:\n",
    "                greeting = \"How far\"\n",
    "\n",
    "            result = original_function()\n",
    "            return f\"{greeting} {result}\"\n",
    "        return wrapper\n",
    "    return decorator"
   ]
  },
  {
   "cell_type": "code",
   "execution_count": 10,
   "id": "899e52e2",
   "metadata": {},
   "outputs": [],
   "source": [
    "# Using the decorators with diff times\n",
    "@add_nigerian_time_greeting(\"morning\")\n",
    "def market_greeting():\n",
    "    return \"Welcome to our shop. How can we help you today?\"\n"
   ]
  },
  {
   "cell_type": "code",
   "execution_count": 7,
   "id": "1aad048d",
   "metadata": {},
   "outputs": [],
   "source": [
    "@add_nigerian_time_greeting(\"evening\")\n",
    "def restaurant_greeting():\n",
    "    return \"Welcome to our restuarant. What would you like to eat?\"\n"
   ]
  },
  {
   "cell_type": "code",
   "execution_count": 8,
   "id": "55962a22",
   "metadata": {},
   "outputs": [
    {
     "name": "stdout",
     "output_type": "stream",
     "text": [
      "Good morning ooo! Welcome to our shop. How can we help you today?\n",
      "Good evening oooo! Welcome to our restuarant. What would you like to eat?\n"
     ]
    }
   ],
   "source": [
    "print(market_greeting())\n",
    "print(restaurant_greeting())"
   ]
  },
  {
   "cell_type": "code",
   "execution_count": 2,
   "id": "d3d77e84",
   "metadata": {},
   "outputs": [
    {
     "name": "stdout",
     "output_type": "stream",
     "text": [
      "Shopkeeper says: Welcome to our shop!\n"
     ]
    }
   ],
   "source": [
    "def greet_customer():\n",
    "    return \"Welcome to our shop!\"\n",
    "\n",
    "def use_greeting(greeting):\n",
    "    return f\"Shopkeeper says: {greeting()}\"\n",
    "print(use_greeting(greet_customer))"
   ]
  },
  {
   "cell_type": "code",
   "execution_count": 7,
   "id": "b78db169",
   "metadata": {},
   "outputs": [
    {
     "name": "stdout",
     "output_type": "stream",
     "text": [
      "Good morning ooo! How far Alaye?! how is family?\n"
     ]
    }
   ],
   "source": [
    "def add_nigerian_politeness(original_func):\n",
    "    \"\"\"this greets nigerianly\"\"\"\n",
    "    def wrapper():\n",
    "        result = original_func()\n",
    "        return f\"Good morning ooo! {result} how is family?\"\n",
    "    return wrapper\n",
    "\n",
    "# original simple greeting \n",
    "def basic_greeting():\n",
    "    return \"How far Alaye?!\"\n",
    "\n",
    "polite_greeting = add_nigerian_politeness(basic_greeting)\n",
    "print(polite_greeting())"
   ]
  },
  {
   "cell_type": "code",
   "execution_count": 8,
   "id": "72616705",
   "metadata": {},
   "outputs": [
    {
     "name": "stdout",
     "output_type": "stream",
     "text": [
      "Good morning ooo! Welcome to my provison store. how is family?\n"
     ]
    }
   ],
   "source": [
    "@add_nigerian_politeness\n",
    "def shop_greeting():\n",
    "    return \"Welcome to my provison store.\"\n",
    "\n",
    "print(shop_greeting())"
   ]
  },
  {
   "cell_type": "code",
   "execution_count": 11,
   "id": "df7606cf",
   "metadata": {},
   "outputs": [],
   "source": [
    "def naira_formatter(currency_symbol=\"#\"):\n",
    "    \"\"\"Decorator to format prices in Nigerian Naira\"\"\"\n",
    "    def decorator(price_function):\n",
    "        def wrapper(*args, **kwargs):\n",
    "            price = price_function(*args, **kwargs)\n",
    "            return f\"{currency_symbol}{price:,}\"\n",
    "        return wrapper\n",
    "    return decorator"
   ]
  },
  {
   "cell_type": "code",
   "execution_count": 13,
   "id": "4206386e",
   "metadata": {},
   "outputs": [
    {
     "name": "stdout",
     "output_type": "stream",
     "text": [
      "#250\n"
     ]
    }
   ],
   "source": [
    "@naira_formatter()\n",
    "def rice_price():\n",
    "    return 250\n",
    "\n",
    "print(rice_price())"
   ]
  },
  {
   "cell_type": "code",
   "execution_count": 14,
   "id": "e9a2f19b",
   "metadata": {},
   "outputs": [],
   "source": [
    "@naira_formatter()\n",
    "def calculate_transport_fare(distance_km):\n",
    "    base_fare =200\n",
    "    per_km = 50\n",
    "    return base_fare + (distance_km * per_km)"
   ]
  },
  {
   "cell_type": "code",
   "execution_count": 15,
   "id": "58b54245",
   "metadata": {},
   "outputs": [
    {
     "name": "stdout",
     "output_type": "stream",
     "text": [
      "#700\n"
     ]
    }
   ],
   "source": [
    "print(calculate_transport_fare(10))"
   ]
  },
  {
   "cell_type": "code",
   "execution_count": null,
   "id": "6e2940a5",
   "metadata": {},
   "outputs": [],
   "source": []
  }
 ],
 "metadata": {
  "kernelspec": {
   "display_name": "Osisami",
   "language": "python",
   "name": "python3"
  },
  "language_info": {
   "codemirror_mode": {
    "name": "ipython",
    "version": 3
   },
   "file_extension": ".py",
   "mimetype": "text/x-python",
   "name": "python",
   "nbconvert_exporter": "python",
   "pygments_lexer": "ipython3",
   "version": "3.13.6"
  }
 },
 "nbformat": 4,
 "nbformat_minor": 5
}
