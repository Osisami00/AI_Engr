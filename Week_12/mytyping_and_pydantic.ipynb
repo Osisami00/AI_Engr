{
 "cells": [
  {
   "cell_type": "code",
   "execution_count": 14,
   "id": "cbdaf341",
   "metadata": {},
   "outputs": [
    {
     "name": "stdout",
     "output_type": "stream",
     "text": [
      "Michael's average score is 3.75\n"
     ]
    },
    {
     "data": {
      "text/plain": [
       "3.75"
      ]
     },
     "execution_count": 14,
     "metadata": {},
     "output_type": "execute_result"
    }
   ],
   "source": [
    "def get_average(name: str, scores: list[float]) -> float:\n",
    "    average_score = sum(scores) / len(scores)\n",
    "    print(f\"{name}'s average score is {average_score}\")\n",
    "    return average_score\n",
    "\n",
    "get_average(\"Michael\", [2,3,4,6])"
   ]
  },
  {
   "cell_type": "code",
   "execution_count": 15,
   "id": "3a6dc00d",
   "metadata": {},
   "outputs": [],
   "source": [
    "def greet(name:str) -> None:\n",
    "    print(f\"Hello, {name}\")"
   ]
  },
  {
   "cell_type": "code",
   "execution_count": 16,
   "id": "aaafcc1c",
   "metadata": {},
   "outputs": [
    {
     "data": {
      "text/plain": [
       "'handbag'"
      ]
     },
     "execution_count": 16,
     "metadata": {},
     "output_type": "execute_result"
    }
   ],
   "source": [
    "def add(a:int, b:int) -> int:\n",
    "    return a + b\n",
    "\n",
    "add(\"hand\", \"bag\")"
   ]
  },
  {
   "cell_type": "code",
   "execution_count": 17,
   "id": "6de16c72",
   "metadata": {},
   "outputs": [],
   "source": [
    "from typing import List, Dict, Union, Optional\n",
    "\n",
    "def process_scores(\n",
    "    scores: List[int],\n",
    "    info: Dict[str, Union[int, float]],\n",
    "    comment: Optional[str]=None) -> None:\n",
    "    print(\"Scores:\", scores)\n",
    "    print(\"Info:\", info)\n",
    "    if comment:\n",
    "        print(\"Comment:\", comment)"
   ]
  },
  {
   "cell_type": "code",
   "execution_count": 18,
   "id": "4120cf42",
   "metadata": {},
   "outputs": [
    {
     "name": "stdout",
     "output_type": "stream",
     "text": [
      "False\n"
     ]
    }
   ],
   "source": [
    "def admission_status(admitted: bool) -> bool:\n",
    "    if admitted == \"admitted\":\n",
    "        return True\n",
    "    else:\n",
    "        return False\n",
    "    \n",
    "\n",
    "print(admission_status(True))"
   ]
  },
  {
   "cell_type": "code",
   "execution_count": 19,
   "id": "9fe0aae4",
   "metadata": {},
   "outputs": [
    {
     "data": {
      "text/plain": [
       "'Fellow ID: 20.6'"
      ]
     },
     "execution_count": 19,
     "metadata": {},
     "output_type": "execute_result"
    }
   ],
   "source": [
    "from typing import Union\n",
    "\n",
    "def get_fellow_id(id: Union[int,str]) -> str:\n",
    "    return f\"Fellow ID: {id}\"\n",
    "\n",
    "get_fellow_id(20)\n",
    "get_fellow_id(20.6)"
   ]
  },
  {
   "cell_type": "code",
   "execution_count": 20,
   "id": "c26a93da",
   "metadata": {},
   "outputs": [
    {
     "data": {
      "text/plain": [
       "'Fellow ID: 20.6'"
      ]
     },
     "execution_count": 20,
     "metadata": {},
     "output_type": "execute_result"
    }
   ],
   "source": [
    "get_fellow_id(20.6)"
   ]
  },
  {
   "cell_type": "code",
   "execution_count": 21,
   "id": "5af8cc0e",
   "metadata": {},
   "outputs": [
    {
     "data": {
      "text/plain": [
       "'Address: No.30,Osisami Street,Buhari Estate,Lagos State '"
      ]
     },
     "execution_count": 21,
     "metadata": {},
     "output_type": "execute_result"
    }
   ],
   "source": [
    "def format_address(house_number: str | int, street: str, state=\"Lagos State\") -> str:\n",
    "    return f\"Address: No.{house_number},{street},{state} \"\n",
    "\n",
    "format_address(\"30\", \"Osisami Street,Buhari Estate\")"
   ]
  },
  {
   "cell_type": "code",
   "execution_count": 22,
   "id": "80c29af0",
   "metadata": {},
   "outputs": [
    {
     "name": "stdout",
     "output_type": "stream",
     "text": [
      "{'David': 89, 'Michael': 98}\n"
     ]
    }
   ],
   "source": [
    "from typing import Dict\n",
    "\n",
    "fellow_scores: Dict[str, int] = {\n",
    "    \"David\": 89,\n",
    "    \"Michael\": 98\n",
    "}\n",
    "\n",
    "print(fellow_scores)"
   ]
  },
  {
   "cell_type": "code",
   "execution_count": 23,
   "id": "935808be",
   "metadata": {},
   "outputs": [
    {
     "ename": "TypeError",
     "evalue": "fellow_bio() takes 1 positional argument but 3 were given",
     "output_type": "error",
     "traceback": [
      "\u001b[31m---------------------------------------------------------------------------\u001b[39m",
      "\u001b[31mTypeError\u001b[39m                                 Traceback (most recent call last)",
      "\u001b[36mCell\u001b[39m\u001b[36m \u001b[39m\u001b[32mIn[23]\u001b[39m\u001b[32m, line 5\u001b[39m\n\u001b[32m      3\u001b[39m \u001b[38;5;28;01mdef\u001b[39;00m\u001b[38;5;250m \u001b[39m\u001b[34mfellow_bio\u001b[39m(fellow : Tuple[\u001b[38;5;28mstr\u001b[39m, \u001b[38;5;28mint\u001b[39m, \u001b[38;5;28mstr\u001b[39m]) -> \u001b[38;5;28mstr\u001b[39m: \n\u001b[32m      4\u001b[39m     \u001b[38;5;28;01mreturn\u001b[39;00m fellow\n\u001b[32m----> \u001b[39m\u001b[32m5\u001b[39m \u001b[38;5;28mprint\u001b[39m(\u001b[43mfellow_bio\u001b[49m\u001b[43m(\u001b[49m\u001b[33;43m\"\u001b[39;49m\u001b[33;43mPerpectual\u001b[39;49m\u001b[33;43m\"\u001b[39;49m\u001b[43m,\u001b[49m\u001b[43m \u001b[49m\u001b[32;43m12\u001b[39;49m\u001b[43m,\u001b[49m\u001b[43m \u001b[49m\u001b[33;43m\"\u001b[39;49m\u001b[33;43mAI Engineer\u001b[39;49m\u001b[33;43m\"\u001b[39;49m\u001b[43m)\u001b[49m)\n",
      "\u001b[31mTypeError\u001b[39m: fellow_bio() takes 1 positional argument but 3 were given"
     ]
    }
   ],
   "source": [
    "from typing import Tuple\n",
    "\n",
    "def fellow_bio(fellow : Tuple[str, int, str]) -> str: \n",
    "    return fellow\n",
    "print(fellow_bio(\"Perpectual\", 12, \"AI Engineer\"))"
   ]
  },
  {
   "cell_type": "code",
   "execution_count": null,
   "id": "7dbd3a29",
   "metadata": {},
   "outputs": [],
   "source": [
    "# %%capture \n",
    "# %pip install pydantic"
   ]
  },
  {
   "cell_type": "code",
   "execution_count": 26,
   "id": "20e4ee2e",
   "metadata": {},
   "outputs": [],
   "source": [
    "from pydantic import BaseModel, Field "
   ]
  },
  {
   "cell_type": "code",
   "execution_count": null,
   "id": "689a9c16",
   "metadata": {},
   "outputs": [],
   "source": [
    "# lets create a pydantic data model \n",
    "class Fellow(BaseModel):\n",
    "    name: str\n",
    "    score: int\n",
    "    track: str"
   ]
  },
  {
   "cell_type": "code",
   "execution_count": 28,
   "id": "a9ae3826",
   "metadata": {},
   "outputs": [
    {
     "ename": "NameError",
     "evalue": "name 'Fellow' is not defined",
     "output_type": "error",
     "traceback": [
      "\u001b[31m---------------------------------------------------------------------------\u001b[39m",
      "\u001b[31mNameError\u001b[39m                                 Traceback (most recent call last)",
      "\u001b[36mCell\u001b[39m\u001b[36m \u001b[39m\u001b[32mIn[28]\u001b[39m\u001b[32m, line 3\u001b[39m\n\u001b[32m      1\u001b[39m \u001b[38;5;66;03m# BaseModel is capable of \u001b[39;00m\n\u001b[32m      2\u001b[39m \u001b[38;5;66;03m# 1. Validation\u001b[39;00m\n\u001b[32m----> \u001b[39m\u001b[32m3\u001b[39m \u001b[43mFellow\u001b[49m(name=\u001b[33m\"\u001b[39m\u001b[33mMichael\u001b[39m\u001b[33m\"\u001b[39m, score=\u001b[32m88\u001b[39m, track=\u001b[33m\"\u001b[39m\u001b[33mAI Engineer\u001b[39m\u001b[33m\"\u001b[39m)\n",
      "\u001b[31mNameError\u001b[39m: name 'Fellow' is not defined"
     ]
    }
   ],
   "source": [
    "# BaseModel is capable of \n",
    "# 1. Validation\n",
    "Fellow(name=\"Michael\", score=88, track=\"AI Engineer\")"
   ]
  },
  {
   "cell_type": "code",
   "execution_count": null,
   "id": "86812d9c",
   "metadata": {},
   "outputs": [],
   "source": []
  }
 ],
 "metadata": {
  "kernelspec": {
   "display_name": "Osisami",
   "language": "python",
   "name": "python3"
  },
  "language_info": {
   "codemirror_mode": {
    "name": "ipython",
    "version": 3
   },
   "file_extension": ".py",
   "mimetype": "text/x-python",
   "name": "python",
   "nbconvert_exporter": "python",
   "pygments_lexer": "ipython3",
   "version": "3.13.6"
  }
 },
 "nbformat": 4,
 "nbformat_minor": 5
}
