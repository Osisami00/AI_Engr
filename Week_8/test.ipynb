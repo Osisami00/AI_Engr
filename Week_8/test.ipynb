{
 "cells": [
  {
   "cell_type": "markdown",
   "id": "8b9fb2f6",
   "metadata": {},
   "source": [
    "## Ingesting Data from different Sources"
   ]
  }
 ],
 "metadata": {
  "language_info": {
   "name": "python"
  }
 },
 "nbformat": 4,
 "nbformat_minor": 5
}
