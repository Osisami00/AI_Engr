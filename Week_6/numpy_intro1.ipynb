{
 "cells": [
  {
   "cell_type": "code",
   "execution_count": 1,
   "id": "df41b5d1",
   "metadata": {},
   "outputs": [
    {
     "name": "stdout",
     "output_type": "stream",
     "text": [
      "Numpy version: 2.3.2\n"
     ]
    }
   ],
   "source": [
    "# INTRODUCTION TO NUMPY \n",
    "import numpy as np \n",
    "import matplotlib.pyplot as plt\n",
    "import pandas as pd\n",
    "import seaborn as sns\n",
    "\n",
    "# check NmPy version\n",
    "print(f\"Numpy version: {np.__version__}\")\n",
    "\n",
    "# display settings for cleaner output\n",
    "\n",
    "np.set_printoptions(precision=3, suppress=True)"
   ]
  },
  {
   "cell_type": "code",
   "execution_count": 2,
   "id": "0d4bb7d6",
   "metadata": {},
   "outputs": [
    {
     "name": "stdout",
     "output_type": "stream",
     "text": [
      "1D array: [1 2 3 4 5]\n",
      "2D array:\n",
      ": [[1 2 3]\n",
      " [4 5 6]]\n",
      "3D array:\n",
      ": [[[1 2]\n",
      "  [3 4]]\n",
      "\n",
      " [[5 6]\n",
      "  [7 8]]]\n"
     ]
    }
   ],
   "source": [
    "# creating Numpy Array\n",
    "# 1D array: a simple sequence of numbers\n",
    "arr1d = np.array([1,2,3,4,5])\n",
    "\n",
    "# 2D array: think of it as a matrix or table with rows and cols\n",
    "arr2d = np.array([[1,2,3],\n",
    "                [4,5,6]])\n",
    "\n",
    "# 3D array: Like a stack off 2D arrays - useful for images, time series e.t.c\n",
    "arr3d = np.array([[[1,2], [3,4],],\n",
    "                  [[5,6], [7,8]]])\n",
    "\n",
    "print(\"1D array:\", arr1d)\n",
    "print(\"2D array:\\n:\", arr2d)\n",
    "print(\"3D array:\\n:\", arr3d)"
   ]
  },
  {
   "cell_type": "code",
   "execution_count": 3,
   "id": "d6278946",
   "metadata": {},
   "outputs": [
    {
     "name": "stdout",
     "output_type": "stream",
     "text": [
      "Zeros array (3x4):\n",
      " [[0. 0. 0. 0.]\n",
      " [0. 0. 0. 0.]\n",
      " [0. 0. 0. 0.]]\n",
      "Ones array shape: (2, 3, 4)\n",
      "Empty array (contains random values):\n",
      " [[0. 0.]\n",
      " [0. 0.]]\n"
     ]
    }
   ],
   "source": [
    "# Creating Special Arrays in Numpy\n",
    "\n",
    "# crating arrays filled with zero - useful for initilizing arrays\n",
    "# shape (3,4) means 3rows and 4cols\n",
    "zeros = np.zeros((3,4))\n",
    "\n",
    "# creatign arrays filled with ones\n",
    "ones = np.ones((2,3,4))  #3D array: 2layers, 3rows and 4cols\n",
    "\n",
    "# empty array - faster than zeros and ones but contains ramdom values\n",
    "# use when you will immediately fill the array wih real data\n",
    "empty = np.empty((2,2))\n",
    "\n",
    "print(\"Zeros array (3x4):\\n\", zeros)\n",
    "print(\"Ones array shape:\", ones.shape)\n",
    "print(\"Empty array (contains random values):\\n\", empty)"
   ]
  },
  {
   "cell_type": "code",
   "execution_count": 4,
   "id": "7714b0b3",
   "metadata": {},
   "outputs": [
    {
     "name": "stdout",
     "output_type": "stream",
     "text": [
      "Range array: [0 2 4 6 8]\n",
      "[0.   0.25 0.5  0.75 1.  ]\n",
      "Logspace array: [  1.      3.162  10.     31.623 100.   ]\n"
     ]
    }
   ],
   "source": [
    "# Range arrays - like Pyhton range() but more power\n",
    "\n",
    "range_arr = np.arange(0,10,2)   #start, stop, step\n",
    "print(\"Range array:\", range_arr)\n",
    "\n",
    "\n",
    "# linearly spaced arrays- divide a range into equal parts\n",
    "# from 0 to 1 with exactly 5point (including endpooints)\n",
    "\n",
    "linspace_arr = np.linspace(0,1,5)\n",
    "print(linspace_arr)\n",
    "\n",
    "# loagrithmically spaced arrays - useful for scientific data\n",
    "# from 10^0 to 10^2 (1 o 100) with points\n",
    "logspace_arr = np.logspace(0,2,5)\n",
    "print(\"Logspace array:\", logspace_arr)\n"
   ]
  },
  {
   "cell_type": "code",
   "execution_count": 5,
   "id": "fec081fd",
   "metadata": {},
   "outputs": [
    {
     "name": "stdout",
     "output_type": "stream",
     "text": [
      "Identity matrix:\n",
      " [[1. 0. 0. 0.]\n",
      " [0. 1. 0. 0.]\n",
      " [0. 0. 1. 0.]\n",
      " [0. 0. 0. 1.]]\n",
      "Diagonal matrix:\n",
      " [[1 0 0 0]\n",
      " [0 2 0 0]\n",
      " [0 0 3 0]\n",
      " [0 0 0 4]]\n",
      "Full array (filled with 7):\n",
      " [[7 7 7]\n",
      " [7 7 7]\n",
      " [7 7 7]]\n"
     ]
    }
   ],
   "source": [
    "# Identity matrix  - diagonal of ones, zeros elsewhere\n",
    "# Essential for linear algebra operation\n",
    "identity = np.eye(4)\n",
    "print(\"Identity matrix:\\n\", identity)\n",
    "# Diagonal matrix - put values on the diagonal\n",
    "diagonal = np.diag([1,2,3,4])\n",
    "print(\"Diagonal matrix:\\n\", diagonal)\n",
    "\n",
    "# Array filled with a specific value\n",
    "full_arr = np.full((3,3),7)   #3*3 array fille with 7\n",
    "print(\"Full array (filled with 7):\\n\", full_arr)"
   ]
  },
  {
   "cell_type": "code",
   "execution_count": 6,
   "id": "aa67bad3",
   "metadata": {},
   "outputs": [
    {
     "name": "stdout",
     "output_type": "stream",
     "text": [
      "Integer array dtype: int32\n",
      "Float array dtype: float64\n",
      "Boolean array dtype: bool\n",
      "float32\n",
      "int32 uses 4 byte per element\n",
      "float64 uses 8 byte per element\n"
     ]
    }
   ],
   "source": [
    "# NUMPY DATA TYPES\n",
    "int_arr = np.array([1,2,3], dtype=np.int32)   #32BI INTEGER\n",
    "float_arr = np.array([1,2,3], dtype=np.float64)  #644bit float\n",
    "bool_arr = np.array([True, False, True], dtype=np.bool_)  #boolean values\n",
    "print(\"Integer array dtype:\", int_arr.dtype)\n",
    "print(\"Float array dtype:\", float_arr.dtype)\n",
    "print(\"Boolean array dtype:\", bool_arr.dtype)\n",
    "\n",
    "\n",
    "# Type conversion - change dtype of existing array\n",
    "\n",
    "\n",
    "converted = int_arr.astype(np.float32)   #convert to 32bt float\n",
    "print(converted.dtype)\n",
    "\n",
    "\n",
    "#Memory usage comparison\n",
    "print(f\"int32 uses {int_arr.itemsize} byte per element\")\n",
    "print(f\"float64 uses {float_arr.itemsize} byte per element\")\n"
   ]
  },
  {
   "cell_type": "code",
   "execution_count": 7,
   "id": "dad4f668",
   "metadata": {},
   "outputs": [
    {
     "name": "stdout",
     "output_type": "stream",
     "text": [
      "Shape (2, 6, 5)\n",
      "Size: 60\n",
      "Ndim: 3\n",
      "Itemsize: 8\n",
      "Total size: 480\n",
      "Memory usage: 0.46875 KB\n"
     ]
    }
   ],
   "source": [
    "#ARRAY PROPERIES AND ATTRBUTES\n",
    "# understanding array properties helps you work effectively with your data and debug issue\n",
    "\n",
    "# create a simple 3D array for demonstration \n",
    "# think of this as 3 layer, each with 4 rows and 5 cols\n",
    "\n",
    "arr = np.random.randn(2, 6, 5)      #2layers, 6cols and 5rows\n",
    "\n",
    "\n",
    "# shape: the dimensions of thr array (layers, rows, col)\n",
    "print(\"Shape\", arr.shape)\n",
    "\n",
    "# Size: Total number of elements (3 × 4 × 5 = 60)\n",
    "print(\"Size:\", arr.size)\n",
    "\n",
    "# NDim: Number of dimensions (3D inn this case)\n",
    "print(\"Ndim:\", arr.ndim)\n",
    "\n",
    "# Dtype: Data type element\n",
    "# print(\"Dtype:\", arr.dtype)\n",
    "\n",
    "# Itemize: Memory size of each element in byte\n",
    "print(\"Itemsize:\", arr.itemsize)\n",
    "\n",
    "# Total size of elements\n",
    "print(\"Total size:\", arr.nbytes)   #size * itemsize\n",
    "\n",
    "print(\"Memory usage:\", arr.nbytes / 1024, \"KB\") #converting bytes to kilobyte"
   ]
  },
  {
   "cell_type": "code",
   "execution_count": 8,
   "id": "011d744b",
   "metadata": {},
   "outputs": [
    {
     "name": "stdout",
     "output_type": "stream",
     "text": [
      "10\n",
      "50\n",
      "[20 30 40]\n",
      "[10 30 50]\n"
     ]
    }
   ],
   "source": [
    "# ARRAY INDEXING AND SLICING\n",
    "\n",
    "# bASIC indexing\n",
    "# numpy indexing is simlar to python list but more powerful for multidimensional arrays\n",
    "\n",
    "# 1D array indexing - similar to python list\n",
    "arr1d = np.array([10, 20, 30, 40, 50])\n",
    "\n",
    "print(arr1d[0])\n",
    "print(arr1d[-1])\n",
    "print(arr1d[1:4])\n",
    "print(arr1d[::2])"
   ]
  },
  {
   "cell_type": "code",
   "execution_count": 9,
   "id": "fff68a74",
   "metadata": {},
   "outputs": [
    {
     "name": "stdout",
     "output_type": "stream",
     "text": [
      "Element at row 1, col2: 7\n",
      "Element 11: 11\n",
      "First row: [1 2 3 4]\n",
      "Second cols: [ 2  6 10]\n",
      "Third col: [ 3  7 11]\n",
      "Third row: [5 6 7 8]\n",
      "Subarray (row 1-2, cols 1-2):\n",
      " [[ 6  7]\n",
      " [10 11]]\n",
      "[[ 5  6  7]\n",
      " [ 9 10 11]]\n"
     ]
    }
   ],
   "source": [
    "# Nagative indices count from the end (-1)\n",
    "# slicing uses [start:stop:step]\n",
    "\n",
    "# 2d array indexing - row and cols access\n",
    "arr2d = np.array([[1, 2, 3, 4],\n",
    "                  [5, 6, 7, 8],\n",
    "                  [9, 10, 11, 12]])\n",
    "\n",
    "# access specific element: [row, col]\n",
    "print(\"Element at row 1, col2:\", arr2d[1,2])\n",
    "\n",
    "print(\"Element 11:\", arr2d[2, 2])\n",
    "\n",
    "# Access entire rows or cols\n",
    "print(\"First row:\", arr2d[0, :])\n",
    "print(\"Second cols:\", arr2d[:, 1])\n",
    "print(\"Third col:\", arr2d[:, 2])\n",
    "print(\"Third row:\", arr2d[1, :])\n",
    "\n",
    "# subarray slicing: [row_start: row_end, col_start:col_end]\n",
    "print(\"Subarray (row 1-2, cols 1-2):\\n\", arr2d[1:3, 1:3])\n",
    "print(arr2d[1:4, 0:3])"
   ]
  },
  {
   "cell_type": "code",
   "execution_count": 10,
   "id": "8dda1776",
   "metadata": {},
   "outputs": [
    {
     "name": "stdout",
     "output_type": "stream",
     "text": [
      "Fancy Indexing: [10 30 50]\n",
      "Random order: [50 20 40 20]\n"
     ]
    }
   ],
   "source": [
    "# Advance Indexing\n",
    "arr = np.array([10, 20, 30, 40, 50])\n",
    "indices =np.array([0, 2, 4])  #to select element at position\n",
    "print(\"Fancy Indexing:\", arr[indices])  #[10, 30, 50]\n",
    "\n",
    "# This is more flexible than simple slicing\n",
    "random_indices = np.array([4, 1, 3, 1])\n",
    "print(\"Random order:\", arr[random_indices])  #[50, 20, 40, 20]"
   ]
  },
  {
   "cell_type": "code",
   "execution_count": 11,
   "id": "94a68dbe",
   "metadata": {},
   "outputs": [
    {
     "name": "stdout",
     "output_type": "stream",
     "text": [
      "[[ 0  1  2  3]\n",
      " [ 4  5  6  7]\n",
      " [ 8  9 10 11]]\n",
      "[ 1 11]\n",
      "Selected rows:\n",
      " [[ 0  1  2  3]\n",
      " [ 8  9 10 11]]\n"
     ]
    }
   ],
   "source": [
    "# Fancy indexing lets you select elements in any order, repeat element, and \n",
    "# selct non-contageous elements. very useful in data sampling and roredering\n",
    "\n",
    "\n",
    "# 2D fancy indexing -select specific ro/col combination\n",
    "arr2d = np.arange(12).reshape(3, 4)\n",
    "print(arr2d)\n",
    "\n",
    "\n",
    "# select elements at (row,col) pairs: (0,1) and (2,3)\n",
    "rows = np.array([0, 2])\n",
    "cols = np.array([1, 3])\n",
    "\n",
    "print(arr2d[rows, cols])\n",
    "\n",
    "\n",
    "# select entire rows using fancy indexing\n",
    "selected_rows= arr2d[[0, 2], :]\n",
    "print(\"Selected rows:\\n\", selected_rows)"
   ]
  },
  {
   "cell_type": "code",
   "execution_count": 12,
   "id": "e8455217",
   "metadata": {},
   "outputs": [
    {
     "name": "stdout",
     "output_type": "stream",
     "text": [
      "Original 1D array: [ 0  1  2  3  4  5  6  7  8  9 10 11]\n",
      "Reshaped to 3x4:\n",
      " [[ 0  1  2  3]\n",
      " [ 4  5  6  7]\n",
      " [ 8  9 10 11]]\n",
      "Reshaped to 2x2x3:\n",
      " [[[ 0  1  2]\n",
      "  [ 3  4  5]]\n",
      "\n",
      " [[ 6  7  8]\n",
      "  [ 9 10 11]]]\n",
      "Auto-reshaped to 4x?:\n",
      " [[ 0  1  2]\n",
      " [ 3  4  5]\n",
      " [ 6  7  8]\n",
      " [ 9 10 11]]\n"
     ]
    }
   ],
   "source": [
    "# Start with a 1D array\n",
    "arr = np.arange(12)  # [0, 1, 2, 3, 4, 5, 6, 7, 8, 9, 10, 11]\n",
    "print(\"Original 1D array:\", arr)\n",
    "\n",
    "# Reshape to 2D: 3 rows × 4 columns\n",
    "reshaped_2d = arr.reshape(3, 4)\n",
    "print(\"Reshaped to 3x4:\\n\", reshaped_2d)\n",
    "\n",
    "# Reshape to 3D: 2 layers × 2 rows × 3 columns  \n",
    "reshaped_3d = arr.reshape(2, 2, 3)\n",
    "print(\"Reshaped to 2x2x3:\\n\", reshaped_3d)\n",
    "\n",
    "# Use -1 to let NumPy calculate one dimension automatically\n",
    "auto_reshape = arr.reshape(4, -1)  # 4 rows, NumPy calculates columns\n",
    "print(\"Auto-reshaped to 4x?:\\n\", auto_reshape)  #ask"
   ]
  },
  {
   "cell_type": "code",
   "execution_count": 13,
   "id": "ce82567f",
   "metadata": {},
   "outputs": [
    {
     "name": "stdout",
     "output_type": "stream",
     "text": [
      "Flattened (copy): [1 2 3 4 5 6]\n",
      "Ravel (view if possible): [1 2 3 4 5 6]\n",
      "After modifying original:\n",
      "Flattened (unchanged): [1 2 3 4 5 6]\n",
      "Ravel (changed): [999   2   3   4   5   6]\n"
     ]
    }
   ],
   "source": [
    "# Flattening - convert multi-dimensional array to 1D\n",
    "arr2d = np.array([[1, 2, 3], [4, 5, 6]])\n",
    "\n",
    "# flatten() always return a copy\n",
    "flattened = arr2d.flatten()\n",
    "print(\"Flattened (copy):\", flattened)\n",
    "\n",
    "# ravel() returns a view if possible (faster, memory efficient)\n",
    "ravel = arr2d.ravel()                       \n",
    "print(\"Ravel (view if possible):\", ravel)\n",
    "\n",
    "# Demonstrate the difference\n",
    "arr2d[0, 0] = 999\n",
    "print(\"After modifying original:\")\n",
    "print(\"Flattened (unchanged):\", flattened)  # Copy is independent\n",
    "print(\"Ravel (changed):\", ravel)            # View reflects changes"
   ]
  },
  {
   "cell_type": "code",
   "execution_count": 14,
   "id": "8b09408c",
   "metadata": {},
   "outputs": [
    {
     "name": "stdout",
     "output_type": "stream",
     "text": [
      "(2, 3)\n",
      "[[1 2 3]\n",
      " [4 5 6]]\n",
      "[[1 4]\n",
      " [2 5]\n",
      " [3 6]]\n",
      "(3, 2)\n",
      "Transpose method:\n",
      " [[1 4]\n",
      " [2 5]\n",
      " [3 6]]\n"
     ]
    }
   ],
   "source": [
    "# TRANSPOSING and SWAPPING AXES\n",
    "# Transposing is essential for matrix operations and chan\n",
    "\n",
    "# 2D transpiton - flips row and cols\n",
    "\n",
    "arr2d = np.array(([1, 2, 3],\n",
    "                  [4, 5, 6]))\n",
    "\n",
    "print(arr2d.shape)    #(2, 3)\n",
    "print(arr2d)\n",
    "print(arr2d.T)\n",
    "print(arr2d.T.shape)  #(3,2)\n",
    "\n",
    "\n",
    "# Alternative transpose methods\n",
    "print(\"Transpose method:\\n\", arr2d.transpose())"
   ]
  },
  {
   "cell_type": "code",
   "execution_count": 15,
   "id": "8a8e0c7b",
   "metadata": {},
   "outputs": [
    {
     "name": "stdout",
     "output_type": "stream",
     "text": [
      "[[[ 0  1  2  3]\n",
      "  [ 4  5  6  7]\n",
      "  [ 8  9 10 11]]\n",
      "\n",
      " [[12 13 14 15]\n",
      "  [16 17 18 19]\n",
      "  [20 21 22 23]]]\n"
     ]
    },
    {
     "data": {
      "text/plain": [
       "(3, 4, 2)"
      ]
     },
     "execution_count": 15,
     "metadata": {},
     "output_type": "execute_result"
    }
   ],
   "source": [
    "# Higher Dimensional transposition\n",
    "arr3d = np.arange(24).reshape(2, 3, 4)  # 2 layers, 3 rows, 4 columns\n",
    "print(arr3d)\n",
    "\n",
    "# specify new axis order: (axis0, axis1,axis2,) -> (axis2,axis0,axis1)\n",
    "transpose_3d = arr3d.transpose(2, 0, 1)\n",
    "transpose_3d\n",
    "\n",
    "# move axis is anothr way to rearrange axes\n",
    "moved = np.moveaxis(arr3d, 0, -1)\n",
    "moved.shape"
   ]
  },
  {
   "cell_type": "code",
   "execution_count": 16,
   "id": "4608a4d6",
   "metadata": {},
   "outputs": [
    {
     "data": {
      "text/plain": [
       "array([[1, 2, 5, 6],\n",
       "       [3, 4, 7, 8]])"
      ]
     },
     "execution_count": 16,
     "metadata": {},
     "output_type": "execute_result"
    }
   ],
   "source": [
    "# Concatenation and Splitting Array\n",
    "# combining and dividing arrays is fundamental for data manipulation\n",
    "arr1 = np.array ([[1,2], [3,4]])\n",
    "arr2 = np.array([[5,6], [7,8]])\n",
    "\n",
    "# concatenation along different axes\n",
    "concat_rows = np.concatenate([arr1, arr2], axis=0)   # Stack vertically (add rows)\n",
    "concat_rows\n",
    "concat_cols = np.concatenate([arr1,arr2], axis=1)   # Stack horizontally (add columns)\n",
    "concat_cols"
   ]
  },
  {
   "cell_type": "code",
   "execution_count": 17,
   "id": "cebd4cb4",
   "metadata": {},
   "outputs": [
    {
     "name": "stdout",
     "output_type": "stream",
     "text": [
      "Part 0: \n",
      " [[0 1 2 3]]\n",
      "Part 1: \n",
      " [[4 5 6 7]]\n",
      "Part 2: \n",
      " [[ 8  9 10 11]]\n"
     ]
    }
   ],
   "source": [
    "# convenient stacking func\n",
    "arr1 = np.array ([[1,2], [3,4]])\n",
    "arr2 = np.array([[5,6], [7,8]])\n",
    "\n",
    "vstack_result = np.vstack([arr1, arr2])     #vertical axis(axis=0)\n",
    "vstack_result\n",
    "hstack_result = np.hstack([arr1,arr2])     #horizontal axis(axis=1)\n",
    "hstack_result\n",
    "\n",
    "dstack_result = np.dstack([arr1, arr2])    #stack into 3dimension\n",
    "dstack_result.shape\n",
    "\n",
    "\n",
    "\n",
    "\n",
    "# splitting arrays - Opposite of contenation\n",
    "\n",
    "arr = np.arange(12).reshape(3,4)\n",
    "arr\n",
    "\n",
    "\n",
    "split_arrays = np.split(arr, 3, axis=0)   #this split the array into 3\n",
    "split_arrays\n",
    "for i, split_part in enumerate(split_arrays):\n",
    "    print(f\"Part {i}: \\n\", split_part)"
   ]
  },
  {
   "cell_type": "code",
   "execution_count": 18,
   "id": "905689b7",
   "metadata": {},
   "outputs": [
    {
     "data": {
      "text/plain": [
       "array([1, 2, 0, 1])"
      ]
     },
     "execution_count": 18,
     "metadata": {},
     "output_type": "execute_result"
    }
   ],
   "source": [
    "# MAth Operations\n",
    "# Element-wise Operations - The Power of Vectorization\n",
    "# Basic arithmetic operations work element by element\n",
    "\n",
    "arr1 = np.array([1,2,3,4,])\n",
    "arr2 = np.array([10,20,30,40])\n",
    "\n",
    "arr1 + arr2\n",
    "arr2 - arr1\n",
    "arr1 * arr2\n",
    "arr2 / arr1\n",
    "arr1 **2\n",
    "arr2 % 3"
   ]
  },
  {
   "cell_type": "code",
   "execution_count": 19,
   "id": "e3f458e2",
   "metadata": {},
   "outputs": [
    {
     "data": {
      "text/plain": [
       "array([11, 13, 15, 17])"
      ]
     },
     "execution_count": 19,
     "metadata": {},
     "output_type": "execute_result"
    }
   ],
   "source": [
    "# Operations with Scaler - broadcasting in action\n",
    "\n",
    "arr1 = np.array([1,2,3,4,])\n",
    "arr1 + 10   #adds 10 to all elment in the array\n",
    "arr1 * 2   #multiply all ekement\n",
    "arr1 / 2   #divide all element\n",
    "\n",
    "\n",
    "# Compound Operations\n",
    "result = (arr1 + 5) * 2-1\n",
    "result"
   ]
  },
  {
   "cell_type": "code",
   "execution_count": 20,
   "id": "6ed04391",
   "metadata": {},
   "outputs": [
    {
     "data": {
      "text/plain": [
       "array([0.   , 2.   , 3.17 , 4.   , 4.644])"
      ]
     },
     "execution_count": 20,
     "metadata": {},
     "output_type": "execute_result"
    }
   ],
   "source": [
    "# Maths Funcs - Beyond Basic Arithmetic\n",
    "\n",
    "arr = np.array([1,4,9,16,25])\n",
    "arr\n",
    "\n",
    "# square roots and powers\n",
    "np.sqrt(arr)     #square root\n",
    "np.square(arr)      #sauare\n",
    "np.cbrt(arr)     #cube root\n",
    "\n",
    "\n",
    "# Exponential and Logic Funcs\n",
    "small_arr = np.array([1, 2, 3])\n",
    "np.exp(small_arr)       #exponential\n",
    "np.log(arr)\n",
    "np.log10(arr)\n",
    "np.log2(arr)\n"
   ]
  },
  {
   "cell_type": "code",
   "execution_count": 21,
   "id": "d4f47e30",
   "metadata": {},
   "outputs": [
    {
     "name": "stdout",
     "output_type": "stream",
     "text": [
      "Angles (radians): [0.    0.785 1.571 3.142]\n",
      "Sine: [0.    0.707 1.    0.   ]\n",
      "Cosine: [ 1.     0.707  0.    -1.   ]\n",
      "Tangent: [ 0.000e+00  1.000e+00  1.633e+16 -1.225e-16]\n"
     ]
    },
    {
     "data": {
      "text/plain": [
       "array([0.   , 0.785, 1.571, 3.142])"
      ]
     },
     "execution_count": 21,
     "metadata": {},
     "output_type": "execute_result"
    }
   ],
   "source": [
    "# Trigonometric functions - essential for signal processing and geometry\n",
    "angles = np.array([0, np.pi/4, np.pi/2, np.pi])\n",
    "print(\"Angles (radians):\", angles)\n",
    "print(\"Sine:\", np.sin(angles))                # [0, √2/2, 1, 0]\n",
    "print(\"Cosine:\", np.cos(angles))              # [1, √2/2, 0, -1]\n",
    "print(\"Tangent:\", np.tan(angles))             # [0, 1, ∞, 0]\n",
    "\n",
    "# Convert degrees to radians\n",
    "degree = np.array([0,45,90,180])\n",
    "radians = np.deg2rad(degree)\n",
    "radians\n",
    "\n",
    "\n",
    "# print(np.pi/4)\n",
    "# print(np.pi/2)\n",
    "# print(np.pi)"
   ]
  },
  {
   "cell_type": "code",
   "execution_count": 22,
   "id": "0b72c7d8",
   "metadata": {},
   "outputs": [
    {
     "name": "stdout",
     "output_type": "stream",
     "text": [
      "Original decimals: [ 1.234  5.678  9.999 -2.345]\n"
     ]
    },
    {
     "data": {
      "text/plain": [
       "array([ 1.,  5.,  9., -2.])"
      ]
     },
     "execution_count": 22,
     "metadata": {},
     "output_type": "execute_result"
    }
   ],
   "source": [
    "# Rounding and comparison functions\n",
    "decimals = np.array([1.234, 5.678, 9.999, -2.345])\n",
    "print(\"Original decimals:\", decimals)\n",
    "\n",
    "np.round(decimals, 2)   #decimal place\n",
    "np.floor(decimals)      #to round down\n",
    "np.ceil(decimals)    #rounds up\n",
    "np.trunc(decimals)      #takes away the decimal num\n",
    "\n",
    "\n",
    "\n"
   ]
  },
  {
   "cell_type": "code",
   "execution_count": 23,
   "id": "56a48c2f",
   "metadata": {},
   "outputs": [
    {
     "name": "stdout",
     "output_type": "stream",
     "text": [
      "Sample array:\n",
      " [[1 2 3]\n",
      " [4 5 6]\n",
      " [7 8 9]]\n",
      "Sum of all elements: 45\n",
      "Mean of all elements: 5.0\n",
      "Standard deviation: 2.581988897471611\n",
      "Minimum value: 1\n",
      "Maximum value: 9\n"
     ]
    }
   ],
   "source": [
    "# AGGREGATE FUNCS\n",
    "# It reduces arrays to summary stat\n",
    "# Create a 2D array for demonstration\n",
    "arr = np.array([[1, 2, 3], \n",
    "                [4, 5, 6], \n",
    "                [7, 8, 9]])\n",
    "print(\"Sample array:\\n\", arr)\n",
    "\n",
    "# Aggregation across entire array\n",
    "print(\"Sum of all elements:\", np.sum(arr))        # 45\n",
    "print(\"Mean of all elements:\", np.mean(arr))      # 5.0\n",
    "print(\"Standard deviation:\", np.std(arr))         # 2.58\n",
    "print(\"Minimum value:\", np.min(arr))              # 1\n",
    "print(\"Maximum value:\", np.max(arr))              # 9"
   ]
  }
 ],
 "metadata": {
  "kernelspec": {
   "display_name": "Osisami",
   "language": "python",
   "name": "python3"
  },
  "language_info": {
   "codemirror_mode": {
    "name": "ipython",
    "version": 3
   },
   "file_extension": ".py",
   "mimetype": "text/x-python",
   "name": "python",
   "nbconvert_exporter": "python",
   "pygments_lexer": "ipython3",
   "version": "3.13.7"
  }
 },
 "nbformat": 4,
 "nbformat_minor": 5
}
