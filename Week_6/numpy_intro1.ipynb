{
 "cells": [
  {
   "cell_type": "code",
   "execution_count": 8,
   "id": "df41b5d1",
   "metadata": {},
   "outputs": [
    {
     "name": "stdout",
     "output_type": "stream",
     "text": [
      "Numpy version: 2.3.2\n"
     ]
    }
   ],
   "source": [
    "# INTRODUCTION TO NUMPY \n",
    "import numpy as np \n",
    "import matplotlib.pyplot as plt\n",
    "import pandas as pd\n",
    "import seaborn as sns\n",
    "\n",
    "# check NmPy version\n",
    "print(f\"Numpy version: {np.__version__}\")\n",
    "\n",
    "# display settings for cleaner output\n",
    "\n",
    "np.set_printoptions(precision=3, suppress=True)"
   ]
  },
  {
   "cell_type": "code",
   "execution_count": 10,
   "id": "0d4bb7d6",
   "metadata": {},
   "outputs": [
    {
     "name": "stdout",
     "output_type": "stream",
     "text": [
      "1D array: [1 2 3 4 5]\n",
      "2D array:\n",
      ": [[1 2 3]\n",
      " [4 5 6]]\n",
      "3D array:\n",
      ": [[[1 2]\n",
      "  [3 4]]\n",
      "\n",
      " [[5 6]\n",
      "  [7 8]]]\n"
     ]
    }
   ],
   "source": [
    "# creating Numpy Array\n",
    "# 1D array: a simple sequence of numbers\n",
    "arr1d = np.array([1,2,3,4,5])\n",
    "\n",
    "# 2D array: think of it as a matrix or table with rows and cols\n",
    "arr2d = np.array([[1,2,3],\n",
    "                [4,5,6]])\n",
    "\n",
    "# 3D array: Like a stack off 2D arrays - useful for images, time series e.t.c\n",
    "arr3d = np.array([[[1,2], [3,4],],\n",
    "                  [[5,6], [7,8]]])\n",
    "\n",
    "print(\"1D array:\", arr1d)\n",
    "print(\"2D array:\\n:\", arr2d)\n",
    "print(\"3D array:\\n:\", arr3d)"
   ]
  },
  {
   "cell_type": "code",
   "execution_count": 11,
   "id": "d6278946",
   "metadata": {},
   "outputs": [
    {
     "name": "stdout",
     "output_type": "stream",
     "text": [
      "Zeros array (3x4):\n",
      " [[0. 0. 0. 0.]\n",
      " [0. 0. 0. 0.]\n",
      " [0. 0. 0. 0.]]\n",
      "Ones array shape: (2, 3, 4)\n",
      "Empty array (contains random values):\n",
      " [[0. 0.]\n",
      " [0. 0.]]\n"
     ]
    }
   ],
   "source": [
    "# Creating Special Arrays in Numpy\n",
    "\n",
    "# crating arrays filled with zero - useful for initilizing arrays\n",
    "# shape (3,4) means 3rows and 4cols\n",
    "zeros = np.zeros((3,4))\n",
    "\n",
    "# creatign arrays filled with ones\n",
    "ones = np.ones((2,3,4))  #3D array: 2layers, 3rows and 4cols\n",
    "\n",
    "# empty array - faster than zeros and ones but contains ramdom values\n",
    "# use when you will immediately fill the array wih real data\n",
    "empty = np.empty((2,2))\n",
    "\n",
    "print(\"Zeros array (3x4):\\n\", zeros)\n",
    "print(\"Ones array shape:\", ones.shape)\n",
    "print(\"Empty array (contains random values):\\n\", empty)"
   ]
  },
  {
   "cell_type": "code",
   "execution_count": 15,
   "id": "7714b0b3",
   "metadata": {},
   "outputs": [
    {
     "name": "stdout",
     "output_type": "stream",
     "text": [
      "Range array: [0 2 4 6 8]\n",
      "[0.   0.25 0.5  0.75 1.  ]\n",
      "Logspace array: [  1.      3.162  10.     31.623 100.   ]\n"
     ]
    }
   ],
   "source": [
    "# Range arrays - like Pyhton range() but more power\n",
    "\n",
    "range_arr = np.arange(0,10,2)   #start, stop, step\n",
    "print(\"Range array:\", range_arr)\n",
    "\n",
    "\n",
    "# linearly spaced arrays- divide a range into equal parts\n",
    "# from 0 to 1 with exactly 5point (including endpooints)\n",
    "\n",
    "linspace_arr = np.linspace(0,1,5)\n",
    "print(linspace_arr)\n",
    "\n",
    "# loagrithmically spaced arrays - useful for scientific data\n",
    "# from 10^0 to 10^2 (1 o 100) with points\n",
    "logspace_arr = np.logspace(0,2,5)\n",
    "print(\"Logspace array:\", logspace_arr)\n"
   ]
  },
  {
   "cell_type": "code",
   "execution_count": 20,
   "id": "fec081fd",
   "metadata": {},
   "outputs": [
    {
     "name": "stdout",
     "output_type": "stream",
     "text": [
      "Identity matrix:\n",
      " [[1. 0. 0. 0.]\n",
      " [0. 1. 0. 0.]\n",
      " [0. 0. 1. 0.]\n",
      " [0. 0. 0. 1.]]\n",
      "Diagonal matrix:\n",
      " [[1 0 0 0]\n",
      " [0 2 0 0]\n",
      " [0 0 3 0]\n",
      " [0 0 0 4]]\n",
      "Full array (filled with 7):\n",
      " [[7 7 7]\n",
      " [7 7 7]\n",
      " [7 7 7]]\n"
     ]
    }
   ],
   "source": [
    "# Identity matrix  - diagonal of ones, zeros elsewhere\n",
    "# Essential for linear algebra operation\n",
    "identity = np.eye(4)\n",
    "print(\"Identity matrix:\\n\", identity)\n",
    "# Diagonal matrix - put values on the diagonal\n",
    "diagonal = np.diag([1,2,3,4])\n",
    "print(\"Diagonal matrix:\\n\", diagonal)\n",
    "\n",
    "# Array filled with a specific value\n",
    "full_arr = np.full((3,3),7)   #3*3 array fille with 7\n",
    "print(\"Full array (filled with 7):\\n\", full_arr)"
   ]
  },
  {
   "cell_type": "code",
   "execution_count": 26,
   "id": "aa67bad3",
   "metadata": {},
   "outputs": [
    {
     "name": "stdout",
     "output_type": "stream",
     "text": [
      "Integer array dtype: int32\n",
      "Float array dtype: float64\n",
      "Boolean array dtype: bool\n",
      "float32\n",
      "int32 uses 4 byte per element\n",
      "float64 uses 8 byte per element\n"
     ]
    }
   ],
   "source": [
    "# NUMPY DATA TYPES\n",
    "int_arr = np.array([1,2,3], dtype=np.int32)   #32BI INTEGER\n",
    "float_arr = np.array([1,2,3], dtype=np.float64)  #644bit float\n",
    "bool_arr = np.array([True, False, True], dtype=np.bool_)  #boolean values\n",
    "print(\"Integer array dtype:\", int_arr.dtype)\n",
    "print(\"Float array dtype:\", float_arr.dtype)\n",
    "print(\"Boolean array dtype:\", bool_arr.dtype)\n",
    "\n",
    "\n",
    "# Type conversion - change dtype of existing array\n",
    "\n",
    "\n",
    "converted = int_arr.astype(np.float32)   #convert to 32bt float\n",
    "print(converted.dtype)\n",
    "\n",
    "\n",
    "#Memory usage comparison\n",
    "print(f\"int32 uses {int_arr.itemsize} byte per element\")\n",
    "print(f\"float64 uses {float_arr.itemsize} byte per element\")\n"
   ]
  },
  {
   "cell_type": "code",
   "execution_count": null,
   "id": "dad4f668",
   "metadata": {},
   "outputs": [
    {
     "data": {
      "text/plain": [
       "array([[[ 0.346, -0.244, -0.546,  0.504,  0.746],\n",
       "        [ 0.818, -0.221,  2.423, -0.176,  0.192],\n",
       "        [-0.624, -0.088, -1.178, -0.156,  0.54 ],\n",
       "        [ 1.202,  1.533,  1.588, -0.244,  0.082],\n",
       "        [ 1.709, -1.36 ,  0.669, -1.111, -0.167],\n",
       "        [-0.687, -0.366, -0.467,  0.998,  0.581]],\n",
       "\n",
       "       [[-1.418,  1.317,  0.332, -0.147, -0.974],\n",
       "        [ 1.562, -0.371, -1.305, -0.56 ,  0.372],\n",
       "        [ 0.24 , -0.776, -0.123,  0.568, -0.757],\n",
       "        [-0.231,  0.638, -0.169,  1.981, -1.137],\n",
       "        [-0.018,  0.132,  0.268,  0.155,  0.911],\n",
       "        [-1.022,  0.249, -0.154, -2.096,  1.494]]])"
      ]
     },
     "execution_count": 29,
     "metadata": {},
     "output_type": "execute_result"
    }
   ],
   "source": [
    "#ARRAY PROPERIES AND ATTRBUTES\n",
    "# understanding array properties helps you work effectively with your data and debug issue\n",
    "\n",
    "# create a simple 3D array for demonstration \n",
    "# think of this as 3 layer, each with 4 rows and 5 cols\n",
    "\n",
    "arr = np.random.randn(2, 6, 5)      #2layers, 6cols and 5rows\n",
    "\n",
    "\n",
    "# shape: the dimensions of thr array (layers, rows, col)\n",
    "print(\"Shape\", arr.shape)\n",
    "\n",
    "# Size: Total number of elements (3 × 4 × 5 = 60)\n",
    "print(\"Size:\", arr.size)\n",
    "\n",
    "# NDim: Number of dimensions (3D inn this case)\n",
    "print(\"Ndim:\", arr.ndim)\n",
    "\n",
    "# Dtype: Data type element\n",
    "print(\"Dtype:\", arr.dtype)\n",
    "\n",
    "-m "
   ]
  },
  {
   "cell_type": "code",
   "execution_count": null,
   "id": "011d744b",
   "metadata": {},
   "outputs": [],
   "source": []
  }
 ],
 "metadata": {
  "kernelspec": {
   "display_name": "Osisami",
   "language": "python",
   "name": "python3"
  },
  "language_info": {
   "codemirror_mode": {
    "name": "ipython",
    "version": 3
   },
   "file_extension": ".py",
   "mimetype": "text/x-python",
   "name": "python",
   "nbconvert_exporter": "python",
   "pygments_lexer": "ipython3",
   "version": "3.13.7"
  }
 },
 "nbformat": 4,
 "nbformat_minor": 5
}
