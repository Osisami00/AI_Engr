{
 "cells": [
  {
   "cell_type": "markdown",
   "id": "92ea037d",
   "metadata": {},
   "source": [
    "###  Pandas 101"
   ]
  },
  {
   "cell_type": "code",
   "execution_count": null,
   "id": "68d34c0e",
   "metadata": {},
   "outputs": [],
   "source": [
    "import pandas as pd\n",
    "import os"
   ]
  },
  {
   "cell_type": "code",
   "execution_count": null,
   "id": "785b7217",
   "metadata": {},
   "outputs": [],
   "source": [
    "# loc and iloc are called indexers\n",
    "# LEts learn how they work and how they differ from each other\n",
    "sales = pd.read_csv(\"sales_data.xls\")"
   ]
  },
  {
   "cell_type": "code",
   "execution_count": null,
   "id": "766aafab",
   "metadata": {},
   "outputs": [],
   "source": [
    "sales.head(3)"
   ]
  },
  {
   "cell_type": "code",
   "execution_count": null,
   "id": "d21fd96a",
   "metadata": {},
   "outputs": [],
   "source": [
    "sales.isna().sum()"
   ]
  },
  {
   "cell_type": "code",
   "execution_count": null,
   "id": "2f0a031a",
   "metadata": {},
   "outputs": [],
   "source": [
    "sales.shape"
   ]
  },
  {
   "cell_type": "code",
   "execution_count": null,
   "id": "7bf3656c",
   "metadata": {},
   "outputs": [],
   "source": [
    "# for loc and iloc, argument 1 is for rows while argument 2 is for columns\n",
    "# the main purpose of the loc and iloc is for indexing\n",
    "\n",
    "# Using loc\n",
    "\n",
    "[0, 2, 4,6]\n",
    "sales.loc[[0,2,4,6]]\n",
    "# this works with both interger and strings...\n",
    "#sales.loc[[0,2,4,6]] #list of the row I want to separate... double braces...\n"
   ]
  },
  {
   "cell_type": "code",
   "execution_count": null,
   "id": "a1187823",
   "metadata": {},
   "outputs": [],
   "source": [
    "# Using iloc\n",
    "sales.iloc[0,2,4,6]\n"
   ]
  },
  {
   "cell_type": "code",
   "execution_count": null,
   "id": "a3230c95",
   "metadata": {},
   "outputs": [],
   "source": [
    "# Indexing cols"
   ]
  }
 ],
 "metadata": {
  "kernelspec": {
   "display_name": "Osisami",
   "language": "python",
   "name": "python3"
  },
  "language_info": {
   "codemirror_mode": {
    "name": "ipython",
    "version": 3
   },
   "file_extension": ".py",
   "mimetype": "text/x-python",
   "name": "python",
   "nbconvert_exporter": "python",
   "pygments_lexer": "ipython3",
   "version": "3.13.6"
  }
 },
 "nbformat": 4,
 "nbformat_minor": 5
}
