{
 "cells": [
  {
   "cell_type": "code",
   "execution_count": null,
   "id": "45ac7b86",
   "metadata": {
    "vscode": {
     "languageId": "plaintext"
    }
   },
   "outputs": [],
   "source": [
    "print(\"hello Mike\")"
   ]
  },
  {
   "cell_type": "markdown",
   "id": "2897c138",
   "metadata": {},
   "source": [
    "print(\"hello world\")"
   ]
  }
 ],
 "metadata": {
  "language_info": {
   "name": "python"
  }
 },
 "nbformat": 4,
 "nbformat_minor": 5
}
