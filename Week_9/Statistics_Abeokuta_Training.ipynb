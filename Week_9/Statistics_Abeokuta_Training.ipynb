{
  "cells": [
    {
      "cell_type": "markdown",
      "metadata": {
        "id": "C0LUU6FAwOlR"
      },
      "source": [
        "# ***INTRODUCTION TO STATISTICS***\n",
        "\n",
        "\n",
        "Welcome to this study on **Statistics for Data Science**!\n",
        "\n",
        "In this journey, we'll dive into key statistical concepts that are essential for AI and Machine Learning. We'll start with foundational concepts and progressively tackle more advanced topics, including probability, statistical inference, hypothesis testing, and regression.\n",
        "\n",
        "This notebook covers:\n",
        "- **Measures of Center**\n",
        "- **Measures of Spread**\n"
      ]
    },
    {
      "cell_type": "markdown",
      "metadata": {
        "id": "q_ghX1rAwxVM"
      },
      "source": [
        "## Introduction\n",
        "\n",
        "What is Statistics?\n",
        "\n",
        "- Statistics is the study of how to collect, analyze, and draw conclusions from data. It’s a hugely valuable tool that you can use to bring the future into focus and infer the answer to tons of questions. For example, what is the likelihood of someone purchasing your product,  how many jeans sizes should you manufacture to fit 95% of the population? Statistics can be used to answer lots of different types of questions, but being able to identify which type of statistics is needed is essential to drawing accurate conclusions.\n",
        "\n",
        "- Summary statisics generally discusses or gives insights to the summary of your data.\n",
        "\n",
        "\n",
        "\n"
      ]
    },
    {
      "cell_type": "markdown",
      "metadata": {
        "id": "2wI9dLpLxTsC"
      },
      "source": [
        "\n",
        "There are 2 types of Statistics namely; Descriptive and Inferrential Statistics.\n",
        "\n",
        "- Descriptive Statistics describes and summarizes our data.\n",
        "\n",
        "- While inferrential statistics in essential in making inferences and drawing conclusions about our data.\n",
        "\n",
        "\n",
        "[<img src=\"https://drive.google.com/uc?id=1nD0D1tIX1gZtqggMmg5-YFpwb2oFKwvA\" alt=\"Image Description\" width=\"800\"/>](https://github.com/anhhaibkhn/Data-Science-selfstudy-notes-Blog/blob/master/_notebooks/Introduction%20to%20Statistics%20in%20Python/pdfs/chapter1.pdf)"
      ]
    },
    {
      "cell_type": "code",
      "execution_count": 1,
      "metadata": {
        "colab": {
          "base_uri": "https://localhost:8080/"
        },
        "id": "VW9ms4lxp4FF",
        "outputId": "c09b00e9-ea07-4b4f-9361-c7864fef2f4c"
      },
      "outputs": [
        {
          "name": "stdout",
          "output_type": "stream",
          "text": [
            "Collecting gdown\n",
            "  Downloading gdown-5.2.0-py3-none-any.whl.metadata (5.8 kB)\n",
            "Collecting beautifulsoup4 (from gdown)\n",
            "  Downloading beautifulsoup4-4.14.2-py3-none-any.whl.metadata (3.8 kB)\n",
            "Collecting filelock (from gdown)\n",
            "  Downloading filelock-3.19.1-py3-none-any.whl.metadata (2.1 kB)\n",
            "Requirement already satisfied: requests[socks] in c:\\users\\ncc\\desktop\\python_intro\\osisami\\lib\\site-packages (from gdown) (2.32.5)\n",
            "Collecting tqdm (from gdown)\n",
            "  Downloading tqdm-4.67.1-py3-none-any.whl.metadata (57 kB)\n",
            "Collecting soupsieve>1.2 (from beautifulsoup4->gdown)\n",
            "  Downloading soupsieve-2.8-py3-none-any.whl.metadata (4.6 kB)\n",
            "Collecting typing-extensions>=4.0.0 (from beautifulsoup4->gdown)\n",
            "  Downloading typing_extensions-4.15.0-py3-none-any.whl.metadata (3.3 kB)\n",
            "Requirement already satisfied: charset_normalizer<4,>=2 in c:\\users\\ncc\\desktop\\python_intro\\osisami\\lib\\site-packages (from requests[socks]->gdown) (3.4.3)\n",
            "Requirement already satisfied: idna<4,>=2.5 in c:\\users\\ncc\\desktop\\python_intro\\osisami\\lib\\site-packages (from requests[socks]->gdown) (3.10)\n",
            "Requirement already satisfied: urllib3<3,>=1.21.1 in c:\\users\\ncc\\desktop\\python_intro\\osisami\\lib\\site-packages (from requests[socks]->gdown) (2.5.0)\n",
            "Requirement already satisfied: certifi>=2017.4.17 in c:\\users\\ncc\\desktop\\python_intro\\osisami\\lib\\site-packages (from requests[socks]->gdown) (2025.8.3)\n",
            "Collecting PySocks!=1.5.7,>=1.5.6 (from requests[socks]->gdown)\n",
            "  Downloading PySocks-1.7.1-py3-none-any.whl.metadata (13 kB)\n",
            "Requirement already satisfied: colorama in c:\\users\\ncc\\desktop\\python_intro\\osisami\\lib\\site-packages (from tqdm->gdown) (0.4.6)\n",
            "Downloading gdown-5.2.0-py3-none-any.whl (18 kB)\n",
            "Downloading beautifulsoup4-4.14.2-py3-none-any.whl (106 kB)\n",
            "Downloading soupsieve-2.8-py3-none-any.whl (36 kB)\n",
            "Downloading typing_extensions-4.15.0-py3-none-any.whl (44 kB)\n",
            "Downloading filelock-3.19.1-py3-none-any.whl (15 kB)\n",
            "Downloading PySocks-1.7.1-py3-none-any.whl (16 kB)\n",
            "Downloading tqdm-4.67.1-py3-none-any.whl (78 kB)\n",
            "Installing collected packages: typing-extensions, tqdm, soupsieve, PySocks, filelock, beautifulsoup4, gdown\n",
            "\n",
            "   ---------------------------------------- 0/7 [typing-extensions]\n",
            "   ----- ---------------------------------- 1/7 [tqdm]\n",
            "   ----- ---------------------------------- 1/7 [tqdm]\n",
            "   ----- ---------------------------------- 1/7 [tqdm]\n",
            "   ----- ---------------------------------- 1/7 [tqdm]\n",
            "   ----- ---------------------------------- 1/7 [tqdm]\n",
            "   ----- ---------------------------------- 1/7 [tqdm]\n",
            "   ----- ---------------------------------- 1/7 [tqdm]\n",
            "   ----- ---------------------------------- 1/7 [tqdm]\n",
            "   ----- ---------------------------------- 1/7 [tqdm]\n",
            "   ----- ---------------------------------- 1/7 [tqdm]\n",
            "   ----- ---------------------------------- 1/7 [tqdm]\n",
            "   ----- ---------------------------------- 1/7 [tqdm]\n",
            "   ----- ---------------------------------- 1/7 [tqdm]\n",
            "   ----- ---------------------------------- 1/7 [tqdm]\n",
            "   ----- ---------------------------------- 1/7 [tqdm]\n",
            "   ----- ---------------------------------- 1/7 [tqdm]\n",
            "   ----- ---------------------------------- 1/7 [tqdm]\n",
            "   ----- ---------------------------------- 1/7 [tqdm]\n",
            "   ----- ---------------------------------- 1/7 [tqdm]\n",
            "   ----- ---------------------------------- 1/7 [tqdm]\n",
            "   ----- ---------------------------------- 1/7 [tqdm]\n",
            "   ----------- ---------------------------- 2/7 [soupsieve]\n",
            "   ----------- ---------------------------- 2/7 [soupsieve]\n",
            "   ----------- ---------------------------- 2/7 [soupsieve]\n",
            "   ----------- ---------------------------- 2/7 [soupsieve]\n",
            "   ----------- ---------------------------- 2/7 [soupsieve]\n",
            "   ----------- ---------------------------- 2/7 [soupsieve]\n",
            "   ----------- ---------------------------- 2/7 [soupsieve]\n",
            "   ----------- ---------------------------- 2/7 [soupsieve]\n",
            "   ----------------- ---------------------- 3/7 [PySocks]\n",
            "   ----------------- ---------------------- 3/7 [PySocks]\n",
            "   ---------------------- ----------------- 4/7 [filelock]\n",
            "   ---------------------- ----------------- 4/7 [filelock]\n",
            "   ---------------------- ----------------- 4/7 [filelock]\n",
            "   ---------------------- ----------------- 4/7 [filelock]\n",
            "   ---------------------- ----------------- 4/7 [filelock]\n",
            "   ---------------------- ----------------- 4/7 [filelock]\n",
            "   ---------------------------- ----------- 5/7 [beautifulsoup4]\n",
            "   ---------------------------- ----------- 5/7 [beautifulsoup4]\n",
            "   ---------------------------- ----------- 5/7 [beautifulsoup4]\n",
            "   ---------------------------- ----------- 5/7 [beautifulsoup4]\n",
            "   ---------------------------- ----------- 5/7 [beautifulsoup4]\n",
            "   ---------------------------- ----------- 5/7 [beautifulsoup4]\n",
            "   ---------------------------- ----------- 5/7 [beautifulsoup4]\n",
            "   ---------------------------- ----------- 5/7 [beautifulsoup4]\n",
            "   ---------------------------------- ----- 6/7 [gdown]\n",
            "   ---------------------------------- ----- 6/7 [gdown]\n",
            "   ---------------------------------- ----- 6/7 [gdown]\n",
            "   ---------------------------------- ----- 6/7 [gdown]\n",
            "   ---------------------------------- ----- 6/7 [gdown]\n",
            "   ---------------------------------- ----- 6/7 [gdown]\n",
            "   ---------------------------------------- 7/7 [gdown]\n",
            "\n",
            "Successfully installed PySocks-1.7.1 beautifulsoup4-4.14.2 filelock-3.19.1 gdown-5.2.0 soupsieve-2.8 tqdm-4.67.1 typing-extensions-4.15.0\n"
          ]
        }
      ],
      "source": [
        "!pip install gdown\n",
        "import gdown"
      ]
    },
    {
      "cell_type": "code",
      "execution_count": 2,
      "metadata": {
        "colab": {
          "base_uri": "https://localhost:8080/",
          "height": 105
        },
        "id": "J2oRu4J2wEJO",
        "outputId": "e9686b0a-c295-46cd-a48e-bb8369041daf"
      },
      "outputs": [
        {
          "name": "stderr",
          "output_type": "stream",
          "text": [
            "Downloading...\n",
            "From: https://drive.google.com/uc?id=1yB5qSBOLl96Y563nIewKOU8RN_gsY3dO\n",
            "To: c:\\Users\\ncc\\Desktop\\Python_intro\\Week_9\\data.csv\n",
            "100%|██████████| 52.0k/52.0k [00:00<00:00, 59.7MB/s]\n"
          ]
        },
        {
          "data": {
            "text/plain": [
              "'data.csv'"
            ]
          },
          "execution_count": 2,
          "metadata": {},
          "output_type": "execute_result"
        }
      ],
      "source": [
        "\n",
        "\n",
        "file_id = '1yB5qSBOLl96Y563nIewKOU8RN_gsY3dO'  # Make sure it's a string\n",
        "gdown.download(f'https://drive.google.com/uc?id={file_id}', 'data.csv', quiet=False)\n"
      ]
    },
    {
      "cell_type": "code",
      "execution_count": 3,
      "metadata": {
        "id": "ryWpgh0_x1sZ"
      },
      "outputs": [],
      "source": [
        "import pandas as pd\n",
        "import numpy as np"
      ]
    },
    {
      "cell_type": "code",
      "execution_count": 4,
      "metadata": {
        "colab": {
          "base_uri": "https://localhost:8080/",
          "height": 206
        },
        "id": "59YkUY28x3eW",
        "outputId": "cf2b5f22-d758-48a6-e98b-cc9b6b8da417"
      },
      "outputs": [
        {
          "data": {
            "text/html": [
              "<div>\n",
              "<style scoped>\n",
              "    .dataframe tbody tr th:only-of-type {\n",
              "        vertical-align: middle;\n",
              "    }\n",
              "\n",
              "    .dataframe tbody tr th {\n",
              "        vertical-align: top;\n",
              "    }\n",
              "\n",
              "    .dataframe thead th {\n",
              "        text-align: right;\n",
              "    }\n",
              "</style>\n",
              "<table border=\"1\" class=\"dataframe\">\n",
              "  <thead>\n",
              "    <tr style=\"text-align: right;\">\n",
              "      <th></th>\n",
              "      <th>Unnamed: 0</th>\n",
              "      <th>country</th>\n",
              "      <th>food_category</th>\n",
              "      <th>consumption</th>\n",
              "      <th>co2_emission</th>\n",
              "    </tr>\n",
              "  </thead>\n",
              "  <tbody>\n",
              "    <tr>\n",
              "      <th>0</th>\n",
              "      <td>1</td>\n",
              "      <td>Argentina</td>\n",
              "      <td>pork</td>\n",
              "      <td>10.51</td>\n",
              "      <td>37.20</td>\n",
              "    </tr>\n",
              "    <tr>\n",
              "      <th>1</th>\n",
              "      <td>2</td>\n",
              "      <td>Argentina</td>\n",
              "      <td>poultry</td>\n",
              "      <td>38.66</td>\n",
              "      <td>41.53</td>\n",
              "    </tr>\n",
              "    <tr>\n",
              "      <th>2</th>\n",
              "      <td>3</td>\n",
              "      <td>Argentina</td>\n",
              "      <td>beef</td>\n",
              "      <td>55.48</td>\n",
              "      <td>1712.00</td>\n",
              "    </tr>\n",
              "    <tr>\n",
              "      <th>3</th>\n",
              "      <td>4</td>\n",
              "      <td>Argentina</td>\n",
              "      <td>lamb_goat</td>\n",
              "      <td>1.56</td>\n",
              "      <td>54.63</td>\n",
              "    </tr>\n",
              "    <tr>\n",
              "      <th>4</th>\n",
              "      <td>5</td>\n",
              "      <td>Argentina</td>\n",
              "      <td>fish</td>\n",
              "      <td>4.36</td>\n",
              "      <td>6.96</td>\n",
              "    </tr>\n",
              "  </tbody>\n",
              "</table>\n",
              "</div>"
            ],
            "text/plain": [
              "   Unnamed: 0    country food_category  consumption  co2_emission\n",
              "0           1  Argentina          pork        10.51         37.20\n",
              "1           2  Argentina       poultry        38.66         41.53\n",
              "2           3  Argentina          beef        55.48       1712.00\n",
              "3           4  Argentina     lamb_goat         1.56         54.63\n",
              "4           5  Argentina          fish         4.36          6.96"
            ]
          },
          "execution_count": 4,
          "metadata": {},
          "output_type": "execute_result"
        }
      ],
      "source": [
        "# Read the downloaded CSV file\n",
        "df = pd.read_csv('data.csv')\n",
        "df.head()"
      ]
    },
    {
      "cell_type": "markdown",
      "metadata": {
        "id": "6OY66UmCxsIF"
      },
      "source": [
        "## Measures of Center\n",
        "\n",
        "Measures of center are statistical values that describe the central tendency of a dataset. They provide a summary measure that represents the entire dataset, allowing you to understand where the majority of your data points lie. Understanding these measures help to summarize and describe data effectively.\n",
        "\n",
        "### 1. Mean\n",
        "\n",
        "- The **mean**, often referred to as the average, is calculated by summing all the values in a dataset and dividing by the number of values. It is a commonly used measure of center.\n",
        "  \n",
        "  **Formula:**\n",
        "\n",
        "$$\n",
        "\\text{Mean} (\\mu) = \\frac{\\sum_{i=1}^{n} x_i}{n}\n",
        "$$\n",
        "\n",
        "**Where:**\n",
        "- \\( $x_i$ \\) represents each value in the dataset.\n",
        "- \\( $n$ \\) is the total number of values.\n",
        "\n",
        "**Example:**\n",
        "For the dataset [5, 10, 15, 20] \\:\n",
        "\n",
        "$$\n",
        "\\text{Mean} = \\frac{5 + 10 + 15 + 20}{4} = \\frac{50}{4} = 12.5\n",
        "$$\n",
        "\n",
        "\n",
        "\n",
        "- **Considerations:** The mean can be influenced by outliers. For instance, in the dataset [1, 2, 3, 100] \\, the mean is significantly higher than most data points due to the outlier \"100\".\n",
        "\n",
        "### 2. Median\n",
        "\n",
        "- The **median** is the middle value when the dataset is ordered from least to greatest. If the dataset has an even number of observations, the median is the average of the two middle values. The median is a robust measure of center that is less affected by outliers.\n",
        "  \n",
        "  **Steps to Calculate Median:**\n",
        "  1. Sort the data in ascending order.\n",
        "  2. If the number of observations \\($n$\\) is odd, the median is the middle number.\n",
        "  3. If \\($n$\\) is even, the median is the average of the two middle numbers.\n",
        "\n",
        "  **Example:**\n",
        "\n",
        "  For the dataset  [1, 3, 6, 3, 7, 9, 8] \\:\n",
        "  - Sorted: [1, 3, 3, 6, 7, 8, 9] \\\n",
        "  - The Median is $6$, the $4th$ value\n",
        "\n",
        "  For the dataset [1, 2, 3, 5, 4, 6]:\n",
        "  - Sorted: [1, 2, 3, 4, 5, 6] \\\n",
        "  - The Median is:\n",
        "    $$\n",
        "    \\text{Median} = \\frac{3 + 4}{2} = 3.5\n",
        "    $$\n",
        "\n",
        "### 3. Mode\n",
        "\n",
        "- The **mode** is the value that appears most frequently in a dataset. A dataset may have one mode, more than one mode (bimodal or multimodal), or no mode at all if all values occur with the same frequency.\n",
        "\n",
        "- **Example:** For the dataset [1, 2, 2, 3, 4] \\:\n",
        "  - Mode: \\( $2$ \\)\n",
        "\n",
        "  For the dataset [1, 1, 2, 2, 3, 4] \\:\n",
        "  - The Modes are \\( $1$ \\) and \\( $2$ \\)  $i.e$, bimodal\n",
        "\n",
        "\n",
        "\n",
        "### Summary of Measures of Center\n",
        "\n",
        "- **Mean:** Sensitive to outliers, best for symmetric/normal distributions.\n",
        "- **Median:** Robust against outliers, represents the center in skewed distributions.\n",
        "- **Mode:** Useful for categorical data, indicates the most common value.\n",
        "\n",
        "\n",
        "\n",
        "\n",
        "Understanding the measures of center is important in Data Science to help summarize data with a single representative value. They assist in comparing different datasets, understanding trends, and making informed decisions based on data.\n",
        "\n",
        "[<img src=\"https://drive.google.com/uc?id=1fYdyU8Ris_FP1FFD_6ianuo8LgNSmJ68\" alt=\"Measures of Center\" width=\"600\"/>](https://www.google.com/url?sa=i&url=https%3A%2F%2Ftowardsai.net%2Fp%2Fl%2Fpython-statistical-analysis-measures-of-central-tendency-and-dispersion&psig=AOvVaw3eoQpaEtgizlksZ5lHMCZQ&ust=1730369714671000&source=images&cd=vfe&opi=89978449&ved=0CBQQjRxqFwoTCPij1dTvtYkDFQAAAAAdAAAAABAE)\n",
        "\n"
      ]
    },
    {
      "cell_type": "code",
      "execution_count": 5,
      "metadata": {
        "colab": {
          "base_uri": "https://localhost:8080/",
          "height": 424
        },
        "id": "TndCO8F-xrbc",
        "outputId": "65895589-2138-4136-ca5d-51be2b560ee5"
      },
      "outputs": [
        {
          "data": {
            "text/html": [
              "<div>\n",
              "<style scoped>\n",
              "    .dataframe tbody tr th:only-of-type {\n",
              "        vertical-align: middle;\n",
              "    }\n",
              "\n",
              "    .dataframe tbody tr th {\n",
              "        vertical-align: top;\n",
              "    }\n",
              "\n",
              "    .dataframe thead th {\n",
              "        text-align: right;\n",
              "    }\n",
              "</style>\n",
              "<table border=\"1\" class=\"dataframe\">\n",
              "  <thead>\n",
              "    <tr style=\"text-align: right;\">\n",
              "      <th></th>\n",
              "      <th>Unnamed: 0</th>\n",
              "      <th>country</th>\n",
              "      <th>food_category</th>\n",
              "      <th>consumption</th>\n",
              "      <th>co2_emission</th>\n",
              "    </tr>\n",
              "  </thead>\n",
              "  <tbody>\n",
              "    <tr>\n",
              "      <th>0</th>\n",
              "      <td>1</td>\n",
              "      <td>Argentina</td>\n",
              "      <td>pork</td>\n",
              "      <td>10.51</td>\n",
              "      <td>37.20</td>\n",
              "    </tr>\n",
              "    <tr>\n",
              "      <th>1</th>\n",
              "      <td>2</td>\n",
              "      <td>Argentina</td>\n",
              "      <td>poultry</td>\n",
              "      <td>38.66</td>\n",
              "      <td>41.53</td>\n",
              "    </tr>\n",
              "    <tr>\n",
              "      <th>2</th>\n",
              "      <td>3</td>\n",
              "      <td>Argentina</td>\n",
              "      <td>beef</td>\n",
              "      <td>55.48</td>\n",
              "      <td>1712.00</td>\n",
              "    </tr>\n",
              "    <tr>\n",
              "      <th>3</th>\n",
              "      <td>4</td>\n",
              "      <td>Argentina</td>\n",
              "      <td>lamb_goat</td>\n",
              "      <td>1.56</td>\n",
              "      <td>54.63</td>\n",
              "    </tr>\n",
              "    <tr>\n",
              "      <th>4</th>\n",
              "      <td>5</td>\n",
              "      <td>Argentina</td>\n",
              "      <td>fish</td>\n",
              "      <td>4.36</td>\n",
              "      <td>6.96</td>\n",
              "    </tr>\n",
              "    <tr>\n",
              "      <th>...</th>\n",
              "      <td>...</td>\n",
              "      <td>...</td>\n",
              "      <td>...</td>\n",
              "      <td>...</td>\n",
              "      <td>...</td>\n",
              "    </tr>\n",
              "    <tr>\n",
              "      <th>1425</th>\n",
              "      <td>1426</td>\n",
              "      <td>Bangladesh</td>\n",
              "      <td>dairy</td>\n",
              "      <td>21.91</td>\n",
              "      <td>31.21</td>\n",
              "    </tr>\n",
              "    <tr>\n",
              "      <th>1426</th>\n",
              "      <td>1427</td>\n",
              "      <td>Bangladesh</td>\n",
              "      <td>wheat</td>\n",
              "      <td>17.47</td>\n",
              "      <td>3.33</td>\n",
              "    </tr>\n",
              "    <tr>\n",
              "      <th>1427</th>\n",
              "      <td>1428</td>\n",
              "      <td>Bangladesh</td>\n",
              "      <td>rice</td>\n",
              "      <td>171.73</td>\n",
              "      <td>219.76</td>\n",
              "    </tr>\n",
              "    <tr>\n",
              "      <th>1428</th>\n",
              "      <td>1429</td>\n",
              "      <td>Bangladesh</td>\n",
              "      <td>soybeans</td>\n",
              "      <td>0.61</td>\n",
              "      <td>0.27</td>\n",
              "    </tr>\n",
              "    <tr>\n",
              "      <th>1429</th>\n",
              "      <td>1430</td>\n",
              "      <td>Bangladesh</td>\n",
              "      <td>nuts</td>\n",
              "      <td>0.72</td>\n",
              "      <td>1.27</td>\n",
              "    </tr>\n",
              "  </tbody>\n",
              "</table>\n",
              "<p>1430 rows × 5 columns</p>\n",
              "</div>"
            ],
            "text/plain": [
              "      Unnamed: 0     country food_category  consumption  co2_emission\n",
              "0              1   Argentina          pork        10.51         37.20\n",
              "1              2   Argentina       poultry        38.66         41.53\n",
              "2              3   Argentina          beef        55.48       1712.00\n",
              "3              4   Argentina     lamb_goat         1.56         54.63\n",
              "4              5   Argentina          fish         4.36          6.96\n",
              "...          ...         ...           ...          ...           ...\n",
              "1425        1426  Bangladesh         dairy        21.91         31.21\n",
              "1426        1427  Bangladesh         wheat        17.47          3.33\n",
              "1427        1428  Bangladesh          rice       171.73        219.76\n",
              "1428        1429  Bangladesh      soybeans         0.61          0.27\n",
              "1429        1430  Bangladesh          nuts         0.72          1.27\n",
              "\n",
              "[1430 rows x 5 columns]"
            ]
          },
          "execution_count": 5,
          "metadata": {},
          "output_type": "execute_result"
        }
      ],
      "source": [
        "df"
      ]
    },
    {
      "cell_type": "code",
      "execution_count": null,
      "metadata": {
        "id": "gkI7O00Xs9YF"
      },
      "outputs": [],
      "source": []
    },
    {
      "cell_type": "code",
      "execution_count": 6,
      "metadata": {
        "id": "VGTBzHYpyL1V"
      },
      "outputs": [],
      "source": [
        "df.drop('Unnamed: 0', axis = 1, inplace = True)"
      ]
    },
    {
      "cell_type": "code",
      "execution_count": 7,
      "metadata": {
        "colab": {
          "base_uri": "https://localhost:8080/",
          "height": 423
        },
        "id": "yKznOz50r2G9",
        "outputId": "4000979e-9b46-4b30-d3f0-37ed00869d30"
      },
      "outputs": [
        {
          "data": {
            "text/html": [
              "<div>\n",
              "<style scoped>\n",
              "    .dataframe tbody tr th:only-of-type {\n",
              "        vertical-align: middle;\n",
              "    }\n",
              "\n",
              "    .dataframe tbody tr th {\n",
              "        vertical-align: top;\n",
              "    }\n",
              "\n",
              "    .dataframe thead th {\n",
              "        text-align: right;\n",
              "    }\n",
              "</style>\n",
              "<table border=\"1\" class=\"dataframe\">\n",
              "  <thead>\n",
              "    <tr style=\"text-align: right;\">\n",
              "      <th></th>\n",
              "      <th>country</th>\n",
              "      <th>food_category</th>\n",
              "      <th>consumption</th>\n",
              "      <th>co2_emission</th>\n",
              "    </tr>\n",
              "  </thead>\n",
              "  <tbody>\n",
              "    <tr>\n",
              "      <th>0</th>\n",
              "      <td>Argentina</td>\n",
              "      <td>pork</td>\n",
              "      <td>10.51</td>\n",
              "      <td>37.20</td>\n",
              "    </tr>\n",
              "    <tr>\n",
              "      <th>1</th>\n",
              "      <td>Argentina</td>\n",
              "      <td>poultry</td>\n",
              "      <td>38.66</td>\n",
              "      <td>41.53</td>\n",
              "    </tr>\n",
              "    <tr>\n",
              "      <th>2</th>\n",
              "      <td>Argentina</td>\n",
              "      <td>beef</td>\n",
              "      <td>55.48</td>\n",
              "      <td>1712.00</td>\n",
              "    </tr>\n",
              "    <tr>\n",
              "      <th>3</th>\n",
              "      <td>Argentina</td>\n",
              "      <td>lamb_goat</td>\n",
              "      <td>1.56</td>\n",
              "      <td>54.63</td>\n",
              "    </tr>\n",
              "    <tr>\n",
              "      <th>4</th>\n",
              "      <td>Argentina</td>\n",
              "      <td>fish</td>\n",
              "      <td>4.36</td>\n",
              "      <td>6.96</td>\n",
              "    </tr>\n",
              "    <tr>\n",
              "      <th>...</th>\n",
              "      <td>...</td>\n",
              "      <td>...</td>\n",
              "      <td>...</td>\n",
              "      <td>...</td>\n",
              "    </tr>\n",
              "    <tr>\n",
              "      <th>1425</th>\n",
              "      <td>Bangladesh</td>\n",
              "      <td>dairy</td>\n",
              "      <td>21.91</td>\n",
              "      <td>31.21</td>\n",
              "    </tr>\n",
              "    <tr>\n",
              "      <th>1426</th>\n",
              "      <td>Bangladesh</td>\n",
              "      <td>wheat</td>\n",
              "      <td>17.47</td>\n",
              "      <td>3.33</td>\n",
              "    </tr>\n",
              "    <tr>\n",
              "      <th>1427</th>\n",
              "      <td>Bangladesh</td>\n",
              "      <td>rice</td>\n",
              "      <td>171.73</td>\n",
              "      <td>219.76</td>\n",
              "    </tr>\n",
              "    <tr>\n",
              "      <th>1428</th>\n",
              "      <td>Bangladesh</td>\n",
              "      <td>soybeans</td>\n",
              "      <td>0.61</td>\n",
              "      <td>0.27</td>\n",
              "    </tr>\n",
              "    <tr>\n",
              "      <th>1429</th>\n",
              "      <td>Bangladesh</td>\n",
              "      <td>nuts</td>\n",
              "      <td>0.72</td>\n",
              "      <td>1.27</td>\n",
              "    </tr>\n",
              "  </tbody>\n",
              "</table>\n",
              "<p>1430 rows × 4 columns</p>\n",
              "</div>"
            ],
            "text/plain": [
              "         country food_category  consumption  co2_emission\n",
              "0      Argentina          pork        10.51         37.20\n",
              "1      Argentina       poultry        38.66         41.53\n",
              "2      Argentina          beef        55.48       1712.00\n",
              "3      Argentina     lamb_goat         1.56         54.63\n",
              "4      Argentina          fish         4.36          6.96\n",
              "...          ...           ...          ...           ...\n",
              "1425  Bangladesh         dairy        21.91         31.21\n",
              "1426  Bangladesh         wheat        17.47          3.33\n",
              "1427  Bangladesh          rice       171.73        219.76\n",
              "1428  Bangladesh      soybeans         0.61          0.27\n",
              "1429  Bangladesh          nuts         0.72          1.27\n",
              "\n",
              "[1430 rows x 4 columns]"
            ]
          },
          "execution_count": 7,
          "metadata": {},
          "output_type": "execute_result"
        }
      ],
      "source": [
        "df"
      ]
    },
    {
      "cell_type": "code",
      "execution_count": 8,
      "metadata": {
        "colab": {
          "base_uri": "https://localhost:8080/",
          "height": 394
        },
        "id": "HFnW-RCyyOyr",
        "outputId": "a66f42f3-c4cb-411e-d07b-49ab436dcfd1"
      },
      "outputs": [
        {
          "data": {
            "text/html": [
              "<div>\n",
              "<style scoped>\n",
              "    .dataframe tbody tr th:only-of-type {\n",
              "        vertical-align: middle;\n",
              "    }\n",
              "\n",
              "    .dataframe tbody tr th {\n",
              "        vertical-align: top;\n",
              "    }\n",
              "\n",
              "    .dataframe thead th {\n",
              "        text-align: right;\n",
              "    }\n",
              "</style>\n",
              "<table border=\"1\" class=\"dataframe\">\n",
              "  <thead>\n",
              "    <tr style=\"text-align: right;\">\n",
              "      <th></th>\n",
              "      <th>country</th>\n",
              "      <th>food_category</th>\n",
              "      <th>consumption</th>\n",
              "      <th>co2_emission</th>\n",
              "    </tr>\n",
              "  </thead>\n",
              "  <tbody>\n",
              "    <tr>\n",
              "      <th>count</th>\n",
              "      <td>1430</td>\n",
              "      <td>1430</td>\n",
              "      <td>1430.000000</td>\n",
              "      <td>1430.000000</td>\n",
              "    </tr>\n",
              "    <tr>\n",
              "      <th>unique</th>\n",
              "      <td>130</td>\n",
              "      <td>11</td>\n",
              "      <td>NaN</td>\n",
              "      <td>NaN</td>\n",
              "    </tr>\n",
              "    <tr>\n",
              "      <th>top</th>\n",
              "      <td>Argentina</td>\n",
              "      <td>pork</td>\n",
              "      <td>NaN</td>\n",
              "      <td>NaN</td>\n",
              "    </tr>\n",
              "    <tr>\n",
              "      <th>freq</th>\n",
              "      <td>11</td>\n",
              "      <td>130</td>\n",
              "      <td>NaN</td>\n",
              "      <td>NaN</td>\n",
              "    </tr>\n",
              "    <tr>\n",
              "      <th>mean</th>\n",
              "      <td>NaN</td>\n",
              "      <td>NaN</td>\n",
              "      <td>28.110406</td>\n",
              "      <td>74.383993</td>\n",
              "    </tr>\n",
              "    <tr>\n",
              "      <th>std</th>\n",
              "      <td>NaN</td>\n",
              "      <td>NaN</td>\n",
              "      <td>49.818044</td>\n",
              "      <td>152.098566</td>\n",
              "    </tr>\n",
              "    <tr>\n",
              "      <th>min</th>\n",
              "      <td>NaN</td>\n",
              "      <td>NaN</td>\n",
              "      <td>0.000000</td>\n",
              "      <td>0.000000</td>\n",
              "    </tr>\n",
              "    <tr>\n",
              "      <th>25%</th>\n",
              "      <td>NaN</td>\n",
              "      <td>NaN</td>\n",
              "      <td>2.365000</td>\n",
              "      <td>5.210000</td>\n",
              "    </tr>\n",
              "    <tr>\n",
              "      <th>50%</th>\n",
              "      <td>NaN</td>\n",
              "      <td>NaN</td>\n",
              "      <td>8.890000</td>\n",
              "      <td>16.530000</td>\n",
              "    </tr>\n",
              "    <tr>\n",
              "      <th>75%</th>\n",
              "      <td>NaN</td>\n",
              "      <td>NaN</td>\n",
              "      <td>28.132500</td>\n",
              "      <td>62.597500</td>\n",
              "    </tr>\n",
              "    <tr>\n",
              "      <th>max</th>\n",
              "      <td>NaN</td>\n",
              "      <td>NaN</td>\n",
              "      <td>430.760000</td>\n",
              "      <td>1712.000000</td>\n",
              "    </tr>\n",
              "  </tbody>\n",
              "</table>\n",
              "</div>"
            ],
            "text/plain": [
              "          country food_category  consumption  co2_emission\n",
              "count        1430          1430  1430.000000   1430.000000\n",
              "unique        130            11          NaN           NaN\n",
              "top     Argentina          pork          NaN           NaN\n",
              "freq           11           130          NaN           NaN\n",
              "mean          NaN           NaN    28.110406     74.383993\n",
              "std           NaN           NaN    49.818044    152.098566\n",
              "min           NaN           NaN     0.000000      0.000000\n",
              "25%           NaN           NaN     2.365000      5.210000\n",
              "50%           NaN           NaN     8.890000     16.530000\n",
              "75%           NaN           NaN    28.132500     62.597500\n",
              "max           NaN           NaN   430.760000   1712.000000"
            ]
          },
          "execution_count": 8,
          "metadata": {},
          "output_type": "execute_result"
        }
      ],
      "source": [
        "df.describe(include = 'all')"
      ]
    },
    {
      "cell_type": "code",
      "execution_count": 9,
      "metadata": {
        "id": "TefXfs8RyRer"
      },
      "outputs": [],
      "source": [
        "\n",
        "be_consumption =df[df['country'] == 'Belgium']\n",
        "\n"
      ]
    },
    {
      "cell_type": "code",
      "execution_count": 10,
      "metadata": {
        "colab": {
          "base_uri": "https://localhost:8080/",
          "height": 394
        },
        "id": "_3irOhRDuTEM",
        "outputId": "bcf2da76-e65d-4e21-bf1b-74a759bee841"
      },
      "outputs": [
        {
          "data": {
            "text/html": [
              "<div>\n",
              "<style scoped>\n",
              "    .dataframe tbody tr th:only-of-type {\n",
              "        vertical-align: middle;\n",
              "    }\n",
              "\n",
              "    .dataframe tbody tr th {\n",
              "        vertical-align: top;\n",
              "    }\n",
              "\n",
              "    .dataframe thead th {\n",
              "        text-align: right;\n",
              "    }\n",
              "</style>\n",
              "<table border=\"1\" class=\"dataframe\">\n",
              "  <thead>\n",
              "    <tr style=\"text-align: right;\">\n",
              "      <th></th>\n",
              "      <th>country</th>\n",
              "      <th>food_category</th>\n",
              "      <th>consumption</th>\n",
              "      <th>co2_emission</th>\n",
              "    </tr>\n",
              "  </thead>\n",
              "  <tbody>\n",
              "    <tr>\n",
              "      <th>396</th>\n",
              "      <td>Belgium</td>\n",
              "      <td>pork</td>\n",
              "      <td>38.65</td>\n",
              "      <td>136.80</td>\n",
              "    </tr>\n",
              "    <tr>\n",
              "      <th>397</th>\n",
              "      <td>Belgium</td>\n",
              "      <td>poultry</td>\n",
              "      <td>12.20</td>\n",
              "      <td>13.11</td>\n",
              "    </tr>\n",
              "    <tr>\n",
              "      <th>398</th>\n",
              "      <td>Belgium</td>\n",
              "      <td>beef</td>\n",
              "      <td>15.63</td>\n",
              "      <td>482.31</td>\n",
              "    </tr>\n",
              "    <tr>\n",
              "      <th>399</th>\n",
              "      <td>Belgium</td>\n",
              "      <td>lamb_goat</td>\n",
              "      <td>1.32</td>\n",
              "      <td>46.23</td>\n",
              "    </tr>\n",
              "    <tr>\n",
              "      <th>400</th>\n",
              "      <td>Belgium</td>\n",
              "      <td>fish</td>\n",
              "      <td>18.97</td>\n",
              "      <td>30.29</td>\n",
              "    </tr>\n",
              "    <tr>\n",
              "      <th>401</th>\n",
              "      <td>Belgium</td>\n",
              "      <td>eggs</td>\n",
              "      <td>12.59</td>\n",
              "      <td>11.57</td>\n",
              "    </tr>\n",
              "    <tr>\n",
              "      <th>402</th>\n",
              "      <td>Belgium</td>\n",
              "      <td>dairy</td>\n",
              "      <td>236.19</td>\n",
              "      <td>336.43</td>\n",
              "    </tr>\n",
              "    <tr>\n",
              "      <th>403</th>\n",
              "      <td>Belgium</td>\n",
              "      <td>wheat</td>\n",
              "      <td>111.91</td>\n",
              "      <td>21.34</td>\n",
              "    </tr>\n",
              "    <tr>\n",
              "      <th>404</th>\n",
              "      <td>Belgium</td>\n",
              "      <td>rice</td>\n",
              "      <td>8.61</td>\n",
              "      <td>11.02</td>\n",
              "    </tr>\n",
              "    <tr>\n",
              "      <th>405</th>\n",
              "      <td>Belgium</td>\n",
              "      <td>soybeans</td>\n",
              "      <td>0.07</td>\n",
              "      <td>0.03</td>\n",
              "    </tr>\n",
              "    <tr>\n",
              "      <th>406</th>\n",
              "      <td>Belgium</td>\n",
              "      <td>nuts</td>\n",
              "      <td>7.32</td>\n",
              "      <td>12.96</td>\n",
              "    </tr>\n",
              "  </tbody>\n",
              "</table>\n",
              "</div>"
            ],
            "text/plain": [
              "     country food_category  consumption  co2_emission\n",
              "396  Belgium          pork        38.65        136.80\n",
              "397  Belgium       poultry        12.20         13.11\n",
              "398  Belgium          beef        15.63        482.31\n",
              "399  Belgium     lamb_goat         1.32         46.23\n",
              "400  Belgium          fish        18.97         30.29\n",
              "401  Belgium          eggs        12.59         11.57\n",
              "402  Belgium         dairy       236.19        336.43\n",
              "403  Belgium         wheat       111.91         21.34\n",
              "404  Belgium          rice         8.61         11.02\n",
              "405  Belgium      soybeans         0.07          0.03\n",
              "406  Belgium          nuts         7.32         12.96"
            ]
          },
          "execution_count": 10,
          "metadata": {},
          "output_type": "execute_result"
        }
      ],
      "source": [
        "be_consumption"
      ]
    },
    {
      "cell_type": "code",
      "execution_count": 11,
      "metadata": {
        "id": "FXnouJKRuqF8"
      },
      "outputs": [],
      "source": [
        "be_consume=be_consumption['consumption']"
      ]
    },
    {
      "cell_type": "code",
      "execution_count": 12,
      "metadata": {
        "colab": {
          "base_uri": "https://localhost:8080/"
        },
        "id": "viHOG9qZyVNc",
        "outputId": "3c926db4-b0b4-434a-ab45-7831fa35a443"
      },
      "outputs": [
        {
          "name": "stdout",
          "output_type": "stream",
          "text": [
            "42.13272727272727\n"
          ]
        }
      ],
      "source": [
        "# Calculate mean and median consumption in Belgium\n",
        "\n",
        "print(np.mean(be_consume))\n"
      ]
    },
    {
      "cell_type": "code",
      "execution_count": 13,
      "metadata": {
        "colab": {
          "base_uri": "https://localhost:8080/"
        },
        "id": "caGLk9-byYA8",
        "outputId": "5d10101e-d51b-4008-bc90-8c0056f8cb64"
      },
      "outputs": [
        {
          "name": "stdout",
          "output_type": "stream",
          "text": [
            "12.59\n"
          ]
        }
      ],
      "source": [
        "print(np.median(be_consume))"
      ]
    },
    {
      "cell_type": "code",
      "execution_count": 14,
      "metadata": {
        "id": "-uQ_WsUMycWt"
      },
      "outputs": [],
      "source": [
        "# Filter for USA\n",
        "usa_consumption = df[df['country'] == 'USA']\n",
        "\n"
      ]
    },
    {
      "cell_type": "code",
      "execution_count": 15,
      "metadata": {
        "colab": {
          "base_uri": "https://localhost:8080/",
          "height": 394
        },
        "id": "yl_62_lqvIzr",
        "outputId": "7fb740ce-4a0f-4c1f-8790-ad2518f342cd"
      },
      "outputs": [
        {
          "data": {
            "text/html": [
              "<div>\n",
              "<style scoped>\n",
              "    .dataframe tbody tr th:only-of-type {\n",
              "        vertical-align: middle;\n",
              "    }\n",
              "\n",
              "    .dataframe tbody tr th {\n",
              "        vertical-align: top;\n",
              "    }\n",
              "\n",
              "    .dataframe thead th {\n",
              "        text-align: right;\n",
              "    }\n",
              "</style>\n",
              "<table border=\"1\" class=\"dataframe\">\n",
              "  <thead>\n",
              "    <tr style=\"text-align: right;\">\n",
              "      <th></th>\n",
              "      <th>country</th>\n",
              "      <th>food_category</th>\n",
              "      <th>consumption</th>\n",
              "      <th>co2_emission</th>\n",
              "    </tr>\n",
              "  </thead>\n",
              "  <tbody>\n",
              "    <tr>\n",
              "      <th>55</th>\n",
              "      <td>USA</td>\n",
              "      <td>pork</td>\n",
              "      <td>27.64</td>\n",
              "      <td>97.83</td>\n",
              "    </tr>\n",
              "    <tr>\n",
              "      <th>56</th>\n",
              "      <td>USA</td>\n",
              "      <td>poultry</td>\n",
              "      <td>50.01</td>\n",
              "      <td>53.72</td>\n",
              "    </tr>\n",
              "    <tr>\n",
              "      <th>57</th>\n",
              "      <td>USA</td>\n",
              "      <td>beef</td>\n",
              "      <td>36.24</td>\n",
              "      <td>1118.29</td>\n",
              "    </tr>\n",
              "    <tr>\n",
              "      <th>58</th>\n",
              "      <td>USA</td>\n",
              "      <td>lamb_goat</td>\n",
              "      <td>0.43</td>\n",
              "      <td>15.06</td>\n",
              "    </tr>\n",
              "    <tr>\n",
              "      <th>59</th>\n",
              "      <td>USA</td>\n",
              "      <td>fish</td>\n",
              "      <td>12.35</td>\n",
              "      <td>19.72</td>\n",
              "    </tr>\n",
              "    <tr>\n",
              "      <th>60</th>\n",
              "      <td>USA</td>\n",
              "      <td>eggs</td>\n",
              "      <td>14.58</td>\n",
              "      <td>13.39</td>\n",
              "    </tr>\n",
              "    <tr>\n",
              "      <th>61</th>\n",
              "      <td>USA</td>\n",
              "      <td>dairy</td>\n",
              "      <td>254.69</td>\n",
              "      <td>362.78</td>\n",
              "    </tr>\n",
              "    <tr>\n",
              "      <th>62</th>\n",
              "      <td>USA</td>\n",
              "      <td>wheat</td>\n",
              "      <td>80.43</td>\n",
              "      <td>15.34</td>\n",
              "    </tr>\n",
              "    <tr>\n",
              "      <th>63</th>\n",
              "      <td>USA</td>\n",
              "      <td>rice</td>\n",
              "      <td>6.88</td>\n",
              "      <td>8.80</td>\n",
              "    </tr>\n",
              "    <tr>\n",
              "      <th>64</th>\n",
              "      <td>USA</td>\n",
              "      <td>soybeans</td>\n",
              "      <td>0.04</td>\n",
              "      <td>0.02</td>\n",
              "    </tr>\n",
              "    <tr>\n",
              "      <th>65</th>\n",
              "      <td>USA</td>\n",
              "      <td>nuts</td>\n",
              "      <td>7.86</td>\n",
              "      <td>13.91</td>\n",
              "    </tr>\n",
              "  </tbody>\n",
              "</table>\n",
              "</div>"
            ],
            "text/plain": [
              "   country food_category  consumption  co2_emission\n",
              "55     USA          pork        27.64         97.83\n",
              "56     USA       poultry        50.01         53.72\n",
              "57     USA          beef        36.24       1118.29\n",
              "58     USA     lamb_goat         0.43         15.06\n",
              "59     USA          fish        12.35         19.72\n",
              "60     USA          eggs        14.58         13.39\n",
              "61     USA         dairy       254.69        362.78\n",
              "62     USA         wheat        80.43         15.34\n",
              "63     USA          rice         6.88          8.80\n",
              "64     USA      soybeans         0.04          0.02\n",
              "65     USA          nuts         7.86         13.91"
            ]
          },
          "execution_count": 15,
          "metadata": {},
          "output_type": "execute_result"
        }
      ],
      "source": [
        "usa_consumption"
      ]
    },
    {
      "cell_type": "code",
      "execution_count": 16,
      "metadata": {
        "id": "yzr0QURZvQA-"
      },
      "outputs": [],
      "source": [
        "us_consume = usa_consumption['consumption']"
      ]
    },
    {
      "cell_type": "code",
      "execution_count": 17,
      "metadata": {
        "colab": {
          "base_uri": "https://localhost:8080/",
          "height": 429
        },
        "id": "TH7v19CcvTyb",
        "outputId": "581f49de-1dc3-4c22-af15-1bfdf415b108"
      },
      "outputs": [
        {
          "data": {
            "text/plain": [
              "55     27.64\n",
              "56     50.01\n",
              "57     36.24\n",
              "58      0.43\n",
              "59     12.35\n",
              "60     14.58\n",
              "61    254.69\n",
              "62     80.43\n",
              "63      6.88\n",
              "64      0.04\n",
              "65      7.86\n",
              "Name: consumption, dtype: float64"
            ]
          },
          "execution_count": 17,
          "metadata": {},
          "output_type": "execute_result"
        }
      ],
      "source": [
        "us_consume"
      ]
    },
    {
      "cell_type": "code",
      "execution_count": 18,
      "metadata": {
        "colab": {
          "base_uri": "https://localhost:8080/"
        },
        "id": "zaLvcqHtyd6Q",
        "outputId": "536d38e6-ffd1-4c96-c134-147e4933ab95"
      },
      "outputs": [
        {
          "name": "stdout",
          "output_type": "stream",
          "text": [
            "44.650000000000006\n"
          ]
        }
      ],
      "source": [
        "# Calculate mean and median consumption in USA\n",
        "print(np.mean(us_consume))\n"
      ]
    },
    {
      "cell_type": "code",
      "execution_count": 19,
      "metadata": {
        "colab": {
          "base_uri": "https://localhost:8080/"
        },
        "id": "t6HgQqTkyfK5",
        "outputId": "5f831385-1c9e-485a-9c4f-ccedcd614c31"
      },
      "outputs": [
        {
          "name": "stdout",
          "output_type": "stream",
          "text": [
            "14.58\n"
          ]
        }
      ],
      "source": [
        "print(np.median(us_consume))"
      ]
    },
    {
      "cell_type": "code",
      "execution_count": 20,
      "metadata": {
        "colab": {
          "base_uri": "https://localhost:8080/",
          "height": 490
        },
        "id": "YeYwtn8Jyh1F",
        "outputId": "dc690700-2a8f-4837-ef0c-45ea4fb60871"
      },
      "outputs": [
        {
          "data": {
            "text/plain": [
              "country\n",
              "Argentina       11\n",
              "Australia       11\n",
              "Albania         11\n",
              "Iceland         11\n",
              "New Zealand     11\n",
              "                ..\n",
              "Sierra Leone    11\n",
              "Sri Lanka       11\n",
              "Indonesia       11\n",
              "Liberia         11\n",
              "Bangladesh      11\n",
              "Name: count, Length: 130, dtype: int64"
            ]
          },
          "execution_count": 20,
          "metadata": {},
          "output_type": "execute_result"
        }
      ],
      "source": [
        "df['country'].value_counts()"
      ]
    },
    {
      "cell_type": "code",
      "execution_count": 21,
      "metadata": {
        "id": "nZoGDnCNykm1"
      },
      "outputs": [],
      "source": [
        "# Check the mode of the country column\n",
        "mode_country = df['country'].mode()"
      ]
    },
    {
      "cell_type": "code",
      "execution_count": 22,
      "metadata": {
        "colab": {
          "base_uri": "https://localhost:8080/"
        },
        "id": "T1v5csUtyl2s",
        "outputId": "0bb384f9-22ed-4755-eaa0-146b4e4cb352"
      },
      "outputs": [
        {
          "name": "stdout",
          "output_type": "stream",
          "text": [
            "Mode Country: 0        Albania\n",
            "1        Algeria\n",
            "2         Angola\n",
            "3      Argentina\n",
            "4        Armenia\n",
            "         ...    \n",
            "125      Uruguay\n",
            "126    Venezuela\n",
            "127      Vietnam\n",
            "128       Zambia\n",
            "129     Zimbabwe\n",
            "Name: country, Length: 130, dtype: object\n"
          ]
        }
      ],
      "source": [
        "print(\"Mode Country:\", mode_country)"
      ]
    },
    {
      "cell_type": "markdown",
      "metadata": {
        "id": "PZnYgvzRABKk"
      },
      "source": [
        "### Measures of Spread"
      ]
    },
    {
      "cell_type": "code",
      "execution_count": 23,
      "metadata": {
        "colab": {
          "base_uri": "https://localhost:8080/",
          "height": 424
        },
        "id": "MSirFGpcAAU1",
        "outputId": "821024c2-09e2-4edc-c61e-346ec96dfa7e"
      },
      "outputs": [
        {
          "data": {
            "text/html": [
              "<div>\n",
              "<style scoped>\n",
              "    .dataframe tbody tr th:only-of-type {\n",
              "        vertical-align: middle;\n",
              "    }\n",
              "\n",
              "    .dataframe tbody tr th {\n",
              "        vertical-align: top;\n",
              "    }\n",
              "\n",
              "    .dataframe thead th {\n",
              "        text-align: right;\n",
              "    }\n",
              "</style>\n",
              "<table border=\"1\" class=\"dataframe\">\n",
              "  <thead>\n",
              "    <tr style=\"text-align: right;\">\n",
              "      <th></th>\n",
              "      <th>country</th>\n",
              "      <th>food_category</th>\n",
              "      <th>consumption</th>\n",
              "      <th>co2_emission</th>\n",
              "    </tr>\n",
              "  </thead>\n",
              "  <tbody>\n",
              "    <tr>\n",
              "      <th>0</th>\n",
              "      <td>Argentina</td>\n",
              "      <td>pork</td>\n",
              "      <td>10.51</td>\n",
              "      <td>37.20</td>\n",
              "    </tr>\n",
              "    <tr>\n",
              "      <th>1</th>\n",
              "      <td>Argentina</td>\n",
              "      <td>poultry</td>\n",
              "      <td>38.66</td>\n",
              "      <td>41.53</td>\n",
              "    </tr>\n",
              "    <tr>\n",
              "      <th>2</th>\n",
              "      <td>Argentina</td>\n",
              "      <td>beef</td>\n",
              "      <td>55.48</td>\n",
              "      <td>1712.00</td>\n",
              "    </tr>\n",
              "    <tr>\n",
              "      <th>3</th>\n",
              "      <td>Argentina</td>\n",
              "      <td>lamb_goat</td>\n",
              "      <td>1.56</td>\n",
              "      <td>54.63</td>\n",
              "    </tr>\n",
              "    <tr>\n",
              "      <th>4</th>\n",
              "      <td>Argentina</td>\n",
              "      <td>fish</td>\n",
              "      <td>4.36</td>\n",
              "      <td>6.96</td>\n",
              "    </tr>\n",
              "    <tr>\n",
              "      <th>...</th>\n",
              "      <td>...</td>\n",
              "      <td>...</td>\n",
              "      <td>...</td>\n",
              "      <td>...</td>\n",
              "    </tr>\n",
              "    <tr>\n",
              "      <th>1425</th>\n",
              "      <td>Bangladesh</td>\n",
              "      <td>dairy</td>\n",
              "      <td>21.91</td>\n",
              "      <td>31.21</td>\n",
              "    </tr>\n",
              "    <tr>\n",
              "      <th>1426</th>\n",
              "      <td>Bangladesh</td>\n",
              "      <td>wheat</td>\n",
              "      <td>17.47</td>\n",
              "      <td>3.33</td>\n",
              "    </tr>\n",
              "    <tr>\n",
              "      <th>1427</th>\n",
              "      <td>Bangladesh</td>\n",
              "      <td>rice</td>\n",
              "      <td>171.73</td>\n",
              "      <td>219.76</td>\n",
              "    </tr>\n",
              "    <tr>\n",
              "      <th>1428</th>\n",
              "      <td>Bangladesh</td>\n",
              "      <td>soybeans</td>\n",
              "      <td>0.61</td>\n",
              "      <td>0.27</td>\n",
              "    </tr>\n",
              "    <tr>\n",
              "      <th>1429</th>\n",
              "      <td>Bangladesh</td>\n",
              "      <td>nuts</td>\n",
              "      <td>0.72</td>\n",
              "      <td>1.27</td>\n",
              "    </tr>\n",
              "  </tbody>\n",
              "</table>\n",
              "<p>1430 rows × 4 columns</p>\n",
              "</div>"
            ],
            "text/plain": [
              "         country food_category  consumption  co2_emission\n",
              "0      Argentina          pork        10.51         37.20\n",
              "1      Argentina       poultry        38.66         41.53\n",
              "2      Argentina          beef        55.48       1712.00\n",
              "3      Argentina     lamb_goat         1.56         54.63\n",
              "4      Argentina          fish         4.36          6.96\n",
              "...          ...           ...          ...           ...\n",
              "1425  Bangladesh         dairy        21.91         31.21\n",
              "1426  Bangladesh         wheat        17.47          3.33\n",
              "1427  Bangladesh          rice       171.73        219.76\n",
              "1428  Bangladesh      soybeans         0.61          0.27\n",
              "1429  Bangladesh          nuts         0.72          1.27\n",
              "\n",
              "[1430 rows x 4 columns]"
            ]
          },
          "execution_count": 23,
          "metadata": {},
          "output_type": "execute_result"
        }
      ],
      "source": [
        "df"
      ]
    },
    {
      "cell_type": "markdown",
      "metadata": {
        "id": "vpqOaTepAYab"
      },
      "source": [
        "\n",
        "## Measures of Spread\n",
        "\n",
        "Measures of spread, also known as measures of variability or dispersion, are statistical tools that describe how much the values in a dataset differ from each other and from the center, i.e., the mean. Understanding these measures enables us to interpret the distribution and consistency of the data. In other words, they show us how \"spread out\" or \"concentrated\" the data points are.\n",
        "[<img src=\"https://drive.google.com/uc?id=1Gw2Lx5IN5_mTA7j5OVlBBeXtd1NgEUsg\" alt=\"Measures of Center\" width=\"600\"/>](https://www.youtube.com/watch?v=-zUKM_AjKts)\n",
        "\n",
        "\n",
        "Some example use cases of measures of spread include:\n",
        "\n",
        "- Evaluating the consistency of test scores among students.\n",
        "- Analyzing the variability in sales data over time.\n",
        "- Assessing the risk and return in investment portfolios.\n",
        "\n",
        "Key measures of spread include:\n",
        "\n",
        "### 1. Variance\n",
        "\n",
        "- **Definition**: Variance measures how far a set of numbers is from their average value i.e mean. It calculates the average of the squared differences from the mean and provides insight into the degree of dispersion or spread in the dataset. It seeks to answer the question: How wide do the individual data points vary from the mean of the dataset? A higher variance indicates that the data points are more spread out from the mean (Outliers), while a lower variance suggests that the data points are closer to the mean.\n",
        "\n",
        "- **Importance**: Variance is important because it provides a mathematical basis for standard deviation and can give first hand insight into the presence of outlier.\n",
        "\n",
        "- **Formula**:\n",
        "  $$\n",
        "  \\text{Variance} (\\sigma^2) = \\frac{\\sum_{i=1}^{n} (x_i - \\mu)^2}{n}\n",
        "  $$\n",
        "\n",
        "- **Example**: Using the previous dataset [4, 8, 6, 5, 3] \\, the variance will be giving us:\n",
        "  $$\n",
        "  \\text{Variance} = 2.96\n",
        "  $$\n",
        "\n",
        "\n",
        "### 2. Standard Deviation(Std)\n",
        "\n",
        "- **Definition**: Standard deviation is a measure that quantifies the amount of variation or dispersion in a set of values. A low standard deviation indicates that the data points tend to be close to the mean, while a high standard deviation suggests that the data points are spread out over a larger range of values (Outliers). It is simply the squareroot of the variance\n",
        "\n",
        "- **Importance**: Standard deviation helps you understand how consistent or reliable your data is. For instance, if you're measuring test scores, a low standard deviation means that most students scored similarly, while a high standard deviation means that scores varied widely.\n",
        "\n",
        "- **Formula**:\n",
        "  $$\n",
        "  \\text{Standard Deviation} (\\sigma) = \\sqrt{\\frac{\\sum_{i=1}^{n} (x_i - \\mu)^2}{n}}\n",
        "  $$\n",
        "  Where:\n",
        "  - \\($x_i$\\) is each observation,\n",
        "  - \\($\\mu$\\) is the mean of the dataset,\n",
        "  - \\($n\\$) is the total number of values.\n",
        "\n",
        "- **Example**: Let's calculate the standard deviation for the dataset [4, 8, 6, 5, 3] \\:\n",
        "  1. **Calculate the Mean**:\n",
        "     $$\n",
        "     \\mu = \\frac{4 + 8 + 6 + 5 + 3}{5} = 5.2\n",
        "     $$\n",
        "  2. **Calculate the Variance** (the average of the squared differences from the mean):\n",
        "     $$\n",
        "     \\text{Variance} = \\frac{(4 - 5.2)^2 + (8 - 5.2)^2 + (6 - 5.2)^2 + (5 - 5.2)^2 + (3 - 5.2)^2}{5} = \\frac{(1.44 + 7.84 + 0.64 + 0.04 + 4.84)}{5} = \\frac{14.8}{5} = 2.96\n",
        "     $$\n",
        "  3. **Finally, calculate the Standard Deviation**:\n",
        "     $$\n",
        "     \\sigma = \\sqrt{2.96} \\approx 1.72\n",
        "     $$\n",
        "     [<img src=\"https://drive.google.com/uc?id=1zrVBK94AQ9c5ILPmTjzpF-wLEl_59vEl\" alt=\"Measures of Center\" width=\"500\"/>](https://stats.stackexchange.com/questions/476677/understanding-standard-deviation-in-normal-distribution)\n",
        "\n",
        "### 3. Range\n",
        "\n",
        "- **Definition**: The range is the simplest measure of spread and is calculated as the difference between the maximum and minimum values in a dataset.\n",
        "\n",
        "- **Importance**: The range gives a quick sense of the spread of the data but can be heavily influenced by outliers.\n",
        "\n",
        "- **Formula**:\n",
        "  $$\n",
        "  \\text{Range} = \\text{Max} - \\text{Min}\n",
        "  $$\n",
        "\n",
        "- **Example**: For the dataset $[4, 8, 6, 5, 3] \\$:\n",
        "  $$\n",
        "  \\text{Range} = 8 - 3 = 5\n",
        "  $$\n",
        "\n",
        "\n",
        "### 4. Percentiles\n",
        "\n",
        "\n",
        "- **Definition**: Percentiles are values that divide a dataset into 100 equal parts. The \\$k\\$-th percentile is the value below which $k$% of the data falls.\n",
        "\n",
        "- **Importance**: Percentiles provide insights into the relative standing of data points within a dataset and helps to identify the distribution of values.\n",
        "- **Example**: The $50th$ percentile is the median, which divides the data into two equal halves.\n",
        "\n",
        "[<img src=\"https://drive.google.com/uc?id=1cBTbSiYMcn_3555vRpoHUOp6l2p12nFO\" alt=\"Measures of Center\" width=\"500\"/>](https://www.timescale.com/blog/how-percentiles-work-and-why-theyre-better-than-averages/)\n",
        "\n",
        "### 5. Interquartile Range (IQR)\n",
        "\n",
        "- **Definition**: The interquartile range is a measure of statistical dispersion that describes the range within which  50% of the data points lie/fall. It is calculated as the difference between the third quartile ($Q3$) and the first quartile ($Q1$).\n",
        "\n",
        "- **Importance**: IQR is a robust measure of spread that is less affected by outliers than the range. It helps to identify the middle spread of the data.\n",
        "\n",
        "- **Formula**:\n",
        "  $$\n",
        "  \\text{IQR} = Q_3 - Q_1\n",
        "  $$\n",
        "  Where:\n",
        "  - $Q_1$ is the first quartile 25th percentile,\n",
        "  - $Q_3$ is the third quartile 75th percentile.\n",
        "\n",
        "### 6. Skewness\n",
        "\n",
        "- **Definition**: Skewness measures the asymmetry of the distribution of values in a dataset. It tells you whether the data points are skewed/drawn to the left or right of the mean. A skewness value of zero indicates a symmetric distribution.\n",
        "\n",
        "- **Types of Skewness**:\n",
        "  - **Positive Skewness**: The Tail is on the right side (data is skewed to the right). The mean is greater than the median.\n",
        "  - **Negative Skewness**: Tail on the left side (data is skewed to the left). The mean is less than the median.\n",
        "\n",
        "  [<img src=\"https://drive.google.com/uc?id=1ZJxwOGApc_IIi0aWltdxDpFSXNlOmIvx\" alt=\"Measures of Center\" width=\"500\"/>](https://medium.com/@dhaval.sony.504/everything-you-should-know-about-skewness-c5edf381cc6d)\n",
        "\n",
        "- **Formula**:\n",
        "  $$\n",
        "  \\text{Skewness} = \\frac{n}{(n-1)(n-2)} \\sum_{i=1}^{n} \\left(\\frac{x_i - \\mu}{\\sigma}\\right)^3\n",
        "  $$\n",
        "\n",
        "- **Example**: To calculate the skewness of the dataset $[1, 2, 2, 3, 10] \\$:\n",
        "  1. Calculate the mean μ and standard deviation σ.\n",
        "  2. Substitute  them into the skewness formula. You would find a positive skewness value indicating that the data is skewed to the right due to the presence of the outlier \"10\".\n",
        "\n",
        "### 7. Kurtosis\n",
        "\n",
        "- **Definition**: Kurtosis is a statistical measure that describes the distribution of data points in the tails relative to the overall distribution. It provides insights into the \"tailedness\" of the distribution. High kurtosis indicates heavy tails and a sharp peak (more outliers), while low kurtosis indicates light tails and a flatter peak.\n",
        "\n",
        "\n",
        "[<img src=\"https://drive.google.com/uc?id=16I8oJe6AC77-Fk_5JWi-KCoRYGrgSSS9\" alt=\"Measures of Center\" width=\"500\"/>](https://www.scribbr.com/statistics/kurtosis/)\n",
        "\n",
        "- **Types of Kurtosis**:\n",
        "  - **Leptokurtic**: Has High kurtosis (>3) - Data with heavy tails and a sharper peak, indicating potential outliers.\n",
        "  - **Mesokurtic**: Normal distribution (≈3) - Data with moderate tails, resembling a normal distribution.\n",
        "  - **Platykurtic**: Low kurtosis (<3) - Data with light tails and a flatter peak, suggesting fewer outliers.\n",
        "\n",
        "- **Formula**:\n",
        "  $$\n",
        "  \\text{Kurtosis} = \\frac{n(n+1)}{(n-1)(n-2)(n-3)} \\sum_{i=1}^{n} \\left(\\frac{x_i - \\mu}{\\sigma}\\right)^4 - \\frac{3(n-1)^2}{(n-2)(n-3)}\n",
        "  $$\n",
        "\n",
        "- **Example**: For a dataset  [1, 2, 3, 4, 5] , you can compute the kurtosis by substituting values into the formula.\n",
        "PS: calculating kurtosis typically requires statistical software for larger datasets.\n",
        "\n",
        "Understanding measures of spread is crucial for effectively interpreting data distributions. These measures help understand the variability, consistency, and overall characteristics of datasets. Measures like kurtosis and skewness, while often discussed in the context of spread, are more accurately described as measures of shape, as they provide detail into the distribution's characteristics rather than its variability alone.\n"
      ]
    },
    {
      "cell_type": "markdown",
      "metadata": {
        "id": "OthZXMxeA-vH"
      },
      "source": [
        "Let's Practice"
      ]
    },
    {
      "cell_type": "code",
      "execution_count": 24,
      "metadata": {
        "id": "roHib-o2A2O0"
      },
      "outputs": [],
      "source": [
        "co2_min = df['co2_emission'].min()  # Minimum value"
      ]
    },
    {
      "cell_type": "code",
      "execution_count": 25,
      "metadata": {
        "colab": {
          "base_uri": "https://localhost:8080/"
        },
        "id": "GTrCDZAmBye2",
        "outputId": "ac64bb65-5176-49e9-8358-80d6e1d2056a"
      },
      "outputs": [
        {
          "data": {
            "text/plain": [
              "np.float64(0.0)"
            ]
          },
          "execution_count": 25,
          "metadata": {},
          "output_type": "execute_result"
        }
      ],
      "source": [
        "co2_min"
      ]
    },
    {
      "cell_type": "code",
      "execution_count": 26,
      "metadata": {
        "id": "p7KzHzCgBDbF"
      },
      "outputs": [],
      "source": [
        "co2_max = df['co2_emission'].max()  # Maximum value"
      ]
    },
    {
      "cell_type": "code",
      "execution_count": 27,
      "metadata": {
        "colab": {
          "base_uri": "https://localhost:8080/"
        },
        "id": "Xkcf-KkBB3zJ",
        "outputId": "69026889-c07c-439b-bcfc-3024859b2502"
      },
      "outputs": [
        {
          "data": {
            "text/plain": [
              "np.float64(1712.0)"
            ]
          },
          "execution_count": 27,
          "metadata": {},
          "output_type": "execute_result"
        }
      ],
      "source": [
        "co2_max"
      ]
    },
    {
      "cell_type": "code",
      "execution_count": 28,
      "metadata": {
        "id": "bFe4U_DxBF-_"
      },
      "outputs": [],
      "source": [
        "co2_range = co2_max - co2_min       # Calculate range"
      ]
    },
    {
      "cell_type": "code",
      "execution_count": 29,
      "metadata": {
        "colab": {
          "base_uri": "https://localhost:8080/"
        },
        "id": "5yNKR2S-BIDs",
        "outputId": "80eeffc9-67a6-4865-9a5b-0727cbe93fd1"
      },
      "outputs": [
        {
          "name": "stdout",
          "output_type": "stream",
          "text": [
            "CO2 Emission Range: 1712.0\n"
          ]
        }
      ],
      "source": [
        "print(\"CO2 Emission Range:\", co2_range)"
      ]
    },
    {
      "cell_type": "code",
      "execution_count": 30,
      "metadata": {
        "colab": {
          "base_uri": "https://localhost:8080/",
          "height": 300
        },
        "id": "31a8Y2cPCCTy",
        "outputId": "194395ad-2e13-4e74-e536-2d19246ee731"
      },
      "outputs": [
        {
          "data": {
            "text/html": [
              "<div>\n",
              "<style scoped>\n",
              "    .dataframe tbody tr th:only-of-type {\n",
              "        vertical-align: middle;\n",
              "    }\n",
              "\n",
              "    .dataframe tbody tr th {\n",
              "        vertical-align: top;\n",
              "    }\n",
              "\n",
              "    .dataframe thead th {\n",
              "        text-align: right;\n",
              "    }\n",
              "</style>\n",
              "<table border=\"1\" class=\"dataframe\">\n",
              "  <thead>\n",
              "    <tr style=\"text-align: right;\">\n",
              "      <th></th>\n",
              "      <th>consumption</th>\n",
              "      <th>co2_emission</th>\n",
              "    </tr>\n",
              "  </thead>\n",
              "  <tbody>\n",
              "    <tr>\n",
              "      <th>count</th>\n",
              "      <td>1430.000000</td>\n",
              "      <td>1430.000000</td>\n",
              "    </tr>\n",
              "    <tr>\n",
              "      <th>mean</th>\n",
              "      <td>28.110406</td>\n",
              "      <td>74.383993</td>\n",
              "    </tr>\n",
              "    <tr>\n",
              "      <th>std</th>\n",
              "      <td>49.818044</td>\n",
              "      <td>152.098566</td>\n",
              "    </tr>\n",
              "    <tr>\n",
              "      <th>min</th>\n",
              "      <td>0.000000</td>\n",
              "      <td>0.000000</td>\n",
              "    </tr>\n",
              "    <tr>\n",
              "      <th>25%</th>\n",
              "      <td>2.365000</td>\n",
              "      <td>5.210000</td>\n",
              "    </tr>\n",
              "    <tr>\n",
              "      <th>50%</th>\n",
              "      <td>8.890000</td>\n",
              "      <td>16.530000</td>\n",
              "    </tr>\n",
              "    <tr>\n",
              "      <th>75%</th>\n",
              "      <td>28.132500</td>\n",
              "      <td>62.597500</td>\n",
              "    </tr>\n",
              "    <tr>\n",
              "      <th>max</th>\n",
              "      <td>430.760000</td>\n",
              "      <td>1712.000000</td>\n",
              "    </tr>\n",
              "  </tbody>\n",
              "</table>\n",
              "</div>"
            ],
            "text/plain": [
              "       consumption  co2_emission\n",
              "count  1430.000000   1430.000000\n",
              "mean     28.110406     74.383993\n",
              "std      49.818044    152.098566\n",
              "min       0.000000      0.000000\n",
              "25%       2.365000      5.210000\n",
              "50%       8.890000     16.530000\n",
              "75%      28.132500     62.597500\n",
              "max     430.760000   1712.000000"
            ]
          },
          "execution_count": 30,
          "metadata": {},
          "output_type": "execute_result"
        }
      ],
      "source": [
        "df.describe()"
      ]
    },
    {
      "cell_type": "code",
      "execution_count": 31,
      "metadata": {
        "colab": {
          "base_uri": "https://localhost:8080/"
        },
        "id": "ICAXF14sCJyY",
        "outputId": "22f491e8-b2ee-48c3-9b71-86e57bc789d5"
      },
      "outputs": [
        {
          "data": {
            "text/plain": [
              "np.float64(23133.97363855838)"
            ]
          },
          "execution_count": 31,
          "metadata": {},
          "output_type": "execute_result"
        }
      ],
      "source": [
        "df['co2_emission'].var()"
      ]
    },
    {
      "cell_type": "code",
      "execution_count": 32,
      "metadata": {
        "colab": {
          "base_uri": "https://localhost:8080/"
        },
        "id": "PaxKESu4CQ7g",
        "outputId": "514569da-a3e0-4f7b-b5b7-da0b4c894e71"
      },
      "outputs": [
        {
          "data": {
            "text/plain": [
              "np.float64(152.09856553747764)"
            ]
          },
          "execution_count": 32,
          "metadata": {},
          "output_type": "execute_result"
        }
      ],
      "source": [
        "df['co2_emission'].std()"
      ]
    },
    {
      "cell_type": "code",
      "execution_count": 33,
      "metadata": {
        "id": "Mc2PyNEqCX28"
      },
      "outputs": [],
      "source": [
        "percentiles = df['co2_emission'].quantile([0.10, 0.25, 0.50, 0.75])"
      ]
    },
    {
      "cell_type": "code",
      "execution_count": 34,
      "metadata": {
        "colab": {
          "base_uri": "https://localhost:8080/"
        },
        "id": "yC2us1KICaq3",
        "outputId": "7562dbd1-187c-4cde-ccdf-323cb6366670"
      },
      "outputs": [
        {
          "name": "stdout",
          "output_type": "stream",
          "text": [
            "Percentiles:\n",
            " 0.10     0.6680\n",
            "0.25     5.2100\n",
            "0.50    16.5300\n",
            "0.75    62.5975\n",
            "Name: co2_emission, dtype: float64\n"
          ]
        }
      ],
      "source": [
        "print(\"Percentiles:\\n\", percentiles)"
      ]
    },
    {
      "cell_type": "code",
      "execution_count": 35,
      "metadata": {
        "id": "CA5MWKhOCjG3"
      },
      "outputs": [],
      "source": [
        "iqr = percentiles[0.75] - percentiles[0.25]"
      ]
    },
    {
      "cell_type": "code",
      "execution_count": 36,
      "metadata": {
        "colab": {
          "base_uri": "https://localhost:8080/"
        },
        "id": "d79qkIrhCl9L",
        "outputId": "cb0107ee-08c8-4947-84d3-564cc900ba43"
      },
      "outputs": [
        {
          "name": "stdout",
          "output_type": "stream",
          "text": [
            "Interquartile Range (IQR): 57.3875\n"
          ]
        }
      ],
      "source": [
        "print(\"Interquartile Range (IQR):\", iqr)"
      ]
    },
    {
      "cell_type": "code",
      "execution_count": 37,
      "metadata": {
        "colab": {
          "base_uri": "https://localhost:8080/"
        },
        "id": "qA0BCuClC1ao",
        "outputId": "bfa53b7e-4719-4418-ec58-14505188f280"
      },
      "outputs": [
        {
          "name": "stdout",
          "output_type": "stream",
          "text": [
            "Percentiles:\n",
            " [0.6680000000000001, 5.21, 16.53, 62.597500000000004]\n"
          ]
        }
      ],
      "source": [
        "print(\"Percentiles:\\n\", list(percentiles))"
      ]
    },
    {
      "cell_type": "code",
      "execution_count": 38,
      "metadata": {
        "id": "85jufR7KC3Hl"
      },
      "outputs": [],
      "source": [
        "iqr = list(percentiles)[3] - list(percentiles)[1]"
      ]
    },
    {
      "cell_type": "code",
      "execution_count": 39,
      "metadata": {
        "colab": {
          "base_uri": "https://localhost:8080/"
        },
        "id": "K65QuBlQFAnS",
        "outputId": "74f63106-2f4e-47a0-9018-de198a771b71"
      },
      "outputs": [
        {
          "name": "stdout",
          "output_type": "stream",
          "text": [
            "Interquartile Range (IQR): 57.3875\n"
          ]
        }
      ],
      "source": [
        "print(\"Interquartile Range (IQR):\", iqr)"
      ]
    },
    {
      "cell_type": "code",
      "execution_count": 40,
      "metadata": {
        "id": "9gJy6o98FI35"
      },
      "outputs": [],
      "source": [
        "skewness = df['co2_emission'].skew()"
      ]
    },
    {
      "cell_type": "code",
      "execution_count": 41,
      "metadata": {
        "colab": {
          "base_uri": "https://localhost:8080/"
        },
        "id": "1FU-ciIKFMcW",
        "outputId": "11691bdb-ccf0-4e8f-e063-86df3d4a3f6d"
      },
      "outputs": [
        {
          "name": "stdout",
          "output_type": "stream",
          "text": [
            "Skewness: 4.005538916322443\n"
          ]
        }
      ],
      "source": [
        "print(\"Skewness:\", skewness)"
      ]
    },
    {
      "cell_type": "code",
      "execution_count": 42,
      "metadata": {
        "id": "eB4IDFzQHxu0"
      },
      "outputs": [],
      "source": [
        "import matplotlib.pyplot as plt\n",
        "import seaborn as sns"
      ]
    },
    {
      "cell_type": "code",
      "execution_count": 43,
      "metadata": {
        "id": "nx8WhRH0H4Y-"
      },
      "outputs": [],
      "source": [
        "data = df['co2_emission']\n"
      ]
    },
    {
      "cell_type": "code",
      "execution_count": 44,
      "metadata": {
        "id": "OCUIR5tyH_gK"
      },
      "outputs": [],
      "source": [
        "# Calculate statistics\n",
        "mean_val = data.mean()\n",
        "median_val = data.median()\n",
        "mode_val = data.mode()[0]\n",
        "skewness = data.skew()"
      ]
    },
    {
      "cell_type": "code",
      "execution_count": 45,
      "metadata": {
        "colab": {
          "base_uri": "https://localhost:8080/",
          "height": 565
        },
        "id": "ocn5XaWRH782",
        "outputId": "771ee765-2fcc-4824-93b0-21fcc05f525b"
      },
      "outputs": [
        {
          "data": {
            "image/png": "[encoded data removed]",
            "text/plain": [
              "<Figure size 1000x600 with 1 Axes>"
            ]
          },
          "metadata": {},
          "output_type": "display_data"
        }
      ],
      "source": [
        "# Plot histogram with KDE\n",
        "plt.figure(figsize=(10,6))\n",
        "sns.histplot(data, bins=30, kde=True, color=\"purple\")\n",
        "\n",
        "# Add vertical lines\n",
        "plt.axvline(mean_val, color='green', linestyle='--', linewidth=2, label=f'Mean = {mean_val:.2f}')\n",
        "plt.axvline(median_val, color='grey', linestyle='-', linewidth=2, label=f'Median = {median_val:.2f}')\n",
        "plt.axvline(mode_val, color='red', linestyle=':', linewidth=2, label=f'Mode = {mode_val:.2f}')\n",
        "\n",
        "# Add title and skewness\n",
        "plt.title(f\"CO2 Emission Distribution (Skewness = {skewness:.2f})\", fontsize=14)\n",
        "plt.xlabel(\"CO2 Emission\")\n",
        "plt.ylabel(\"Frequency\")\n",
        "plt.legend()\n",
        "\n",
        "plt.show()"
      ]
    },
    {
      "cell_type": "code",
      "execution_count": 46,
      "metadata": {
        "id": "sb5NycOiFRGy"
      },
      "outputs": [],
      "source": [
        "kurtosis = df['co2_emission'].kurtosis()"
      ]
    },
    {
      "cell_type": "code",
      "execution_count": 47,
      "metadata": {
        "colab": {
          "base_uri": "https://localhost:8080/"
        },
        "id": "l89H-NaaFTZg",
        "outputId": "e80bd1c2-ea10-447c-9a8f-b1deaf1089e7"
      },
      "outputs": [
        {
          "name": "stdout",
          "output_type": "stream",
          "text": [
            "Kurtosis: 21.85070219520907\n"
          ]
        }
      ],
      "source": [
        "print(\"Kurtosis:\", kurtosis)"
      ]
    },
    {
      "cell_type": "markdown",
      "metadata": {
        "id": "MhlpUGz_JGII"
      },
      "source": [
        "### Test of Hypothesis"
      ]
    },
    {
      "cell_type": "code",
      "execution_count": 48,
      "metadata": {
        "id": "OdIVl7gZJKxG"
      },
      "outputs": [
        {
          "ename": "ModuleNotFoundError",
          "evalue": "No module named 'scipy'",
          "output_type": "error",
          "traceback": [
            "\u001b[31m---------------------------------------------------------------------------\u001b[39m",
            "\u001b[31mModuleNotFoundError\u001b[39m                       Traceback (most recent call last)",
            "\u001b[36mCell\u001b[39m\u001b[36m \u001b[39m\u001b[32mIn[48]\u001b[39m\u001b[32m, line 1\u001b[39m\n\u001b[32m----> \u001b[39m\u001b[32m1\u001b[39m \u001b[38;5;28;01mfrom\u001b[39;00m\u001b[38;5;250m \u001b[39m\u001b[34;01mscipy\u001b[39;00m\u001b[38;5;250m \u001b[39m\u001b[38;5;28;01mimport\u001b[39;00m stats\n",
            "\u001b[31mModuleNotFoundError\u001b[39m: No module named 'scipy'"
          ]
        }
      ],
      "source": [
        "from scipy import stats"
      ]
    },
    {
      "cell_type": "code",
      "execution_count": null,
      "metadata": {
        "colab": {
          "base_uri": "https://localhost:8080/",
          "height": 423
        },
        "id": "kHZLEoGOqwSH",
        "outputId": "b2463982-cef3-457f-e893-a11ef6ec3b76"
      },
      "outputs": [
        {
          "data": {
            "application/vnd.google.colaboratory.intrinsic+json": {
              "summary": "{\n  \"name\": \"df\",\n  \"rows\": 1430,\n  \"fields\": [\n    {\n      \"column\": \"country\",\n      \"properties\": {\n        \"dtype\": \"category\",\n        \"num_unique_values\": 130,\n        \"samples\": [\n          \"Romania\",\n          \"Belarus\",\n          \"Hong Kong SAR. China\"\n        ],\n        \"semantic_type\": \"\",\n        \"description\": \"\"\n      }\n    },\n    {\n      \"column\": \"food_category\",\n      \"properties\": {\n        \"dtype\": \"category\",\n        \"num_unique_values\": 11,\n        \"samples\": [\n          \"eggs\",\n          \"pork\",\n          \"soybeans\"\n        ],\n        \"semantic_type\": \"\",\n        \"description\": \"\"\n      }\n    },\n    {\n      \"column\": \"consumption\",\n      \"properties\": {\n        \"dtype\": \"number\",\n        \"std\": 49.818044459705504,\n        \"min\": 0.0,\n        \"max\": 430.76,\n        \"num_unique_values\": 1113,\n        \"samples\": [\n          51.04,\n          8.29,\n          32.03\n        ],\n        \"semantic_type\": \"\",\n        \"description\": \"\"\n      }\n    },\n    {\n      \"column\": \"co2_emission\",\n      \"properties\": {\n        \"dtype\": \"number\",\n        \"std\": 152.09856553747755,\n        \"min\": 0.0,\n        \"max\": 1712.0,\n        \"num_unique_values\": 1183,\n        \"samples\": [\n          6.3,\n          23.08,\n          0.99\n        ],\n        \"semantic_type\": \"\",\n        \"description\": \"\"\n      }\n    }\n  ]\n}",
              "type": "dataframe",
              "variable_name": "df"
            },
            "text/html": [
              "\n",
              "  <div id=\"df-804c1995-4b62-4075-9c85-20a2bb1d171d\" class=\"colab-df-container\">\n",
              "    <div>\n",
              "<style scoped>\n",
              "    .dataframe tbody tr th:only-of-type {\n",
              "        vertical-align: middle;\n",
              "    }\n",
              "\n",
              "    .dataframe tbody tr th {\n",
              "        vertical-align: top;\n",
              "    }\n",
              "\n",
              "    .dataframe thead th {\n",
              "        text-align: right;\n",
              "    }\n",
              "</style>\n",
              "<table border=\"1\" class=\"dataframe\">\n",
              "  <thead>\n",
              "    <tr style=\"text-align: right;\">\n",
              "      <th></th>\n",
              "      <th>country</th>\n",
              "      <th>food_category</th>\n",
              "      <th>consumption</th>\n",
              "      <th>co2_emission</th>\n",
              "    </tr>\n",
              "  </thead>\n",
              "  <tbody>\n",
              "    <tr>\n",
              "      <th>0</th>\n",
              "      <td>Argentina</td>\n",
              "      <td>pork</td>\n",
              "      <td>10.51</td>\n",
              "      <td>37.20</td>\n",
              "    </tr>\n",
              "    <tr>\n",
              "      <th>1</th>\n",
              "      <td>Argentina</td>\n",
              "      <td>poultry</td>\n",
              "      <td>38.66</td>\n",
              "      <td>41.53</td>\n",
              "    </tr>\n",
              "    <tr>\n",
              "      <th>2</th>\n",
              "      <td>Argentina</td>\n",
              "      <td>beef</td>\n",
              "      <td>55.48</td>\n",
              "      <td>1712.00</td>\n",
              "    </tr>\n",
              "    <tr>\n",
              "      <th>3</th>\n",
              "      <td>Argentina</td>\n",
              "      <td>lamb_goat</td>\n",
              "      <td>1.56</td>\n",
              "      <td>54.63</td>\n",
              "    </tr>\n",
              "    <tr>\n",
              "      <th>4</th>\n",
              "      <td>Argentina</td>\n",
              "      <td>fish</td>\n",
              "      <td>4.36</td>\n",
              "      <td>6.96</td>\n",
              "    </tr>\n",
              "    <tr>\n",
              "      <th>...</th>\n",
              "      <td>...</td>\n",
              "      <td>...</td>\n",
              "      <td>...</td>\n",
              "      <td>...</td>\n",
              "    </tr>\n",
              "    <tr>\n",
              "      <th>1425</th>\n",
              "      <td>Bangladesh</td>\n",
              "      <td>dairy</td>\n",
              "      <td>21.91</td>\n",
              "      <td>31.21</td>\n",
              "    </tr>\n",
              "    <tr>\n",
              "      <th>1426</th>\n",
              "      <td>Bangladesh</td>\n",
              "      <td>wheat</td>\n",
              "      <td>17.47</td>\n",
              "      <td>3.33</td>\n",
              "    </tr>\n",
              "    <tr>\n",
              "      <th>1427</th>\n",
              "      <td>Bangladesh</td>\n",
              "      <td>rice</td>\n",
              "      <td>171.73</td>\n",
              "      <td>219.76</td>\n",
              "    </tr>\n",
              "    <tr>\n",
              "      <th>1428</th>\n",
              "      <td>Bangladesh</td>\n",
              "      <td>soybeans</td>\n",
              "      <td>0.61</td>\n",
              "      <td>0.27</td>\n",
              "    </tr>\n",
              "    <tr>\n",
              "      <th>1429</th>\n",
              "      <td>Bangladesh</td>\n",
              "      <td>nuts</td>\n",
              "      <td>0.72</td>\n",
              "      <td>1.27</td>\n",
              "    </tr>\n",
              "  </tbody>\n",
              "</table>\n",
              "<p>1430 rows × 4 columns</p>\n",
              "</div>\n",
              "    <div class=\"colab-df-buttons\">\n",
              "\n",
              "  <div class=\"colab-df-container\">\n",
              "    <button class=\"colab-df-convert\" onclick=\"convertToInteractive('df-804c1995-4b62-4075-9c85-20a2bb1d171d')\"\n",
              "            title=\"Convert this dataframe to an interactive table.\"\n",
              "            style=\"display:none;\">\n",
              "\n",
              "  <svg xmlns=\"http://www.w3.org/2000/svg\" height=\"24px\" viewBox=\"0 -960 960 960\">\n",
              "    <path d=\"M120-120v-720h720v720H120Zm60-500h600v-160H180v160Zm220 220h160v-160H400v160Zm0 220h160v-160H400v160ZM180-400h160v-160H180v160Zm440 0h160v-160H620v160ZM180-180h160v-160H180v160Zm440 0h160v-160H620v160Z\"/>\n",
              "  </svg>\n",
              "    </button>\n",
              "\n",
              "  <style>\n",
              "    .colab-df-container {\n",
              "      display:flex;\n",
              "      gap: 12px;\n",
              "    }\n",
              "\n",
              "    .colab-df-convert {\n",
              "      background-color: #E8F0FE;\n",
              "      border: none;\n",
              "      border-radius: 50%;\n",
              "      cursor: pointer;\n",
              "      display: none;\n",
              "      fill: #1967D2;\n",
              "      height: 32px;\n",
              "      padding: 0 0 0 0;\n",
              "      width: 32px;\n",
              "    }\n",
              "\n",
              "    .colab-df-convert:hover {\n",
              "      background-color: #E2EBFA;\n",
              "      box-shadow: 0px 1px 2px rgba(60, 64, 67, 0.3), 0px 1px 3px 1px rgba(60, 64, 67, 0.15);\n",
              "      fill: #174EA6;\n",
              "    }\n",
              "\n",
              "    .colab-df-buttons div {\n",
              "      margin-bottom: 4px;\n",
              "    }\n",
              "\n",
              "    [theme=dark] .colab-df-convert {\n",
              "      background-color: #3B4455;\n",
              "      fill: #D2E3FC;\n",
              "    }\n",
              "\n",
              "    [theme=dark] .colab-df-convert:hover {\n",
              "      background-color: #434B5C;\n",
              "      box-shadow: 0px 1px 3px 1px rgba(0, 0, 0, 0.15);\n",
              "      filter: drop-shadow(0px 1px 2px rgba(0, 0, 0, 0.3));\n",
              "      fill: #FFFFFF;\n",
              "    }\n",
              "  </style>\n",
              "\n",
              "    <script>\n",
              "      const buttonEl =\n",
              "        document.querySelector('#df-804c1995-4b62-4075-9c85-20a2bb1d171d button.colab-df-convert');\n",
              "      buttonEl.style.display =\n",
              "        google.colab.kernel.accessAllowed ? 'block' : 'none';\n",
              "\n",
              "      async function convertToInteractive(key) {\n",
              "        const element = document.querySelector('#df-804c1995-4b62-4075-9c85-20a2bb1d171d');\n",
              "        const dataTable =\n",
              "          await google.colab.kernel.invokeFunction('convertToInteractive',\n",
              "                                                    [key], {});\n",
              "        if (!dataTable) return;\n",
              "\n",
              "        const docLinkHtml = 'Like what you see? Visit the ' +\n",
              "          '<a target=\"_blank\" href=https://colab.research.google.com/notebooks/data_table.ipynb>data table notebook</a>'\n",
              "          + ' to learn more about interactive tables.';\n",
              "        element.innerHTML = '';\n",
              "        dataTable['output_type'] = 'display_data';\n",
              "        await google.colab.output.renderOutput(dataTable, element);\n",
              "        const docLink = document.createElement('div');\n",
              "        docLink.innerHTML = docLinkHtml;\n",
              "        element.appendChild(docLink);\n",
              "      }\n",
              "    </script>\n",
              "  </div>\n",
              "\n",
              "\n",
              "    <div id=\"df-35cd19fe-69ed-4873-89df-9d003e025274\">\n",
              "      <button class=\"colab-df-quickchart\" onclick=\"quickchart('df-35cd19fe-69ed-4873-89df-9d003e025274')\"\n",
              "                title=\"Suggest charts\"\n",
              "                style=\"display:none;\">\n",
              "\n",
              "<svg xmlns=\"http://www.w3.org/2000/svg\" height=\"24px\"viewBox=\"0 0 24 24\"\n",
              "     width=\"24px\">\n",
              "    <g>\n",
              "        <path d=\"M19 3H5c-1.1 0-2 .9-2 2v14c0 1.1.9 2 2 2h14c1.1 0 2-.9 2-2V5c0-1.1-.9-2-2-2zM9 17H7v-7h2v7zm4 0h-2V7h2v10zm4 0h-2v-4h2v4z\"/>\n",
              "    </g>\n",
              "</svg>\n",
              "      </button>\n",
              "\n",
              "<style>\n",
              "  .colab-df-quickchart {\n",
              "      --bg-color: #E8F0FE;\n",
              "      --fill-color: #1967D2;\n",
              "      --hover-bg-color: #E2EBFA;\n",
              "      --hover-fill-color: #174EA6;\n",
              "      --disabled-fill-color: #AAA;\n",
              "      --disabled-bg-color: #DDD;\n",
              "  }\n",
              "\n",
              "  [theme=dark] .colab-df-quickchart {\n",
              "      --bg-color: #3B4455;\n",
              "      --fill-color: #D2E3FC;\n",
              "      --hover-bg-color: #434B5C;\n",
              "      --hover-fill-color: #FFFFFF;\n",
              "      --disabled-bg-color: #3B4455;\n",
              "      --disabled-fill-color: #666;\n",
              "  }\n",
              "\n",
              "  .colab-df-quickchart {\n",
              "    background-color: var(--bg-color);\n",
              "    border: none;\n",
              "    border-radius: 50%;\n",
              "    cursor: pointer;\n",
              "    display: none;\n",
              "    fill: var(--fill-color);\n",
              "    height: 32px;\n",
              "    padding: 0;\n",
              "    width: 32px;\n",
              "  }\n",
              "\n",
              "  .colab-df-quickchart:hover {\n",
              "    background-color: var(--hover-bg-color);\n",
              "    box-shadow: 0 1px 2px rgba(60, 64, 67, 0.3), 0 1px 3px 1px rgba(60, 64, 67, 0.15);\n",
              "    fill: var(--button-hover-fill-color);\n",
              "  }\n",
              "\n",
              "  .colab-df-quickchart-complete:disabled,\n",
              "  .colab-df-quickchart-complete:disabled:hover {\n",
              "    background-color: var(--disabled-bg-color);\n",
              "    fill: var(--disabled-fill-color);\n",
              "    box-shadow: none;\n",
              "  }\n",
              "\n",
              "  .colab-df-spinner {\n",
              "    border: 2px solid var(--fill-color);\n",
              "    border-color: transparent;\n",
              "    border-bottom-color: var(--fill-color);\n",
              "    animation:\n",
              "      spin 1s steps(1) infinite;\n",
              "  }\n",
              "\n",
              "  @keyframes spin {\n",
              "    0% {\n",
              "      border-color: transparent;\n",
              "      border-bottom-color: var(--fill-color);\n",
              "      border-left-color: var(--fill-color);\n",
              "    }\n",
              "    20% {\n",
              "      border-color: transparent;\n",
              "      border-left-color: var(--fill-color);\n",
              "      border-top-color: var(--fill-color);\n",
              "    }\n",
              "    30% {\n",
              "      border-color: transparent;\n",
              "      border-left-color: var(--fill-color);\n",
              "      border-top-color: var(--fill-color);\n",
              "      border-right-color: var(--fill-color);\n",
              "    }\n",
              "    40% {\n",
              "      border-color: transparent;\n",
              "      border-right-color: var(--fill-color);\n",
              "      border-top-color: var(--fill-color);\n",
              "    }\n",
              "    60% {\n",
              "      border-color: transparent;\n",
              "      border-right-color: var(--fill-color);\n",
              "    }\n",
              "    80% {\n",
              "      border-color: transparent;\n",
              "      border-right-color: var(--fill-color);\n",
              "      border-bottom-color: var(--fill-color);\n",
              "    }\n",
              "    90% {\n",
              "      border-color: transparent;\n",
              "      border-bottom-color: var(--fill-color);\n",
              "    }\n",
              "  }\n",
              "</style>\n",
              "\n",
              "      <script>\n",
              "        async function quickchart(key) {\n",
              "          const quickchartButtonEl =\n",
              "            document.querySelector('#' + key + ' button');\n",
              "          quickchartButtonEl.disabled = true;  // To prevent multiple clicks.\n",
              "          quickchartButtonEl.classList.add('colab-df-spinner');\n",
              "          try {\n",
              "            const charts = await google.colab.kernel.invokeFunction(\n",
              "                'suggestCharts', [key], {});\n",
              "          } catch (error) {\n",
              "            console.error('Error during call to suggestCharts:', error);\n",
              "          }\n",
              "          quickchartButtonEl.classList.remove('colab-df-spinner');\n",
              "          quickchartButtonEl.classList.add('colab-df-quickchart-complete');\n",
              "        }\n",
              "        (() => {\n",
              "          let quickchartButtonEl =\n",
              "            document.querySelector('#df-35cd19fe-69ed-4873-89df-9d003e025274 button');\n",
              "          quickchartButtonEl.style.display =\n",
              "            google.colab.kernel.accessAllowed ? 'block' : 'none';\n",
              "        })();\n",
              "      </script>\n",
              "    </div>\n",
              "\n",
              "  <div id=\"id_db6f4cd5-7571-42cd-8068-b689a318d60c\">\n",
              "    <style>\n",
              "      .colab-df-generate {\n",
              "        background-color: #E8F0FE;\n",
              "        border: none;\n",
              "        border-radius: 50%;\n",
              "        cursor: pointer;\n",
              "        display: none;\n",
              "        fill: #1967D2;\n",
              "        height: 32px;\n",
              "        padding: 0 0 0 0;\n",
              "        width: 32px;\n",
              "      }\n",
              "\n",
              "      .colab-df-generate:hover {\n",
              "        background-color: #E2EBFA;\n",
              "        box-shadow: 0px 1px 2px rgba(60, 64, 67, 0.3), 0px 1px 3px 1px rgba(60, 64, 67, 0.15);\n",
              "        fill: #174EA6;\n",
              "      }\n",
              "\n",
              "      [theme=dark] .colab-df-generate {\n",
              "        background-color: #3B4455;\n",
              "        fill: #D2E3FC;\n",
              "      }\n",
              "\n",
              "      [theme=dark] .colab-df-generate:hover {\n",
              "        background-color: #434B5C;\n",
              "        box-shadow: 0px 1px 3px 1px rgba(0, 0, 0, 0.15);\n",
              "        filter: drop-shadow(0px 1px 2px rgba(0, 0, 0, 0.3));\n",
              "        fill: #FFFFFF;\n",
              "      }\n",
              "    </style>\n",
              "    <button class=\"colab-df-generate\" onclick=\"generateWithVariable('df')\"\n",
              "            title=\"Generate code using this dataframe.\"\n",
              "            style=\"display:none;\">\n",
              "\n",
              "  <svg xmlns=\"http://www.w3.org/2000/svg\" height=\"24px\"viewBox=\"0 0 24 24\"\n",
              "       width=\"24px\">\n",
              "    <path d=\"M7,19H8.4L18.45,9,17,7.55,7,17.6ZM5,21V16.75L18.45,3.32a2,2,0,0,1,2.83,0l1.4,1.43a1.91,1.91,0,0,1,.58,1.4,1.91,1.91,0,0,1-.58,1.4L9.25,21ZM18.45,9,17,7.55Zm-12,3A5.31,5.31,0,0,0,4.9,8.1,5.31,5.31,0,0,0,1,6.5,5.31,5.31,0,0,0,4.9,4.9,5.31,5.31,0,0,0,6.5,1,5.31,5.31,0,0,0,8.1,4.9,5.31,5.31,0,0,0,12,6.5,5.46,5.46,0,0,0,6.5,12Z\"/>\n",
              "  </svg>\n",
              "    </button>\n",
              "    <script>\n",
              "      (() => {\n",
              "      const buttonEl =\n",
              "        document.querySelector('#id_db6f4cd5-7571-42cd-8068-b689a318d60c button.colab-df-generate');\n",
              "      buttonEl.style.display =\n",
              "        google.colab.kernel.accessAllowed ? 'block' : 'none';\n",
              "\n",
              "      buttonEl.onclick = () => {\n",
              "        google.colab.notebook.generateWithVariable('df');\n",
              "      }\n",
              "      })();\n",
              "    </script>\n",
              "  </div>\n",
              "\n",
              "    </div>\n",
              "  </div>\n"
            ],
            "text/plain": [
              "         country food_category  consumption  co2_emission\n",
              "0      Argentina          pork        10.51         37.20\n",
              "1      Argentina       poultry        38.66         41.53\n",
              "2      Argentina          beef        55.48       1712.00\n",
              "3      Argentina     lamb_goat         1.56         54.63\n",
              "4      Argentina          fish         4.36          6.96\n",
              "...          ...           ...          ...           ...\n",
              "1425  Bangladesh         dairy        21.91         31.21\n",
              "1426  Bangladesh         wheat        17.47          3.33\n",
              "1427  Bangladesh          rice       171.73        219.76\n",
              "1428  Bangladesh      soybeans         0.61          0.27\n",
              "1429  Bangladesh          nuts         0.72          1.27\n",
              "\n",
              "[1430 rows x 4 columns]"
            ]
          },
          "execution_count": 92,
          "metadata": {},
          "output_type": "execute_result"
        }
      ],
      "source": [
        "df"
      ]
    },
    {
      "cell_type": "markdown",
      "metadata": {
        "id": "2rAMLYRYqX2c"
      },
      "source": [
        "#### One-Sample t-Test"
      ]
    },
    {
      "cell_type": "markdown",
      "metadata": {
        "id": "ai-10S3YqdKD"
      },
      "source": [
        "Question:\n",
        "Is the average beef consumption in Argentina significantly different from 50 kg/person/year?"
      ]
    },
    {
      "cell_type": "markdown",
      "metadata": {
        "id": "GMZmlU0PqiSb"
      },
      "source": [
        "H₀: Mean beef consumption in Argentina = 50\n",
        "\n",
        "H₁: Mean beef consumption in Argentina ≠ 50"
      ]
    },
    {
      "cell_type": "code",
      "execution_count": null,
      "metadata": {
        "id": "SUy5yhLsqh5v"
      },
      "outputs": [],
      "source": [
        "# Select Argentina beef consumption\n",
        "arg_beef = df[(df[\"country\"]==\"Argentina\") & (df[\"food_category\"]==\"beef\")]\n"
      ]
    },
    {
      "cell_type": "code",
      "execution_count": null,
      "metadata": {
        "colab": {
          "base_uri": "https://localhost:8080/",
          "height": 89
        },
        "id": "EVXZERxJqZX3",
        "outputId": "7ed110f0-5a26-437c-bae3-d1ddaa4ce09a"
      },
      "outputs": [
        {
          "data": {
            "application/vnd.google.colaboratory.intrinsic+json": {
              "summary": "{\n  \"name\": \"arg_beef\",\n  \"rows\": 1,\n  \"fields\": [\n    {\n      \"column\": \"country\",\n      \"properties\": {\n        \"dtype\": \"string\",\n        \"num_unique_values\": 1,\n        \"samples\": [\n          \"Argentina\"\n        ],\n        \"semantic_type\": \"\",\n        \"description\": \"\"\n      }\n    },\n    {\n      \"column\": \"food_category\",\n      \"properties\": {\n        \"dtype\": \"string\",\n        \"num_unique_values\": 1,\n        \"samples\": [\n          \"beef\"\n        ],\n        \"semantic_type\": \"\",\n        \"description\": \"\"\n      }\n    },\n    {\n      \"column\": \"consumption\",\n      \"properties\": {\n        \"dtype\": \"number\",\n        \"std\": null,\n        \"min\": 55.48,\n        \"max\": 55.48,\n        \"num_unique_values\": 1,\n        \"samples\": [\n          55.48\n        ],\n        \"semantic_type\": \"\",\n        \"description\": \"\"\n      }\n    },\n    {\n      \"column\": \"co2_emission\",\n      \"properties\": {\n        \"dtype\": \"number\",\n        \"std\": null,\n        \"min\": 1712.0,\n        \"max\": 1712.0,\n        \"num_unique_values\": 1,\n        \"samples\": [\n          1712.0\n        ],\n        \"semantic_type\": \"\",\n        \"description\": \"\"\n      }\n    }\n  ]\n}",
              "type": "dataframe",
              "variable_name": "arg_beef"
            },
            "text/html": [
              "\n",
              "  <div id=\"df-659fe431-8859-4b29-b12c-dcd3d1ece709\" class=\"colab-df-container\">\n",
              "    <div>\n",
              "<style scoped>\n",
              "    .dataframe tbody tr th:only-of-type {\n",
              "        vertical-align: middle;\n",
              "    }\n",
              "\n",
              "    .dataframe tbody tr th {\n",
              "        vertical-align: top;\n",
              "    }\n",
              "\n",
              "    .dataframe thead th {\n",
              "        text-align: right;\n",
              "    }\n",
              "</style>\n",
              "<table border=\"1\" class=\"dataframe\">\n",
              "  <thead>\n",
              "    <tr style=\"text-align: right;\">\n",
              "      <th></th>\n",
              "      <th>country</th>\n",
              "      <th>food_category</th>\n",
              "      <th>consumption</th>\n",
              "      <th>co2_emission</th>\n",
              "    </tr>\n",
              "  </thead>\n",
              "  <tbody>\n",
              "    <tr>\n",
              "      <th>2</th>\n",
              "      <td>Argentina</td>\n",
              "      <td>beef</td>\n",
              "      <td>55.48</td>\n",
              "      <td>1712.0</td>\n",
              "    </tr>\n",
              "  </tbody>\n",
              "</table>\n",
              "</div>\n",
              "    <div class=\"colab-df-buttons\">\n",
              "\n",
              "  <div class=\"colab-df-container\">\n",
              "    <button class=\"colab-df-convert\" onclick=\"convertToInteractive('df-659fe431-8859-4b29-b12c-dcd3d1ece709')\"\n",
              "            title=\"Convert this dataframe to an interactive table.\"\n",
              "            style=\"display:none;\">\n",
              "\n",
              "  <svg xmlns=\"http://www.w3.org/2000/svg\" height=\"24px\" viewBox=\"0 -960 960 960\">\n",
              "    <path d=\"M120-120v-720h720v720H120Zm60-500h600v-160H180v160Zm220 220h160v-160H400v160Zm0 220h160v-160H400v160ZM180-400h160v-160H180v160Zm440 0h160v-160H620v160ZM180-180h160v-160H180v160Zm440 0h160v-160H620v160Z\"/>\n",
              "  </svg>\n",
              "    </button>\n",
              "\n",
              "  <style>\n",
              "    .colab-df-container {\n",
              "      display:flex;\n",
              "      gap: 12px;\n",
              "    }\n",
              "\n",
              "    .colab-df-convert {\n",
              "      background-color: #E8F0FE;\n",
              "      border: none;\n",
              "      border-radius: 50%;\n",
              "      cursor: pointer;\n",
              "      display: none;\n",
              "      fill: #1967D2;\n",
              "      height: 32px;\n",
              "      padding: 0 0 0 0;\n",
              "      width: 32px;\n",
              "    }\n",
              "\n",
              "    .colab-df-convert:hover {\n",
              "      background-color: #E2EBFA;\n",
              "      box-shadow: 0px 1px 2px rgba(60, 64, 67, 0.3), 0px 1px 3px 1px rgba(60, 64, 67, 0.15);\n",
              "      fill: #174EA6;\n",
              "    }\n",
              "\n",
              "    .colab-df-buttons div {\n",
              "      margin-bottom: 4px;\n",
              "    }\n",
              "\n",
              "    [theme=dark] .colab-df-convert {\n",
              "      background-color: #3B4455;\n",
              "      fill: #D2E3FC;\n",
              "    }\n",
              "\n",
              "    [theme=dark] .colab-df-convert:hover {\n",
              "      background-color: #434B5C;\n",
              "      box-shadow: 0px 1px 3px 1px rgba(0, 0, 0, 0.15);\n",
              "      filter: drop-shadow(0px 1px 2px rgba(0, 0, 0, 0.3));\n",
              "      fill: #FFFFFF;\n",
              "    }\n",
              "  </style>\n",
              "\n",
              "    <script>\n",
              "      const buttonEl =\n",
              "        document.querySelector('#df-659fe431-8859-4b29-b12c-dcd3d1ece709 button.colab-df-convert');\n",
              "      buttonEl.style.display =\n",
              "        google.colab.kernel.accessAllowed ? 'block' : 'none';\n",
              "\n",
              "      async function convertToInteractive(key) {\n",
              "        const element = document.querySelector('#df-659fe431-8859-4b29-b12c-dcd3d1ece709');\n",
              "        const dataTable =\n",
              "          await google.colab.kernel.invokeFunction('convertToInteractive',\n",
              "                                                    [key], {});\n",
              "        if (!dataTable) return;\n",
              "\n",
              "        const docLinkHtml = 'Like what you see? Visit the ' +\n",
              "          '<a target=\"_blank\" href=https://colab.research.google.com/notebooks/data_table.ipynb>data table notebook</a>'\n",
              "          + ' to learn more about interactive tables.';\n",
              "        element.innerHTML = '';\n",
              "        dataTable['output_type'] = 'display_data';\n",
              "        await google.colab.output.renderOutput(dataTable, element);\n",
              "        const docLink = document.createElement('div');\n",
              "        docLink.innerHTML = docLinkHtml;\n",
              "        element.appendChild(docLink);\n",
              "      }\n",
              "    </script>\n",
              "  </div>\n",
              "\n",
              "\n",
              "  <div id=\"id_0c23d248-be9d-4026-85c4-91273b3d69f3\">\n",
              "    <style>\n",
              "      .colab-df-generate {\n",
              "        background-color: #E8F0FE;\n",
              "        border: none;\n",
              "        border-radius: 50%;\n",
              "        cursor: pointer;\n",
              "        display: none;\n",
              "        fill: #1967D2;\n",
              "        height: 32px;\n",
              "        padding: 0 0 0 0;\n",
              "        width: 32px;\n",
              "      }\n",
              "\n",
              "      .colab-df-generate:hover {\n",
              "        background-color: #E2EBFA;\n",
              "        box-shadow: 0px 1px 2px rgba(60, 64, 67, 0.3), 0px 1px 3px 1px rgba(60, 64, 67, 0.15);\n",
              "        fill: #174EA6;\n",
              "      }\n",
              "\n",
              "      [theme=dark] .colab-df-generate {\n",
              "        background-color: #3B4455;\n",
              "        fill: #D2E3FC;\n",
              "      }\n",
              "\n",
              "      [theme=dark] .colab-df-generate:hover {\n",
              "        background-color: #434B5C;\n",
              "        box-shadow: 0px 1px 3px 1px rgba(0, 0, 0, 0.15);\n",
              "        filter: drop-shadow(0px 1px 2px rgba(0, 0, 0, 0.3));\n",
              "        fill: #FFFFFF;\n",
              "      }\n",
              "    </style>\n",
              "    <button class=\"colab-df-generate\" onclick=\"generateWithVariable('arg_beef')\"\n",
              "            title=\"Generate code using this dataframe.\"\n",
              "            style=\"display:none;\">\n",
              "\n",
              "  <svg xmlns=\"http://www.w3.org/2000/svg\" height=\"24px\"viewBox=\"0 0 24 24\"\n",
              "       width=\"24px\">\n",
              "    <path d=\"M7,19H8.4L18.45,9,17,7.55,7,17.6ZM5,21V16.75L18.45,3.32a2,2,0,0,1,2.83,0l1.4,1.43a1.91,1.91,0,0,1,.58,1.4,1.91,1.91,0,0,1-.58,1.4L9.25,21ZM18.45,9,17,7.55Zm-12,3A5.31,5.31,0,0,0,4.9,8.1,5.31,5.31,0,0,0,1,6.5,5.31,5.31,0,0,0,4.9,4.9,5.31,5.31,0,0,0,6.5,1,5.31,5.31,0,0,0,8.1,4.9,5.31,5.31,0,0,0,12,6.5,5.46,5.46,0,0,0,6.5,12Z\"/>\n",
              "  </svg>\n",
              "    </button>\n",
              "    <script>\n",
              "      (() => {\n",
              "      const buttonEl =\n",
              "        document.querySelector('#id_0c23d248-be9d-4026-85c4-91273b3d69f3 button.colab-df-generate');\n",
              "      buttonEl.style.display =\n",
              "        google.colab.kernel.accessAllowed ? 'block' : 'none';\n",
              "\n",
              "      buttonEl.onclick = () => {\n",
              "        google.colab.notebook.generateWithVariable('arg_beef');\n",
              "      }\n",
              "      })();\n",
              "    </script>\n",
              "  </div>\n",
              "\n",
              "    </div>\n",
              "  </div>\n"
            ],
            "text/plain": [
              "     country food_category  consumption  co2_emission\n",
              "2  Argentina          beef        55.48        1712.0"
            ]
          },
          "execution_count": 94,
          "metadata": {},
          "output_type": "execute_result"
        }
      ],
      "source": [
        "arg_beef"
      ]
    },
    {
      "cell_type": "code",
      "execution_count": null,
      "metadata": {
        "id": "bo0PiCZyrheX"
      },
      "outputs": [],
      "source": [
        "arg_consump = arg_beef[\"consumption\"]"
      ]
    },
    {
      "cell_type": "code",
      "execution_count": null,
      "metadata": {
        "colab": {
          "base_uri": "https://localhost:8080/",
          "height": 115
        },
        "id": "fqWP6KxzrxEl",
        "outputId": "4c3e60b5-7757-4f46-deee-cf93e65f9061"
      },
      "outputs": [
        {
          "data": {
            "text/html": [
              "<div>\n",
              "<style scoped>\n",
              "    .dataframe tbody tr th:only-of-type {\n",
              "        vertical-align: middle;\n",
              "    }\n",
              "\n",
              "    .dataframe tbody tr th {\n",
              "        vertical-align: top;\n",
              "    }\n",
              "\n",
              "    .dataframe thead th {\n",
              "        text-align: right;\n",
              "    }\n",
              "</style>\n",
              "<table border=\"1\" class=\"dataframe\">\n",
              "  <thead>\n",
              "    <tr style=\"text-align: right;\">\n",
              "      <th></th>\n",
              "      <th>consumption</th>\n",
              "    </tr>\n",
              "  </thead>\n",
              "  <tbody>\n",
              "    <tr>\n",
              "      <th>2</th>\n",
              "      <td>55.48</td>\n",
              "    </tr>\n",
              "  </tbody>\n",
              "</table>\n",
              "</div><br><label><b>dtype:</b> float64</label>"
            ],
            "text/plain": [
              "2    55.48\n",
              "Name: consumption, dtype: float64"
            ]
          },
          "execution_count": 96,
          "metadata": {},
          "output_type": "execute_result"
        }
      ],
      "source": [
        "arg_consump"
      ]
    },
    {
      "cell_type": "code",
      "execution_count": null,
      "metadata": {
        "colab": {
          "base_uri": "https://localhost:8080/"
        },
        "id": "qDdbW111r2tW",
        "outputId": "3388c79b-a5fc-4aa3-b981-b2bff864bcd9"
      },
      "outputs": [
        {
          "data": {
            "text/plain": [
              "np.float64(55.48)"
            ]
          },
          "execution_count": 97,
          "metadata": {},
          "output_type": "execute_result"
        }
      ],
      "source": [
        "arg_consump_mean = arg_consump.mean()\n",
        "arg_consump_mean"
      ]
    },
    {
      "cell_type": "code",
      "execution_count": null,
      "metadata": {
        "colab": {
          "base_uri": "https://localhost:8080/"
        },
        "id": "Wsm8FKgzrqyV",
        "outputId": "7e4d8589-4716-4ea4-b915-34b4c1cbf539"
      },
      "outputs": [
        {
          "name": "stdout",
          "output_type": "stream",
          "text": [
            "Mean Beef Consumption (Argentina): 55.48\n"
          ]
        }
      ],
      "source": [
        "print(\"Mean Beef Consumption (Argentina):\", arg_consump_mean)"
      ]
    },
    {
      "cell_type": "code",
      "execution_count": null,
      "metadata": {
        "id": "j8-IDm1lsr-A"
      },
      "outputs": [],
      "source": [
        "rg_beef_samples = np.random.normal(loc=arg_consump_mean, scale=5, size=30)"
      ]
    },
    {
      "cell_type": "code",
      "execution_count": null,
      "metadata": {
        "colab": {
          "base_uri": "https://localhost:8080/"
        },
        "id": "GeOwZqYGsv1E",
        "outputId": "6ec6bb6c-6a53-4845-d5a8-5994a4ae7353"
      },
      "outputs": [
        {
          "data": {
            "text/plain": [
              "array([50.78453704, 51.32555208, 60.11847144, 56.03292318, 56.59112405,\n",
              "       56.14460067, 59.39188104, 56.26380532, 66.80736223, 48.74553151,\n",
              "       56.53456083, 56.99487368, 51.42030101, 50.34092101, 62.46290322,\n",
              "       56.47748784, 55.15311376, 43.15008554, 53.50878736, 58.84653784,\n",
              "       58.60439341, 59.22931395, 55.0745403 , 60.50643751, 61.19286034,\n",
              "       58.9223157 , 55.66319887, 61.85975566, 54.80106413, 59.43598871])"
            ]
          },
          "execution_count": 81,
          "metadata": {},
          "output_type": "execute_result"
        }
      ],
      "source": [
        "rg_beef_samples"
      ]
    },
    {
      "cell_type": "code",
      "execution_count": null,
      "metadata": {
        "id": "5ucmwk0ysETe"
      },
      "outputs": [],
      "source": [
        "# One-sample t-test\n",
        "t_stat, p_val = stats.ttest_1samp(rg_beef_samples, 50)"
      ]
    },
    {
      "cell_type": "code",
      "execution_count": null,
      "metadata": {
        "colab": {
          "base_uri": "https://localhost:8080/"
        },
        "id": "lFrJRe_usAjF",
        "outputId": "fa7388d1-40c4-4c94-8cc2-226e542e423f"
      },
      "outputs": [
        {
          "name": "stdout",
          "output_type": "stream",
          "text": [
            "T-statistic: 7.475324406661205\n"
          ]
        }
      ],
      "source": [
        "print(\"T-statistic:\", t_stat)"
      ]
    },
    {
      "cell_type": "code",
      "execution_count": null,
      "metadata": {
        "colab": {
          "base_uri": "https://localhost:8080/"
        },
        "id": "xFUFgoBMtFi-",
        "outputId": "bdb4ff81-69d1-4307-ac47-24d26f768a18"
      },
      "outputs": [
        {
          "name": "stdout",
          "output_type": "stream",
          "text": [
            "P-value: 3.0748416060618494e-08\n"
          ]
        }
      ],
      "source": [
        "print(\"P-value:\", p_val)"
      ]
    },
    {
      "cell_type": "markdown",
      "metadata": {
        "id": "hBUoR10QtPx2"
      },
      "source": [
        "Interpretation for Students:\n",
        "\n",
        "If p < 0.05, reject H₀ → beef consumption differs significantly.\n",
        "\n",
        "If p ≥ 0.05, fail to reject H₀."
      ]
    },
    {
      "cell_type": "markdown",
      "metadata": {
        "id": "V_66E9_8uaua"
      },
      "source": [
        "#### Correlation Analysis"
      ]
    },
    {
      "cell_type": "markdown",
      "metadata": {
        "id": "9FFnCndeucg8"
      },
      "source": [
        "Is there a relationship between food consumption and CO₂ emissions?"
      ]
    },
    {
      "cell_type": "markdown",
      "metadata": {
        "id": "EoRz0jwcunfS"
      },
      "source": [
        "H₀: No correlation between consumption and CO₂ emission\n",
        "\n",
        "H₁: There is a relationship correlation"
      ]
    },
    {
      "cell_type": "code",
      "execution_count": null,
      "metadata": {
        "id": "zkwBWrOmugx6"
      },
      "outputs": [],
      "source": [
        "corr, p_val = stats.pearsonr(df[\"consumption\"], df[\"co2_emission\"])\n",
        "\n"
      ]
    },
    {
      "cell_type": "code",
      "execution_count": null,
      "metadata": {
        "colab": {
          "base_uri": "https://localhost:8080/"
        },
        "id": "ga5vZ150uuD1",
        "outputId": "af6a7bb3-c732-4dec-e082-96c297da37bf"
      },
      "outputs": [
        {
          "name": "stdout",
          "output_type": "stream",
          "text": [
            "Correlation Coefficient: 0.334250704433365\n"
          ]
        }
      ],
      "source": [
        "\n",
        "print(\"Correlation Coefficient:\", corr)\n"
      ]
    },
    {
      "cell_type": "code",
      "execution_count": null,
      "metadata": {
        "colab": {
          "base_uri": "https://localhost:8080/"
        },
        "id": "pBSzod6Guvvt",
        "outputId": "04aae347-435c-4e06-fcd0-0d536f72c3fb"
      },
      "outputs": [
        {
          "name": "stdout",
          "output_type": "stream",
          "text": [
            "P-value: 1.1519382934887868e-38\n"
          ]
        }
      ],
      "source": [
        "print(\"P-value:\", p_val)"
      ]
    },
    {
      "cell_type": "markdown",
      "metadata": {
        "id": "eP9NAmYJu1ZJ"
      },
      "source": [
        "Interpretation:\n",
        "\n",
        "Correlation coefficient (r):\n",
        "\n",
        "Close to 1 → strong positive relation\n",
        "\n",
        "Close to -1 → strong negative relation\n",
        "\n",
        "Around 0 → no relation\n",
        "\n",
        "If p < 0.05, correlation is statistically significant."
      ]
    },
    {
      "cell_type": "code",
      "execution_count": null,
      "metadata": {
        "colab": {
          "base_uri": "https://localhost:8080/",
          "height": 564
        },
        "collapsed": true,
        "id": "vlMbweIYu3pV",
        "outputId": "93a3d59f-192d-4a4a-c9e5-6a357aa86ac0"
      },
      "outputs": [
        {
          "data": {
            "image/png": "[encoded data removed]",
            "text/plain": [
              "<Figure size 800x600 with 1 Axes>"
            ]
          },
          "metadata": {},
          "output_type": "display_data"
        }
      ],
      "source": [
        "plt.figure(figsize=(8,6))\n",
        "sns.scatterplot(x=\"consumption\", y=\"co2_emission\", data=df)\n",
        "plt.title(\"Consumption vs CO₂ Emission\")\n",
        "plt.show()"
      ]
    },
    {
      "cell_type": "markdown",
      "metadata": {
        "id": "fouBNOEN46Oo"
      },
      "source": [
        "### Task:\n",
        "\n",
        "Is the beef consumption in Argentina significantly different from that in Bangladesh?\n",
        "\n",
        "H₀: Mean beef consumption (Argentina) = Mean beef consumption (Bangladesh)\n",
        "\n",
        "H₁: Mean beef consumption (Argentina) ≠ Mean beef consumption (Bangladesh)"
      ]
    },
    {
      "cell_type": "markdown",
      "metadata": {
        "id": "r4M85NUevkAi"
      },
      "source": [
        "# Question 1"
      ]
    },
    {
      "cell_type": "markdown",
      "metadata": {},
      "source": [
        "uhgruhgiu"
      ]
    },
    {
      "cell_type": "markdown",
      "metadata": {},
      "source": [
        "ugeugruhgOIR"
      ]
    },
    {
      "cell_type": "markdown",
      "metadata": {},
      "source": [
        "UGUighiu"
      ]
    },
    {
      "cell_type": "markdown",
      "metadata": {},
      "source": []
    }
  ],
  "metadata": {
    "colab": {
      "provenance": []
    },
    "kernelspec": {
      "display_name": "Osisami",
      "language": "python",
      "name": "python3"
    },
    "language_info": {
      "codemirror_mode": {
        "name": "ipython",
        "version": 3
      },
      "file_extension": ".py",
      "mimetype": "text/x-python",
      "name": "python",
      "nbconvert_exporter": "python",
      "pygments_lexer": "ipython3",
      "version": "3.13.7"
    }
  },
  "nbformat": 4,
  "nbformat_minor": 0
}
